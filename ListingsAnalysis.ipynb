{
 "cells": [
  {
   "cell_type": "markdown",
   "metadata": {},
   "source": [
    "# Analysis of listings\n",
    "\n",
    "The notebook consists of \n",
    "- **Data cleaning steps**, \n",
    "- **Creating a Correlation Matrix**,\n",
    "- **Building a Regression and Decision Tree model**,\n",
    "- **Visualizing the Regression Model and the Word Cloud**.\n",
    "- The notebook also contains **Future directions** that are crucial to improve the performance of the pricing model."
   ]
  },
  {
   "cell_type": "code",
   "execution_count": 169,
   "metadata": {},
   "outputs": [
    {
     "name": "stdout",
     "output_type": "stream",
     "text": [
      "Requirement already satisfied: monthdelta in c:\\anaconda3\\lib\\site-packages\n",
      "Requirement already satisfied: wordcloud in c:\\anaconda3\\lib\\site-packages\n",
      "Requirement already satisfied: numpy>=1.6.1 in c:\\anaconda3\\lib\\site-packages (from wordcloud)\n",
      "Requirement already satisfied: pillow in c:\\anaconda3\\lib\\site-packages (from wordcloud)\n"
     ]
    },
    {
     "name": "stderr",
     "output_type": "stream",
     "text": [
      "You are using pip version 9.0.1, however version 18.1 is available.\n",
      "You should consider upgrading via the 'python -m pip install --upgrade pip' command.\n"
     ]
    }
   ],
   "source": [
    "! pip install monthdelta wordcloud\n",
    "# older version of scipy had a bug, I had to upgrade it\n",
    "#! pip install scipy --upgrade"
   ]
  },
  {
   "cell_type": "code",
   "execution_count": 2,
   "metadata": {
    "collapsed": true
   },
   "outputs": [],
   "source": [
    "import pandas as pd\n",
    "import numpy as np\n",
    "import matplotlib.pyplot as plt\n",
    "import matplotlib as mpl\n",
    "import seaborn as sns\n",
    "%matplotlib inline"
   ]
  },
  {
   "cell_type": "markdown",
   "metadata": {},
   "source": [
    "# Data cleaning and preparations"
   ]
  },
  {
   "cell_type": "code",
   "execution_count": 3,
   "metadata": {},
   "outputs": [
    {
     "name": "stdout",
     "output_type": "stream",
     "text": [
      "<class 'pandas.core.frame.DataFrame'>\n"
     ]
    },
    {
     "data": {
      "text/html": [
       "<div>\n",
       "<style scoped>\n",
       "    .dataframe tbody tr th:only-of-type {\n",
       "        vertical-align: middle;\n",
       "    }\n",
       "\n",
       "    .dataframe tbody tr th {\n",
       "        vertical-align: top;\n",
       "    }\n",
       "\n",
       "    .dataframe thead th {\n",
       "        text-align: right;\n",
       "    }\n",
       "</style>\n",
       "<table border=\"1\" class=\"dataframe\">\n",
       "  <thead>\n",
       "    <tr style=\"text-align: right;\">\n",
       "      <th></th>\n",
       "      <th>listing_url</th>\n",
       "      <th>scrape_id</th>\n",
       "      <th>last_scraped</th>\n",
       "      <th>name</th>\n",
       "      <th>summary</th>\n",
       "      <th>space</th>\n",
       "      <th>description</th>\n",
       "      <th>experiences_offered</th>\n",
       "      <th>neighborhood_overview</th>\n",
       "      <th>notes</th>\n",
       "      <th>...</th>\n",
       "      <th>requires_license</th>\n",
       "      <th>license</th>\n",
       "      <th>jurisdiction_names</th>\n",
       "      <th>instant_bookable</th>\n",
       "      <th>is_business_travel_ready</th>\n",
       "      <th>cancellation_policy</th>\n",
       "      <th>require_guest_profile_picture</th>\n",
       "      <th>require_guest_phone_verification</th>\n",
       "      <th>calculated_host_listings_count</th>\n",
       "      <th>reviews_per_month</th>\n",
       "    </tr>\n",
       "    <tr>\n",
       "      <th>id</th>\n",
       "      <th></th>\n",
       "      <th></th>\n",
       "      <th></th>\n",
       "      <th></th>\n",
       "      <th></th>\n",
       "      <th></th>\n",
       "      <th></th>\n",
       "      <th></th>\n",
       "      <th></th>\n",
       "      <th></th>\n",
       "      <th></th>\n",
       "      <th></th>\n",
       "      <th></th>\n",
       "      <th></th>\n",
       "      <th></th>\n",
       "      <th></th>\n",
       "      <th></th>\n",
       "      <th></th>\n",
       "      <th></th>\n",
       "      <th></th>\n",
       "      <th></th>\n",
       "    </tr>\n",
       "  </thead>\n",
       "  <tbody>\n",
       "    <tr>\n",
       "      <th>2818</th>\n",
       "      <td>https://www.airbnb.com/rooms/2818</td>\n",
       "      <td>20180807130159</td>\n",
       "      <td>2018-08-07</td>\n",
       "      <td>Quiet Garden View Room &amp; Super Fast WiFi</td>\n",
       "      <td>Quiet Garden View Room &amp; Super Fast WiFi (up t...</td>\n",
       "      <td>I'm renting a bedroom (room overlooking the ga...</td>\n",
       "      <td>Quiet Garden View Room &amp; Super Fast WiFi (up t...</td>\n",
       "      <td>none</td>\n",
       "      <td>Indische Buurt (\"Indies Neighborhood\") is a ne...</td>\n",
       "      <td>NaN</td>\n",
       "      <td>...</td>\n",
       "      <td>f</td>\n",
       "      <td>NaN</td>\n",
       "      <td>{Amsterdam}</td>\n",
       "      <td>t</td>\n",
       "      <td>f</td>\n",
       "      <td>strict_14_with_grace_period</td>\n",
       "      <td>f</td>\n",
       "      <td>f</td>\n",
       "      <td>1</td>\n",
       "      <td>2.08</td>\n",
       "    </tr>\n",
       "    <tr>\n",
       "      <th>3209</th>\n",
       "      <td>https://www.airbnb.com/rooms/3209</td>\n",
       "      <td>20180807130159</td>\n",
       "      <td>2018-08-07</td>\n",
       "      <td>Quiet apt near center, great view</td>\n",
       "      <td>You will love our spacious (90 m2) bright apar...</td>\n",
       "      <td>Our apartment has lots of light, a balcony and...</td>\n",
       "      <td>You will love our spacious (90 m2) bright apar...</td>\n",
       "      <td>none</td>\n",
       "      <td>Welcome to the Spaarndammerbuurt! From the beg...</td>\n",
       "      <td>NaN</td>\n",
       "      <td>...</td>\n",
       "      <td>f</td>\n",
       "      <td>NaN</td>\n",
       "      <td>{Amsterdam}</td>\n",
       "      <td>f</td>\n",
       "      <td>f</td>\n",
       "      <td>moderate</td>\n",
       "      <td>f</td>\n",
       "      <td>f</td>\n",
       "      <td>1</td>\n",
       "      <td>1.09</td>\n",
       "    </tr>\n",
       "    <tr>\n",
       "      <th>20168</th>\n",
       "      <td>https://www.airbnb.com/rooms/20168</td>\n",
       "      <td>20180807130159</td>\n",
       "      <td>2018-08-07</td>\n",
       "      <td>100%Centre-Private Floor/Bathroom-Lockable Studio</td>\n",
       "      <td>Cozy, very private and on your own private flo...</td>\n",
       "      <td>For those who like all facets of city life. In...</td>\n",
       "      <td>Cozy, very private and on your own private flo...</td>\n",
       "      <td>none</td>\n",
       "      <td>Located just in between famous central canals....</td>\n",
       "      <td>Check-in time from 2pm till 10pm Checkout anyt...</td>\n",
       "      <td>...</td>\n",
       "      <td>f</td>\n",
       "      <td>NaN</td>\n",
       "      <td>{Amsterdam}</td>\n",
       "      <td>f</td>\n",
       "      <td>f</td>\n",
       "      <td>strict_14_with_grace_period</td>\n",
       "      <td>f</td>\n",
       "      <td>f</td>\n",
       "      <td>2</td>\n",
       "      <td>2.09</td>\n",
       "    </tr>\n",
       "    <tr>\n",
       "      <th>25428</th>\n",
       "      <td>https://www.airbnb.com/rooms/25428</td>\n",
       "      <td>20180807130159</td>\n",
       "      <td>2018-08-07</td>\n",
       "      <td>Lovely apt in City Centre (Jordaan)</td>\n",
       "      <td>NaN</td>\n",
       "      <td>This nicely furnished, newly renovated apt  is...</td>\n",
       "      <td>This nicely furnished, newly renovated apt  is...</td>\n",
       "      <td>none</td>\n",
       "      <td>NaN</td>\n",
       "      <td>NaN</td>\n",
       "      <td>...</td>\n",
       "      <td>f</td>\n",
       "      <td>NaN</td>\n",
       "      <td>{Amsterdam}</td>\n",
       "      <td>f</td>\n",
       "      <td>f</td>\n",
       "      <td>strict_14_with_grace_period</td>\n",
       "      <td>f</td>\n",
       "      <td>f</td>\n",
       "      <td>2</td>\n",
       "      <td>0.15</td>\n",
       "    </tr>\n",
       "    <tr>\n",
       "      <th>27886</th>\n",
       "      <td>https://www.airbnb.com/rooms/27886</td>\n",
       "      <td>20180807130159</td>\n",
       "      <td>2018-08-07</td>\n",
       "      <td>Romantic, stylish B&amp;B houseboat in canal district</td>\n",
       "      <td>Stylish and romantic houseboat on fantastic hi...</td>\n",
       "      <td>For a romantic couple: A beautifully restored ...</td>\n",
       "      <td>Stylish and romantic houseboat on fantastic hi...</td>\n",
       "      <td>none</td>\n",
       "      <td>Central, quiet, safe, clean and beautiful.</td>\n",
       "      <td>we have a canadian canoe for you as well, free...</td>\n",
       "      <td>...</td>\n",
       "      <td>f</td>\n",
       "      <td>NaN</td>\n",
       "      <td>{Amsterdam}</td>\n",
       "      <td>t</td>\n",
       "      <td>f</td>\n",
       "      <td>strict_14_with_grace_period</td>\n",
       "      <td>f</td>\n",
       "      <td>f</td>\n",
       "      <td>1</td>\n",
       "      <td>1.92</td>\n",
       "    </tr>\n",
       "  </tbody>\n",
       "</table>\n",
       "<p>5 rows × 95 columns</p>\n",
       "</div>"
      ],
      "text/plain": [
       "                              listing_url       scrape_id last_scraped  \\\n",
       "id                                                                       \n",
       "2818    https://www.airbnb.com/rooms/2818  20180807130159   2018-08-07   \n",
       "3209    https://www.airbnb.com/rooms/3209  20180807130159   2018-08-07   \n",
       "20168  https://www.airbnb.com/rooms/20168  20180807130159   2018-08-07   \n",
       "25428  https://www.airbnb.com/rooms/25428  20180807130159   2018-08-07   \n",
       "27886  https://www.airbnb.com/rooms/27886  20180807130159   2018-08-07   \n",
       "\n",
       "                                                    name  \\\n",
       "id                                                         \n",
       "2818            Quiet Garden View Room & Super Fast WiFi   \n",
       "3209                   Quiet apt near center, great view   \n",
       "20168  100%Centre-Private Floor/Bathroom-Lockable Studio   \n",
       "25428                Lovely apt in City Centre (Jordaan)   \n",
       "27886  Romantic, stylish B&B houseboat in canal district   \n",
       "\n",
       "                                                 summary  \\\n",
       "id                                                         \n",
       "2818   Quiet Garden View Room & Super Fast WiFi (up t...   \n",
       "3209   You will love our spacious (90 m2) bright apar...   \n",
       "20168  Cozy, very private and on your own private flo...   \n",
       "25428                                                NaN   \n",
       "27886  Stylish and romantic houseboat on fantastic hi...   \n",
       "\n",
       "                                                   space  \\\n",
       "id                                                         \n",
       "2818   I'm renting a bedroom (room overlooking the ga...   \n",
       "3209   Our apartment has lots of light, a balcony and...   \n",
       "20168  For those who like all facets of city life. In...   \n",
       "25428  This nicely furnished, newly renovated apt  is...   \n",
       "27886  For a romantic couple: A beautifully restored ...   \n",
       "\n",
       "                                             description experiences_offered  \\\n",
       "id                                                                             \n",
       "2818   Quiet Garden View Room & Super Fast WiFi (up t...                none   \n",
       "3209   You will love our spacious (90 m2) bright apar...                none   \n",
       "20168  Cozy, very private and on your own private flo...                none   \n",
       "25428  This nicely furnished, newly renovated apt  is...                none   \n",
       "27886  Stylish and romantic houseboat on fantastic hi...                none   \n",
       "\n",
       "                                   neighborhood_overview  \\\n",
       "id                                                         \n",
       "2818   Indische Buurt (\"Indies Neighborhood\") is a ne...   \n",
       "3209   Welcome to the Spaarndammerbuurt! From the beg...   \n",
       "20168  Located just in between famous central canals....   \n",
       "25428                                                NaN   \n",
       "27886         Central, quiet, safe, clean and beautiful.   \n",
       "\n",
       "                                                   notes        ...         \\\n",
       "id                                                              ...          \n",
       "2818                                                 NaN        ...          \n",
       "3209                                                 NaN        ...          \n",
       "20168  Check-in time from 2pm till 10pm Checkout anyt...        ...          \n",
       "25428                                                NaN        ...          \n",
       "27886  we have a canadian canoe for you as well, free...        ...          \n",
       "\n",
       "      requires_license license jurisdiction_names instant_bookable  \\\n",
       "id                                                                   \n",
       "2818                 f     NaN        {Amsterdam}                t   \n",
       "3209                 f     NaN        {Amsterdam}                f   \n",
       "20168                f     NaN        {Amsterdam}                f   \n",
       "25428                f     NaN        {Amsterdam}                f   \n",
       "27886                f     NaN        {Amsterdam}                t   \n",
       "\n",
       "       is_business_travel_ready          cancellation_policy  \\\n",
       "id                                                             \n",
       "2818                          f  strict_14_with_grace_period   \n",
       "3209                          f                     moderate   \n",
       "20168                         f  strict_14_with_grace_period   \n",
       "25428                         f  strict_14_with_grace_period   \n",
       "27886                         f  strict_14_with_grace_period   \n",
       "\n",
       "      require_guest_profile_picture  require_guest_phone_verification  \\\n",
       "id                                                                      \n",
       "2818                              f                                 f   \n",
       "3209                              f                                 f   \n",
       "20168                             f                                 f   \n",
       "25428                             f                                 f   \n",
       "27886                             f                                 f   \n",
       "\n",
       "       calculated_host_listings_count reviews_per_month  \n",
       "id                                                       \n",
       "2818                                1              2.08  \n",
       "3209                                1              1.09  \n",
       "20168                               2              2.09  \n",
       "25428                               2              0.15  \n",
       "27886                               1              1.92  \n",
       "\n",
       "[5 rows x 95 columns]"
      ]
     },
     "execution_count": 3,
     "metadata": {},
     "output_type": "execute_result"
    }
   ],
   "source": [
    "listings = pd.read_csv('./listings.csv', sep=',', index_col='id')\n",
    "print(type(listings))\n",
    "listings.head(5)"
   ]
  },
  {
   "cell_type": "code",
   "execution_count": 4,
   "metadata": {},
   "outputs": [
    {
     "data": {
      "text/html": [
       "<div>\n",
       "<style scoped>\n",
       "    .dataframe tbody tr th:only-of-type {\n",
       "        vertical-align: middle;\n",
       "    }\n",
       "\n",
       "    .dataframe tbody tr th {\n",
       "        vertical-align: top;\n",
       "    }\n",
       "\n",
       "    .dataframe thead th {\n",
       "        text-align: right;\n",
       "    }\n",
       "</style>\n",
       "<table border=\"1\" class=\"dataframe\">\n",
       "  <thead>\n",
       "    <tr style=\"text-align: right;\">\n",
       "      <th></th>\n",
       "      <th>scrape_id</th>\n",
       "      <th>thumbnail_url</th>\n",
       "      <th>medium_url</th>\n",
       "      <th>xl_picture_url</th>\n",
       "      <th>host_id</th>\n",
       "      <th>host_acceptance_rate</th>\n",
       "      <th>host_listings_count</th>\n",
       "      <th>host_total_listings_count</th>\n",
       "      <th>neighbourhood_group_cleansed</th>\n",
       "      <th>latitude</th>\n",
       "      <th>...</th>\n",
       "      <th>review_scores_rating</th>\n",
       "      <th>review_scores_accuracy</th>\n",
       "      <th>review_scores_cleanliness</th>\n",
       "      <th>review_scores_checkin</th>\n",
       "      <th>review_scores_communication</th>\n",
       "      <th>review_scores_location</th>\n",
       "      <th>review_scores_value</th>\n",
       "      <th>license</th>\n",
       "      <th>calculated_host_listings_count</th>\n",
       "      <th>reviews_per_month</th>\n",
       "    </tr>\n",
       "  </thead>\n",
       "  <tbody>\n",
       "    <tr>\n",
       "      <th>count</th>\n",
       "      <td>2.011400e+04</td>\n",
       "      <td>0.0</td>\n",
       "      <td>0.0</td>\n",
       "      <td>0.0</td>\n",
       "      <td>2.011400e+04</td>\n",
       "      <td>0.0</td>\n",
       "      <td>20109.000000</td>\n",
       "      <td>20109.000000</td>\n",
       "      <td>0.0</td>\n",
       "      <td>20114.000000</td>\n",
       "      <td>...</td>\n",
       "      <td>17401.000000</td>\n",
       "      <td>17385.000000</td>\n",
       "      <td>17389.000000</td>\n",
       "      <td>17371.000000</td>\n",
       "      <td>17385.000000</td>\n",
       "      <td>17372.000000</td>\n",
       "      <td>17371.000000</td>\n",
       "      <td>0.0</td>\n",
       "      <td>20114.000000</td>\n",
       "      <td>17669.000000</td>\n",
       "    </tr>\n",
       "    <tr>\n",
       "      <th>mean</th>\n",
       "      <td>2.018081e+13</td>\n",
       "      <td>NaN</td>\n",
       "      <td>NaN</td>\n",
       "      <td>NaN</td>\n",
       "      <td>4.583641e+07</td>\n",
       "      <td>NaN</td>\n",
       "      <td>6.188721</td>\n",
       "      <td>6.188721</td>\n",
       "      <td>NaN</td>\n",
       "      <td>52.365237</td>\n",
       "      <td>...</td>\n",
       "      <td>94.593702</td>\n",
       "      <td>9.652459</td>\n",
       "      <td>9.441601</td>\n",
       "      <td>9.705486</td>\n",
       "      <td>9.749152</td>\n",
       "      <td>9.387347</td>\n",
       "      <td>9.166887</td>\n",
       "      <td>NaN</td>\n",
       "      <td>5.113851</td>\n",
       "      <td>1.100457</td>\n",
       "    </tr>\n",
       "    <tr>\n",
       "      <th>std</th>\n",
       "      <td>6.250155e-02</td>\n",
       "      <td>NaN</td>\n",
       "      <td>NaN</td>\n",
       "      <td>NaN</td>\n",
       "      <td>5.130979e+07</td>\n",
       "      <td>NaN</td>\n",
       "      <td>25.152015</td>\n",
       "      <td>25.152015</td>\n",
       "      <td>NaN</td>\n",
       "      <td>0.015951</td>\n",
       "      <td>...</td>\n",
       "      <td>6.923745</td>\n",
       "      <td>0.717771</td>\n",
       "      <td>0.897237</td>\n",
       "      <td>0.697279</td>\n",
       "      <td>0.661418</td>\n",
       "      <td>0.751126</td>\n",
       "      <td>0.825235</td>\n",
       "      <td>NaN</td>\n",
       "      <td>20.281751</td>\n",
       "      <td>1.345307</td>\n",
       "    </tr>\n",
       "    <tr>\n",
       "      <th>min</th>\n",
       "      <td>2.018081e+13</td>\n",
       "      <td>NaN</td>\n",
       "      <td>NaN</td>\n",
       "      <td>NaN</td>\n",
       "      <td>3.159000e+03</td>\n",
       "      <td>NaN</td>\n",
       "      <td>0.000000</td>\n",
       "      <td>0.000000</td>\n",
       "      <td>NaN</td>\n",
       "      <td>52.289274</td>\n",
       "      <td>...</td>\n",
       "      <td>20.000000</td>\n",
       "      <td>2.000000</td>\n",
       "      <td>2.000000</td>\n",
       "      <td>2.000000</td>\n",
       "      <td>2.000000</td>\n",
       "      <td>2.000000</td>\n",
       "      <td>2.000000</td>\n",
       "      <td>NaN</td>\n",
       "      <td>1.000000</td>\n",
       "      <td>0.010000</td>\n",
       "    </tr>\n",
       "    <tr>\n",
       "      <th>25%</th>\n",
       "      <td>2.018081e+13</td>\n",
       "      <td>NaN</td>\n",
       "      <td>NaN</td>\n",
       "      <td>NaN</td>\n",
       "      <td>7.945941e+06</td>\n",
       "      <td>NaN</td>\n",
       "      <td>1.000000</td>\n",
       "      <td>1.000000</td>\n",
       "      <td>NaN</td>\n",
       "      <td>52.355120</td>\n",
       "      <td>...</td>\n",
       "      <td>93.000000</td>\n",
       "      <td>9.000000</td>\n",
       "      <td>9.000000</td>\n",
       "      <td>10.000000</td>\n",
       "      <td>10.000000</td>\n",
       "      <td>9.000000</td>\n",
       "      <td>9.000000</td>\n",
       "      <td>NaN</td>\n",
       "      <td>1.000000</td>\n",
       "      <td>0.280000</td>\n",
       "    </tr>\n",
       "    <tr>\n",
       "      <th>50%</th>\n",
       "      <td>2.018081e+13</td>\n",
       "      <td>NaN</td>\n",
       "      <td>NaN</td>\n",
       "      <td>NaN</td>\n",
       "      <td>2.312281e+07</td>\n",
       "      <td>NaN</td>\n",
       "      <td>1.000000</td>\n",
       "      <td>1.000000</td>\n",
       "      <td>NaN</td>\n",
       "      <td>52.364579</td>\n",
       "      <td>...</td>\n",
       "      <td>96.000000</td>\n",
       "      <td>10.000000</td>\n",
       "      <td>10.000000</td>\n",
       "      <td>10.000000</td>\n",
       "      <td>10.000000</td>\n",
       "      <td>10.000000</td>\n",
       "      <td>9.000000</td>\n",
       "      <td>NaN</td>\n",
       "      <td>1.000000</td>\n",
       "      <td>0.650000</td>\n",
       "    </tr>\n",
       "    <tr>\n",
       "      <th>75%</th>\n",
       "      <td>2.018081e+13</td>\n",
       "      <td>NaN</td>\n",
       "      <td>NaN</td>\n",
       "      <td>NaN</td>\n",
       "      <td>6.708549e+07</td>\n",
       "      <td>NaN</td>\n",
       "      <td>1.000000</td>\n",
       "      <td>1.000000</td>\n",
       "      <td>NaN</td>\n",
       "      <td>52.375014</td>\n",
       "      <td>...</td>\n",
       "      <td>100.000000</td>\n",
       "      <td>10.000000</td>\n",
       "      <td>10.000000</td>\n",
       "      <td>10.000000</td>\n",
       "      <td>10.000000</td>\n",
       "      <td>10.000000</td>\n",
       "      <td>10.000000</td>\n",
       "      <td>NaN</td>\n",
       "      <td>1.000000</td>\n",
       "      <td>1.290000</td>\n",
       "    </tr>\n",
       "    <tr>\n",
       "      <th>max</th>\n",
       "      <td>2.018081e+13</td>\n",
       "      <td>NaN</td>\n",
       "      <td>NaN</td>\n",
       "      <td>NaN</td>\n",
       "      <td>2.079775e+08</td>\n",
       "      <td>NaN</td>\n",
       "      <td>629.000000</td>\n",
       "      <td>629.000000</td>\n",
       "      <td>NaN</td>\n",
       "      <td>52.428882</td>\n",
       "      <td>...</td>\n",
       "      <td>100.000000</td>\n",
       "      <td>10.000000</td>\n",
       "      <td>10.000000</td>\n",
       "      <td>10.000000</td>\n",
       "      <td>10.000000</td>\n",
       "      <td>10.000000</td>\n",
       "      <td>10.000000</td>\n",
       "      <td>NaN</td>\n",
       "      <td>162.000000</td>\n",
       "      <td>12.000000</td>\n",
       "    </tr>\n",
       "  </tbody>\n",
       "</table>\n",
       "<p>8 rows × 34 columns</p>\n",
       "</div>"
      ],
      "text/plain": [
       "          scrape_id  thumbnail_url  medium_url  xl_picture_url       host_id  \\\n",
       "count  2.011400e+04            0.0         0.0             0.0  2.011400e+04   \n",
       "mean   2.018081e+13            NaN         NaN             NaN  4.583641e+07   \n",
       "std    6.250155e-02            NaN         NaN             NaN  5.130979e+07   \n",
       "min    2.018081e+13            NaN         NaN             NaN  3.159000e+03   \n",
       "25%    2.018081e+13            NaN         NaN             NaN  7.945941e+06   \n",
       "50%    2.018081e+13            NaN         NaN             NaN  2.312281e+07   \n",
       "75%    2.018081e+13            NaN         NaN             NaN  6.708549e+07   \n",
       "max    2.018081e+13            NaN         NaN             NaN  2.079775e+08   \n",
       "\n",
       "       host_acceptance_rate  host_listings_count  host_total_listings_count  \\\n",
       "count                   0.0         20109.000000               20109.000000   \n",
       "mean                    NaN             6.188721                   6.188721   \n",
       "std                     NaN            25.152015                  25.152015   \n",
       "min                     NaN             0.000000                   0.000000   \n",
       "25%                     NaN             1.000000                   1.000000   \n",
       "50%                     NaN             1.000000                   1.000000   \n",
       "75%                     NaN             1.000000                   1.000000   \n",
       "max                     NaN           629.000000                 629.000000   \n",
       "\n",
       "       neighbourhood_group_cleansed      latitude        ...          \\\n",
       "count                           0.0  20114.000000        ...           \n",
       "mean                            NaN     52.365237        ...           \n",
       "std                             NaN      0.015951        ...           \n",
       "min                             NaN     52.289274        ...           \n",
       "25%                             NaN     52.355120        ...           \n",
       "50%                             NaN     52.364579        ...           \n",
       "75%                             NaN     52.375014        ...           \n",
       "max                             NaN     52.428882        ...           \n",
       "\n",
       "       review_scores_rating  review_scores_accuracy  \\\n",
       "count          17401.000000            17385.000000   \n",
       "mean              94.593702                9.652459   \n",
       "std                6.923745                0.717771   \n",
       "min               20.000000                2.000000   \n",
       "25%               93.000000                9.000000   \n",
       "50%               96.000000               10.000000   \n",
       "75%              100.000000               10.000000   \n",
       "max              100.000000               10.000000   \n",
       "\n",
       "       review_scores_cleanliness  review_scores_checkin  \\\n",
       "count               17389.000000           17371.000000   \n",
       "mean                    9.441601               9.705486   \n",
       "std                     0.897237               0.697279   \n",
       "min                     2.000000               2.000000   \n",
       "25%                     9.000000              10.000000   \n",
       "50%                    10.000000              10.000000   \n",
       "75%                    10.000000              10.000000   \n",
       "max                    10.000000              10.000000   \n",
       "\n",
       "       review_scores_communication  review_scores_location  \\\n",
       "count                 17385.000000            17372.000000   \n",
       "mean                      9.749152                9.387347   \n",
       "std                       0.661418                0.751126   \n",
       "min                       2.000000                2.000000   \n",
       "25%                      10.000000                9.000000   \n",
       "50%                      10.000000               10.000000   \n",
       "75%                      10.000000               10.000000   \n",
       "max                      10.000000               10.000000   \n",
       "\n",
       "       review_scores_value  license  calculated_host_listings_count  \\\n",
       "count         17371.000000      0.0                    20114.000000   \n",
       "mean              9.166887      NaN                        5.113851   \n",
       "std               0.825235      NaN                       20.281751   \n",
       "min               2.000000      NaN                        1.000000   \n",
       "25%               9.000000      NaN                        1.000000   \n",
       "50%               9.000000      NaN                        1.000000   \n",
       "75%              10.000000      NaN                        1.000000   \n",
       "max              10.000000      NaN                      162.000000   \n",
       "\n",
       "       reviews_per_month  \n",
       "count       17669.000000  \n",
       "mean            1.100457  \n",
       "std             1.345307  \n",
       "min             0.010000  \n",
       "25%             0.280000  \n",
       "50%             0.650000  \n",
       "75%             1.290000  \n",
       "max            12.000000  \n",
       "\n",
       "[8 rows x 34 columns]"
      ]
     },
     "execution_count": 4,
     "metadata": {},
     "output_type": "execute_result"
    }
   ],
   "source": [
    "listings.describe()"
   ]
  },
  {
   "cell_type": "markdown",
   "metadata": {},
   "source": [
    "Drop those columns that don't have any value in them"
   ]
  },
  {
   "cell_type": "code",
   "execution_count": 5,
   "metadata": {
    "collapsed": true
   },
   "outputs": [],
   "source": [
    "listings=listings.dropna(axis='columns', how='all')"
   ]
  },
  {
   "cell_type": "code",
   "execution_count": 6,
   "metadata": {
    "collapsed": true
   },
   "outputs": [],
   "source": [
    "listings=pd.DataFrame(listings)"
   ]
  },
  {
   "cell_type": "code",
   "execution_count": 7,
   "metadata": {
    "scrolled": true
   },
   "outputs": [
    {
     "name": "stdout",
     "output_type": "stream",
     "text": [
      "<class 'pandas.core.frame.DataFrame'>\n",
      "Int64Index: 20114 entries, 2818 to 27565537\n",
      "Data columns (total 89 columns):\n",
      "listing_url                         20114 non-null object\n",
      "scrape_id                           20114 non-null int64\n",
      "last_scraped                        20114 non-null object\n",
      "name                                20075 non-null object\n",
      "summary                             19590 non-null object\n",
      "space                               14738 non-null object\n",
      "description                         20006 non-null object\n",
      "experiences_offered                 20114 non-null object\n",
      "neighborhood_overview               13375 non-null object\n",
      "notes                               9133 non-null object\n",
      "transit                             13506 non-null object\n",
      "access                              12469 non-null object\n",
      "interaction                         12134 non-null object\n",
      "house_rules                         12533 non-null object\n",
      "picture_url                         20114 non-null object\n",
      "host_id                             20114 non-null int64\n",
      "host_url                            20114 non-null object\n",
      "host_name                           20109 non-null object\n",
      "host_since                          20109 non-null object\n",
      "host_location                       20065 non-null object\n",
      "host_about                          11969 non-null object\n",
      "host_response_time                  13090 non-null object\n",
      "host_response_rate                  13090 non-null object\n",
      "host_is_superhost                   20109 non-null object\n",
      "host_thumbnail_url                  20109 non-null object\n",
      "host_picture_url                    20109 non-null object\n",
      "host_neighbourhood                  14264 non-null object\n",
      "host_listings_count                 20109 non-null float64\n",
      "host_total_listings_count           20109 non-null float64\n",
      "host_verifications                  20114 non-null object\n",
      "host_has_profile_pic                20109 non-null object\n",
      "host_identity_verified              20109 non-null object\n",
      "street                              20114 non-null object\n",
      "neighbourhood                       18625 non-null object\n",
      "neighbourhood_cleansed              20114 non-null object\n",
      "city                                20112 non-null object\n",
      "state                               20058 non-null object\n",
      "zipcode                             19289 non-null object\n",
      "market                              20068 non-null object\n",
      "smart_location                      20114 non-null object\n",
      "country_code                        20114 non-null object\n",
      "country                             20114 non-null object\n",
      "latitude                            20114 non-null float64\n",
      "longitude                           20114 non-null float64\n",
      "is_location_exact                   20114 non-null object\n",
      "property_type                       20114 non-null object\n",
      "room_type                           20114 non-null object\n",
      "accommodates                        20114 non-null int64\n",
      "bathrooms                           20105 non-null float64\n",
      "bedrooms                            20107 non-null float64\n",
      "beds                                20108 non-null float64\n",
      "bed_type                            20114 non-null object\n",
      "amenities                           20114 non-null object\n",
      "square_feet                         423 non-null float64\n",
      "price                               20114 non-null object\n",
      "weekly_price                        3047 non-null object\n",
      "monthly_price                       1683 non-null object\n",
      "security_deposit                    13802 non-null object\n",
      "cleaning_fee                        16490 non-null object\n",
      "guests_included                     20114 non-null int64\n",
      "extra_people                        20114 non-null object\n",
      "minimum_nights                      20114 non-null int64\n",
      "maximum_nights                      20114 non-null int64\n",
      "calendar_updated                    20114 non-null object\n",
      "has_availability                    20114 non-null object\n",
      "availability_30                     20114 non-null int64\n",
      "availability_60                     20114 non-null int64\n",
      "availability_90                     20114 non-null int64\n",
      "availability_365                    20114 non-null int64\n",
      "calendar_last_scraped               20114 non-null object\n",
      "number_of_reviews                   20114 non-null int64\n",
      "first_review                        17669 non-null object\n",
      "last_review                         17671 non-null object\n",
      "review_scores_rating                17401 non-null float64\n",
      "review_scores_accuracy              17385 non-null float64\n",
      "review_scores_cleanliness           17389 non-null float64\n",
      "review_scores_checkin               17371 non-null float64\n",
      "review_scores_communication         17385 non-null float64\n",
      "review_scores_location              17372 non-null float64\n",
      "review_scores_value                 17371 non-null float64\n",
      "requires_license                    20114 non-null object\n",
      "jurisdiction_names                  19325 non-null object\n",
      "instant_bookable                    20114 non-null object\n",
      "is_business_travel_ready            20114 non-null object\n",
      "cancellation_policy                 20114 non-null object\n",
      "require_guest_profile_picture       20114 non-null object\n",
      "require_guest_phone_verification    20114 non-null object\n",
      "calculated_host_listings_count      20114 non-null int64\n",
      "reviews_per_month                   17669 non-null float64\n",
      "dtypes: float64(16), int64(12), object(61)\n",
      "memory usage: 13.8+ MB\n"
     ]
    }
   ],
   "source": [
    "listings.info()"
   ]
  },
  {
   "cell_type": "markdown",
   "metadata": {},
   "source": [
    "### Create dummies from weeakly and monthly prices"
   ]
  },
  {
   "cell_type": "markdown",
   "metadata": {},
   "source": [
    "These variables have many missings. When they have a value that supposedly means that the host set up a discount for a weekly or a monthly booking. That is why I decided to keep them as binary variables."
   ]
  },
  {
   "cell_type": "code",
   "execution_count": 8,
   "metadata": {},
   "outputs": [
    {
     "data": {
      "text/plain": [
       "id\n",
       "6282757    $1,000.00\n",
       "4065532    $1,000.00\n",
       "6553928    $1,000.00\n",
       "5560161    $1,000.00\n",
       "2485539    $1,000.00\n",
       "Name: weekly_price, dtype: object"
      ]
     },
     "execution_count": 8,
     "metadata": {},
     "output_type": "execute_result"
    }
   ],
   "source": [
    "listings['weekly_price'].sort_values().head()"
   ]
  },
  {
   "cell_type": "code",
   "execution_count": 9,
   "metadata": {},
   "outputs": [
    {
     "data": {
      "text/plain": [
       "id\n",
       "4556106    $1,000.00\n",
       "5951601    $1,000.00\n",
       "8435418    $1,000.00\n",
       "5388929    $1,000.00\n",
       "6109568    $1,000.00\n",
       "Name: monthly_price, dtype: object"
      ]
     },
     "execution_count": 9,
     "metadata": {},
     "output_type": "execute_result"
    }
   ],
   "source": [
    "listings['monthly_price'].sort_values().head()"
   ]
  },
  {
   "cell_type": "code",
   "execution_count": 10,
   "metadata": {
    "collapsed": true
   },
   "outputs": [],
   "source": [
    "listings['is_weekly_price'] = np.where(pd.notna(listings['weekly_price']), 1 , 0).astype('bool')"
   ]
  },
  {
   "cell_type": "code",
   "execution_count": 11,
   "metadata": {},
   "outputs": [
    {
     "data": {
      "text/plain": [
       "False    17067\n",
       "True      3047\n",
       "Name: is_weekly_price, dtype: int64"
      ]
     },
     "execution_count": 11,
     "metadata": {},
     "output_type": "execute_result"
    }
   ],
   "source": [
    "listings['is_weekly_price'].value_counts()"
   ]
  },
  {
   "cell_type": "code",
   "execution_count": 12,
   "metadata": {},
   "outputs": [
    {
     "data": {
      "text/plain": [
       "False    18431\n",
       "True      1683\n",
       "Name: is_monthly_price, dtype: int64"
      ]
     },
     "execution_count": 12,
     "metadata": {},
     "output_type": "execute_result"
    }
   ],
   "source": [
    "listings['is_monthly_price'] = np.where(pd.notna(listings['monthly_price']), 1 , 0).astype('bool')\n",
    "listings['is_monthly_price'].value_counts()"
   ]
  },
  {
   "cell_type": "markdown",
   "metadata": {},
   "source": [
    "### Deleting  columns"
   ]
  },
  {
   "cell_type": "markdown",
   "metadata": {},
   "source": [
    "Deleting columns that do not have information relevant to our analysis. Some of them were ids, urls or contained many missing values. Neighbourhood appears in several different forms, so I only kept the 'neighbourhood_clean' variable."
   ]
  },
  {
   "cell_type": "code",
   "execution_count": 13,
   "metadata": {
    "collapsed": true
   },
   "outputs": [],
   "source": [
    "listings=listings.drop(['name','scrape_id','listing_url','notes','square_feet','weekly_price','monthly_price','host_id','picture_url','host_url','host_thumbnail_url','host_picture_url','neighbourhood','host_neighbourhood'], axis=1)"
   ]
  },
  {
   "cell_type": "markdown",
   "metadata": {},
   "source": [
    "## Recoding date variables"
   ]
  },
  {
   "cell_type": "code",
   "execution_count": 14,
   "metadata": {
    "collapsed": true
   },
   "outputs": [],
   "source": [
    "import datetime"
   ]
  },
  {
   "cell_type": "code",
   "execution_count": 15,
   "metadata": {},
   "outputs": [
    {
     "data": {
      "text/plain": [
       "id\n",
       "2818     2009-03-30\n",
       "3209     2015-07-31\n",
       "20168    2010-03-02\n",
       "25428    2018-01-21\n",
       "27886    2012-01-09\n",
       "Name: first_review, dtype: object"
      ]
     },
     "execution_count": 15,
     "metadata": {},
     "output_type": "execute_result"
    }
   ],
   "source": [
    "listings['first_review'].head()"
   ]
  },
  {
   "cell_type": "code",
   "execution_count": 16,
   "metadata": {},
   "outputs": [
    {
     "data": {
      "text/plain": [
       "count          17669\n",
       "unique          1988\n",
       "top       2016-03-30\n",
       "freq              86\n",
       "Name: first_review, dtype: object"
      ]
     },
     "execution_count": 16,
     "metadata": {},
     "output_type": "execute_result"
    }
   ],
   "source": [
    "listings['first_review'].describe()"
   ]
  },
  {
   "cell_type": "code",
   "execution_count": 17,
   "metadata": {
    "collapsed": true
   },
   "outputs": [],
   "source": [
    "listings['first_review'] = pd.to_datetime(listings['first_review'])"
   ]
  },
  {
   "cell_type": "code",
   "execution_count": 18,
   "metadata": {
    "collapsed": true
   },
   "outputs": [],
   "source": [
    "# to see the seasonality, we will create a variable with only the month in it\n",
    "listings['first_review_month']=listings['first_review'].apply(lambda x: x.month)"
   ]
  },
  {
   "cell_type": "code",
   "execution_count": 19,
   "metadata": {
    "collapsed": true
   },
   "outputs": [],
   "source": [
    "listings['last_review'] = pd.to_datetime(listings['last_review'])"
   ]
  },
  {
   "cell_type": "code",
   "execution_count": 20,
   "metadata": {
    "collapsed": true
   },
   "outputs": [],
   "source": [
    "listings['last_review_month']=listings['last_review'].apply(lambda x: x.month)"
   ]
  },
  {
   "cell_type": "markdown",
   "metadata": {},
   "source": [
    "Today's value was gathered from the 'last_scrape' variable"
   ]
  },
  {
   "cell_type": "code",
   "execution_count": 21,
   "metadata": {
    "collapsed": true
   },
   "outputs": [],
   "source": [
    "today = datetime.datetime(2018,8,7)"
   ]
  },
  {
   "cell_type": "code",
   "execution_count": 22,
   "metadata": {
    "collapsed": true
   },
   "outputs": [],
   "source": [
    "listings['host_since']=today-pd.to_datetime(listings['host_since'])"
   ]
  },
  {
   "cell_type": "code",
   "execution_count": 23,
   "metadata": {},
   "outputs": [
    {
     "data": {
      "text/plain": [
       "id\n",
       "2818    3604 days\n",
       "3209    3574 days\n",
       "20168   3170 days\n",
       "25428   3182 days\n",
       "27886   3059 days\n",
       "Name: host_since, dtype: timedelta64[ns]"
      ]
     },
     "execution_count": 23,
     "metadata": {},
     "output_type": "execute_result"
    }
   ],
   "source": [
    "listings['host_since'].head()"
   ]
  },
  {
   "cell_type": "code",
   "execution_count": 24,
   "metadata": {
    "collapsed": true,
    "scrolled": false
   },
   "outputs": [],
   "source": [
    "#listings.info()"
   ]
  },
  {
   "cell_type": "code",
   "execution_count": 25,
   "metadata": {
    "collapsed": true
   },
   "outputs": [],
   "source": [
    "cal_updates=listings['calendar_updated'].value_counts().index.tolist()"
   ]
  },
  {
   "cell_type": "code",
   "execution_count": 26,
   "metadata": {},
   "outputs": [
    {
     "data": {
      "text/plain": [
       "['a week ago',\n",
       " '2 weeks ago',\n",
       " '3 weeks ago',\n",
       " '2 months ago',\n",
       " '3 months ago',\n",
       " '4 weeks ago',\n",
       " 'yesterday',\n",
       " '4 months ago',\n",
       " '5 weeks ago']"
      ]
     },
     "execution_count": 26,
     "metadata": {},
     "output_type": "execute_result"
    }
   ],
   "source": [
    "cal_updates[1:10]"
   ]
  },
  {
   "cell_type": "markdown",
   "metadata": {},
   "source": [
    "Transforming 'cal_updates' variable into a time delta variable"
   ]
  },
  {
   "cell_type": "code",
   "execution_count": 27,
   "metadata": {
    "collapsed": true
   },
   "outputs": [],
   "source": [
    "listings['calendar_updated']=listings['calendar_updated'].str.replace('a ','1 ')"
   ]
  },
  {
   "cell_type": "code",
   "execution_count": 28,
   "metadata": {
    "collapsed": true
   },
   "outputs": [],
   "source": [
    "import monthdelta"
   ]
  },
  {
   "cell_type": "code",
   "execution_count": 29,
   "metadata": {
    "collapsed": true
   },
   "outputs": [],
   "source": [
    "def time_ago(string):\n",
    "    today = datetime.datetime(2018,8,7)\n",
    "    var= None\n",
    "    if \"week\" in string :\n",
    "        elements= string.split(\" \")\n",
    "        var =  today - datetime.timedelta(days=7*int(elements[0]))   \n",
    "    if \"month\" in string:\n",
    "        elements= string.split(\" \")\n",
    "        var= today-monthdelta.monthdelta(int(elements[0]))\n",
    "    if \"today\" in string:\n",
    "        var= today\n",
    "    if \"yesterday\" in string:\n",
    "        var= today - datetime.timedelta(days=1)\n",
    "    if \"never\" in string:\n",
    "        var = None\n",
    "    return var"
   ]
  },
  {
   "cell_type": "code",
   "execution_count": 30,
   "metadata": {
    "collapsed": true
   },
   "outputs": [],
   "source": [
    "listings['calendar_updated']=today-listings['calendar_updated'].apply(lambda x: time_ago(x))"
   ]
  },
  {
   "cell_type": "code",
   "execution_count": 31,
   "metadata": {},
   "outputs": [
    {
     "data": {
      "text/plain": [
       "id\n",
       "2818    0 days\n",
       "3209    7 days\n",
       "20168   0 days\n",
       "25428   1 days\n",
       "27886   0 days\n",
       "Name: calendar_updated, dtype: timedelta64[ns]"
      ]
     },
     "execution_count": 31,
     "metadata": {},
     "output_type": "execute_result"
    }
   ],
   "source": [
    "listings['calendar_updated'].head()"
   ]
  },
  {
   "cell_type": "markdown",
   "metadata": {},
   "source": [
    "Because of the correlation matrix and the regression, all time variables will be recoded as numbers"
   ]
  },
  {
   "cell_type": "code",
   "execution_count": 32,
   "metadata": {
    "collapsed": true
   },
   "outputs": [],
   "source": [
    "# Handling time deltas\n",
    "listings['calendar_updated']=listings['calendar_updated'].dt.days\n",
    "listings['host_since']=listings['host_since'].dt.days"
   ]
  },
  {
   "cell_type": "code",
   "execution_count": 33,
   "metadata": {
    "collapsed": true
   },
   "outputs": [],
   "source": [
    "# Handling date vars\n",
    "listings['first_review']= (listings['first_review']-today).dt.total_seconds().astype('float')"
   ]
  },
  {
   "cell_type": "code",
   "execution_count": 34,
   "metadata": {
    "collapsed": true
   },
   "outputs": [],
   "source": [
    "listings['last_review']= (listings['last_review']-today).dt.total_seconds().astype('float')"
   ]
  },
  {
   "cell_type": "code",
   "execution_count": 35,
   "metadata": {},
   "outputs": [
    {
     "data": {
      "text/plain": [
       "<matplotlib.axes._subplots.AxesSubplot at 0x2ec08556208>"
      ]
     },
     "execution_count": 35,
     "metadata": {},
     "output_type": "execute_result"
    },
    {
     "data": {
      "image/png": "[encoded data removed]",
      "text/plain": [
       "<matplotlib.figure.Figure at 0x2ec0850fe80>"
      ]
     },
     "metadata": {},
     "output_type": "display_data"
    }
   ],
   "source": [
    "listings['host_since'].hist()"
   ]
  },
  {
   "cell_type": "code",
   "execution_count": 36,
   "metadata": {},
   "outputs": [
    {
     "data": {
      "text/html": [
       "<div>\n",
       "<style scoped>\n",
       "    .dataframe tbody tr th:only-of-type {\n",
       "        vertical-align: middle;\n",
       "    }\n",
       "\n",
       "    .dataframe tbody tr th {\n",
       "        vertical-align: top;\n",
       "    }\n",
       "\n",
       "    .dataframe thead th {\n",
       "        text-align: right;\n",
       "    }\n",
       "</style>\n",
       "<table border=\"1\" class=\"dataframe\">\n",
       "  <thead>\n",
       "    <tr style=\"text-align: right;\">\n",
       "      <th></th>\n",
       "      <th>host_since</th>\n",
       "      <th>host_listings_count</th>\n",
       "      <th>host_total_listings_count</th>\n",
       "      <th>latitude</th>\n",
       "      <th>longitude</th>\n",
       "      <th>accommodates</th>\n",
       "      <th>bathrooms</th>\n",
       "      <th>bedrooms</th>\n",
       "      <th>beds</th>\n",
       "      <th>guests_included</th>\n",
       "      <th>...</th>\n",
       "      <th>review_scores_accuracy</th>\n",
       "      <th>review_scores_cleanliness</th>\n",
       "      <th>review_scores_checkin</th>\n",
       "      <th>review_scores_communication</th>\n",
       "      <th>review_scores_location</th>\n",
       "      <th>review_scores_value</th>\n",
       "      <th>calculated_host_listings_count</th>\n",
       "      <th>reviews_per_month</th>\n",
       "      <th>first_review_month</th>\n",
       "      <th>last_review_month</th>\n",
       "    </tr>\n",
       "  </thead>\n",
       "  <tbody>\n",
       "    <tr>\n",
       "      <th>count</th>\n",
       "      <td>20109.000000</td>\n",
       "      <td>20109.000000</td>\n",
       "      <td>20109.000000</td>\n",
       "      <td>20114.000000</td>\n",
       "      <td>20114.000000</td>\n",
       "      <td>20114.000000</td>\n",
       "      <td>20105.000000</td>\n",
       "      <td>20107.000000</td>\n",
       "      <td>20108.000000</td>\n",
       "      <td>20114.000000</td>\n",
       "      <td>...</td>\n",
       "      <td>17385.000000</td>\n",
       "      <td>17389.000000</td>\n",
       "      <td>17371.000000</td>\n",
       "      <td>17385.000000</td>\n",
       "      <td>17372.000000</td>\n",
       "      <td>17371.000000</td>\n",
       "      <td>20114.000000</td>\n",
       "      <td>17669.000000</td>\n",
       "      <td>17669.000000</td>\n",
       "      <td>17671.000000</td>\n",
       "    </tr>\n",
       "    <tr>\n",
       "      <th>mean</th>\n",
       "      <td>1333.014571</td>\n",
       "      <td>6.188721</td>\n",
       "      <td>6.188721</td>\n",
       "      <td>52.365237</td>\n",
       "      <td>4.889206</td>\n",
       "      <td>2.887392</td>\n",
       "      <td>1.129495</td>\n",
       "      <td>1.449296</td>\n",
       "      <td>1.857221</td>\n",
       "      <td>1.465596</td>\n",
       "      <td>...</td>\n",
       "      <td>9.652459</td>\n",
       "      <td>9.441601</td>\n",
       "      <td>9.705486</td>\n",
       "      <td>9.749152</td>\n",
       "      <td>9.387347</td>\n",
       "      <td>9.166887</td>\n",
       "      <td>5.113851</td>\n",
       "      <td>1.100457</td>\n",
       "      <td>6.413323</td>\n",
       "      <td>6.536529</td>\n",
       "    </tr>\n",
       "    <tr>\n",
       "      <th>std</th>\n",
       "      <td>648.681951</td>\n",
       "      <td>25.152015</td>\n",
       "      <td>25.152015</td>\n",
       "      <td>0.015951</td>\n",
       "      <td>0.035777</td>\n",
       "      <td>1.310228</td>\n",
       "      <td>0.365188</td>\n",
       "      <td>0.895324</td>\n",
       "      <td>1.383155</td>\n",
       "      <td>0.921918</td>\n",
       "      <td>...</td>\n",
       "      <td>0.717771</td>\n",
       "      <td>0.897237</td>\n",
       "      <td>0.697279</td>\n",
       "      <td>0.661418</td>\n",
       "      <td>0.751126</td>\n",
       "      <td>0.825235</td>\n",
       "      <td>20.281751</td>\n",
       "      <td>1.345307</td>\n",
       "      <td>3.003870</td>\n",
       "      <td>2.267087</td>\n",
       "    </tr>\n",
       "    <tr>\n",
       "      <th>min</th>\n",
       "      <td>0.000000</td>\n",
       "      <td>0.000000</td>\n",
       "      <td>0.000000</td>\n",
       "      <td>52.289274</td>\n",
       "      <td>4.756790</td>\n",
       "      <td>1.000000</td>\n",
       "      <td>0.000000</td>\n",
       "      <td>0.000000</td>\n",
       "      <td>0.000000</td>\n",
       "      <td>1.000000</td>\n",
       "      <td>...</td>\n",
       "      <td>2.000000</td>\n",
       "      <td>2.000000</td>\n",
       "      <td>2.000000</td>\n",
       "      <td>2.000000</td>\n",
       "      <td>2.000000</td>\n",
       "      <td>2.000000</td>\n",
       "      <td>1.000000</td>\n",
       "      <td>0.010000</td>\n",
       "      <td>1.000000</td>\n",
       "      <td>1.000000</td>\n",
       "    </tr>\n",
       "    <tr>\n",
       "      <th>25%</th>\n",
       "      <td>841.000000</td>\n",
       "      <td>1.000000</td>\n",
       "      <td>1.000000</td>\n",
       "      <td>52.355120</td>\n",
       "      <td>4.863681</td>\n",
       "      <td>2.000000</td>\n",
       "      <td>1.000000</td>\n",
       "      <td>1.000000</td>\n",
       "      <td>1.000000</td>\n",
       "      <td>1.000000</td>\n",
       "      <td>...</td>\n",
       "      <td>9.000000</td>\n",
       "      <td>9.000000</td>\n",
       "      <td>10.000000</td>\n",
       "      <td>10.000000</td>\n",
       "      <td>9.000000</td>\n",
       "      <td>9.000000</td>\n",
       "      <td>1.000000</td>\n",
       "      <td>0.280000</td>\n",
       "      <td>4.000000</td>\n",
       "      <td>5.000000</td>\n",
       "    </tr>\n",
       "    <tr>\n",
       "      <th>50%</th>\n",
       "      <td>1361.000000</td>\n",
       "      <td>1.000000</td>\n",
       "      <td>1.000000</td>\n",
       "      <td>52.364579</td>\n",
       "      <td>4.886372</td>\n",
       "      <td>2.000000</td>\n",
       "      <td>1.000000</td>\n",
       "      <td>1.000000</td>\n",
       "      <td>1.000000</td>\n",
       "      <td>1.000000</td>\n",
       "      <td>...</td>\n",
       "      <td>10.000000</td>\n",
       "      <td>10.000000</td>\n",
       "      <td>10.000000</td>\n",
       "      <td>10.000000</td>\n",
       "      <td>10.000000</td>\n",
       "      <td>9.000000</td>\n",
       "      <td>1.000000</td>\n",
       "      <td>0.650000</td>\n",
       "      <td>7.000000</td>\n",
       "      <td>7.000000</td>\n",
       "    </tr>\n",
       "    <tr>\n",
       "      <th>75%</th>\n",
       "      <td>1826.000000</td>\n",
       "      <td>1.000000</td>\n",
       "      <td>1.000000</td>\n",
       "      <td>52.375014</td>\n",
       "      <td>4.908613</td>\n",
       "      <td>4.000000</td>\n",
       "      <td>1.000000</td>\n",
       "      <td>2.000000</td>\n",
       "      <td>2.000000</td>\n",
       "      <td>2.000000</td>\n",
       "      <td>...</td>\n",
       "      <td>10.000000</td>\n",
       "      <td>10.000000</td>\n",
       "      <td>10.000000</td>\n",
       "      <td>10.000000</td>\n",
       "      <td>10.000000</td>\n",
       "      <td>10.000000</td>\n",
       "      <td>1.000000</td>\n",
       "      <td>1.290000</td>\n",
       "      <td>9.000000</td>\n",
       "      <td>8.000000</td>\n",
       "    </tr>\n",
       "    <tr>\n",
       "      <th>max</th>\n",
       "      <td>3604.000000</td>\n",
       "      <td>629.000000</td>\n",
       "      <td>629.000000</td>\n",
       "      <td>52.428882</td>\n",
       "      <td>5.027689</td>\n",
       "      <td>17.000000</td>\n",
       "      <td>15.000000</td>\n",
       "      <td>12.000000</td>\n",
       "      <td>32.000000</td>\n",
       "      <td>16.000000</td>\n",
       "      <td>...</td>\n",
       "      <td>10.000000</td>\n",
       "      <td>10.000000</td>\n",
       "      <td>10.000000</td>\n",
       "      <td>10.000000</td>\n",
       "      <td>10.000000</td>\n",
       "      <td>10.000000</td>\n",
       "      <td>162.000000</td>\n",
       "      <td>12.000000</td>\n",
       "      <td>12.000000</td>\n",
       "      <td>12.000000</td>\n",
       "    </tr>\n",
       "  </tbody>\n",
       "</table>\n",
       "<p>8 rows × 31 columns</p>\n",
       "</div>"
      ],
      "text/plain": [
       "         host_since  host_listings_count  host_total_listings_count  \\\n",
       "count  20109.000000         20109.000000               20109.000000   \n",
       "mean    1333.014571             6.188721                   6.188721   \n",
       "std      648.681951            25.152015                  25.152015   \n",
       "min        0.000000             0.000000                   0.000000   \n",
       "25%      841.000000             1.000000                   1.000000   \n",
       "50%     1361.000000             1.000000                   1.000000   \n",
       "75%     1826.000000             1.000000                   1.000000   \n",
       "max     3604.000000           629.000000                 629.000000   \n",
       "\n",
       "           latitude     longitude  accommodates     bathrooms      bedrooms  \\\n",
       "count  20114.000000  20114.000000  20114.000000  20105.000000  20107.000000   \n",
       "mean      52.365237      4.889206      2.887392      1.129495      1.449296   \n",
       "std        0.015951      0.035777      1.310228      0.365188      0.895324   \n",
       "min       52.289274      4.756790      1.000000      0.000000      0.000000   \n",
       "25%       52.355120      4.863681      2.000000      1.000000      1.000000   \n",
       "50%       52.364579      4.886372      2.000000      1.000000      1.000000   \n",
       "75%       52.375014      4.908613      4.000000      1.000000      2.000000   \n",
       "max       52.428882      5.027689     17.000000     15.000000     12.000000   \n",
       "\n",
       "               beds  guests_included        ...          \\\n",
       "count  20108.000000     20114.000000        ...           \n",
       "mean       1.857221         1.465596        ...           \n",
       "std        1.383155         0.921918        ...           \n",
       "min        0.000000         1.000000        ...           \n",
       "25%        1.000000         1.000000        ...           \n",
       "50%        1.000000         1.000000        ...           \n",
       "75%        2.000000         2.000000        ...           \n",
       "max       32.000000        16.000000        ...           \n",
       "\n",
       "       review_scores_accuracy  review_scores_cleanliness  \\\n",
       "count            17385.000000               17389.000000   \n",
       "mean                 9.652459                   9.441601   \n",
       "std                  0.717771                   0.897237   \n",
       "min                  2.000000                   2.000000   \n",
       "25%                  9.000000                   9.000000   \n",
       "50%                 10.000000                  10.000000   \n",
       "75%                 10.000000                  10.000000   \n",
       "max                 10.000000                  10.000000   \n",
       "\n",
       "       review_scores_checkin  review_scores_communication  \\\n",
       "count           17371.000000                 17385.000000   \n",
       "mean                9.705486                     9.749152   \n",
       "std                 0.697279                     0.661418   \n",
       "min                 2.000000                     2.000000   \n",
       "25%                10.000000                    10.000000   \n",
       "50%                10.000000                    10.000000   \n",
       "75%                10.000000                    10.000000   \n",
       "max                10.000000                    10.000000   \n",
       "\n",
       "       review_scores_location  review_scores_value  \\\n",
       "count            17372.000000         17371.000000   \n",
       "mean                 9.387347             9.166887   \n",
       "std                  0.751126             0.825235   \n",
       "min                  2.000000             2.000000   \n",
       "25%                  9.000000             9.000000   \n",
       "50%                 10.000000             9.000000   \n",
       "75%                 10.000000            10.000000   \n",
       "max                 10.000000            10.000000   \n",
       "\n",
       "       calculated_host_listings_count  reviews_per_month  first_review_month  \\\n",
       "count                    20114.000000       17669.000000        17669.000000   \n",
       "mean                         5.113851           1.100457            6.413323   \n",
       "std                         20.281751           1.345307            3.003870   \n",
       "min                          1.000000           0.010000            1.000000   \n",
       "25%                          1.000000           0.280000            4.000000   \n",
       "50%                          1.000000           0.650000            7.000000   \n",
       "75%                          1.000000           1.290000            9.000000   \n",
       "max                        162.000000          12.000000           12.000000   \n",
       "\n",
       "       last_review_month  \n",
       "count       17671.000000  \n",
       "mean            6.536529  \n",
       "std             2.267087  \n",
       "min             1.000000  \n",
       "25%             5.000000  \n",
       "50%             7.000000  \n",
       "75%             8.000000  \n",
       "max            12.000000  \n",
       "\n",
       "[8 rows x 31 columns]"
      ]
     },
     "execution_count": 36,
     "metadata": {},
     "output_type": "execute_result"
    }
   ],
   "source": [
    "listings.describe()"
   ]
  },
  {
   "cell_type": "markdown",
   "metadata": {},
   "source": [
    "## Cleaning numeric variables"
   ]
  },
  {
   "cell_type": "markdown",
   "metadata": {},
   "source": [
    "### Check all numeric variables"
   ]
  },
  {
   "cell_type": "code",
   "execution_count": 37,
   "metadata": {
    "collapsed": true
   },
   "outputs": [],
   "source": [
    "numeric_vars=listings.select_dtypes(include=['int64', 'float64']).columns"
   ]
  },
  {
   "cell_type": "code",
   "execution_count": 38,
   "metadata": {},
   "outputs": [
    {
     "data": {
      "text/plain": [
       "Index(['host_since', 'host_listings_count', 'host_total_listings_count',\n",
       "       'latitude', 'longitude', 'accommodates', 'bathrooms', 'bedrooms',\n",
       "       'beds', 'guests_included', 'minimum_nights', 'maximum_nights',\n",
       "       'calendar_updated', 'availability_30', 'availability_60',\n",
       "       'availability_90', 'availability_365', 'number_of_reviews',\n",
       "       'first_review', 'last_review', 'review_scores_rating',\n",
       "       'review_scores_accuracy', 'review_scores_cleanliness',\n",
       "       'review_scores_checkin', 'review_scores_communication',\n",
       "       'review_scores_location', 'review_scores_value',\n",
       "       'calculated_host_listings_count', 'reviews_per_month',\n",
       "       'first_review_month', 'last_review_month'],\n",
       "      dtype='object')"
      ]
     },
     "execution_count": 38,
     "metadata": {},
     "output_type": "execute_result"
    }
   ],
   "source": [
    "numeric_vars"
   ]
  },
  {
   "cell_type": "code",
   "execution_count": 39,
   "metadata": {},
   "outputs": [
    {
     "data": {
      "text/html": [
       "<div>\n",
       "<style scoped>\n",
       "    .dataframe tbody tr th:only-of-type {\n",
       "        vertical-align: middle;\n",
       "    }\n",
       "\n",
       "    .dataframe tbody tr th {\n",
       "        vertical-align: top;\n",
       "    }\n",
       "\n",
       "    .dataframe thead th {\n",
       "        text-align: right;\n",
       "    }\n",
       "</style>\n",
       "<table border=\"1\" class=\"dataframe\">\n",
       "  <thead>\n",
       "    <tr style=\"text-align: right;\">\n",
       "      <th></th>\n",
       "      <th>host_since</th>\n",
       "      <th>host_listings_count</th>\n",
       "      <th>host_total_listings_count</th>\n",
       "      <th>latitude</th>\n",
       "      <th>longitude</th>\n",
       "      <th>accommodates</th>\n",
       "      <th>bathrooms</th>\n",
       "      <th>bedrooms</th>\n",
       "      <th>beds</th>\n",
       "      <th>guests_included</th>\n",
       "      <th>...</th>\n",
       "      <th>review_scores_accuracy</th>\n",
       "      <th>review_scores_cleanliness</th>\n",
       "      <th>review_scores_checkin</th>\n",
       "      <th>review_scores_communication</th>\n",
       "      <th>review_scores_location</th>\n",
       "      <th>review_scores_value</th>\n",
       "      <th>calculated_host_listings_count</th>\n",
       "      <th>reviews_per_month</th>\n",
       "      <th>first_review_month</th>\n",
       "      <th>last_review_month</th>\n",
       "    </tr>\n",
       "    <tr>\n",
       "      <th>id</th>\n",
       "      <th></th>\n",
       "      <th></th>\n",
       "      <th></th>\n",
       "      <th></th>\n",
       "      <th></th>\n",
       "      <th></th>\n",
       "      <th></th>\n",
       "      <th></th>\n",
       "      <th></th>\n",
       "      <th></th>\n",
       "      <th></th>\n",
       "      <th></th>\n",
       "      <th></th>\n",
       "      <th></th>\n",
       "      <th></th>\n",
       "      <th></th>\n",
       "      <th></th>\n",
       "      <th></th>\n",
       "      <th></th>\n",
       "      <th></th>\n",
       "      <th></th>\n",
       "    </tr>\n",
       "  </thead>\n",
       "  <tbody>\n",
       "    <tr>\n",
       "      <th>2818</th>\n",
       "      <td>3604.0</td>\n",
       "      <td>1.0</td>\n",
       "      <td>1.0</td>\n",
       "      <td>52.365755</td>\n",
       "      <td>4.941419</td>\n",
       "      <td>2</td>\n",
       "      <td>1.5</td>\n",
       "      <td>1.0</td>\n",
       "      <td>2.0</td>\n",
       "      <td>1</td>\n",
       "      <td>...</td>\n",
       "      <td>10.0</td>\n",
       "      <td>10.0</td>\n",
       "      <td>10.0</td>\n",
       "      <td>10.0</td>\n",
       "      <td>9.0</td>\n",
       "      <td>10.0</td>\n",
       "      <td>1</td>\n",
       "      <td>2.08</td>\n",
       "      <td>3.0</td>\n",
       "      <td>7.0</td>\n",
       "    </tr>\n",
       "    <tr>\n",
       "      <th>3209</th>\n",
       "      <td>3574.0</td>\n",
       "      <td>1.0</td>\n",
       "      <td>1.0</td>\n",
       "      <td>52.390225</td>\n",
       "      <td>4.873924</td>\n",
       "      <td>5</td>\n",
       "      <td>1.0</td>\n",
       "      <td>2.0</td>\n",
       "      <td>2.0</td>\n",
       "      <td>2</td>\n",
       "      <td>...</td>\n",
       "      <td>10.0</td>\n",
       "      <td>9.0</td>\n",
       "      <td>10.0</td>\n",
       "      <td>10.0</td>\n",
       "      <td>9.0</td>\n",
       "      <td>9.0</td>\n",
       "      <td>1</td>\n",
       "      <td>1.09</td>\n",
       "      <td>7.0</td>\n",
       "      <td>7.0</td>\n",
       "    </tr>\n",
       "    <tr>\n",
       "      <th>20168</th>\n",
       "      <td>3170.0</td>\n",
       "      <td>2.0</td>\n",
       "      <td>2.0</td>\n",
       "      <td>52.365087</td>\n",
       "      <td>4.893541</td>\n",
       "      <td>2</td>\n",
       "      <td>1.0</td>\n",
       "      <td>1.0</td>\n",
       "      <td>1.0</td>\n",
       "      <td>2</td>\n",
       "      <td>...</td>\n",
       "      <td>9.0</td>\n",
       "      <td>10.0</td>\n",
       "      <td>9.0</td>\n",
       "      <td>9.0</td>\n",
       "      <td>10.0</td>\n",
       "      <td>9.0</td>\n",
       "      <td>2</td>\n",
       "      <td>2.09</td>\n",
       "      <td>3.0</td>\n",
       "      <td>8.0</td>\n",
       "    </tr>\n",
       "    <tr>\n",
       "      <th>25428</th>\n",
       "      <td>3182.0</td>\n",
       "      <td>2.0</td>\n",
       "      <td>2.0</td>\n",
       "      <td>52.373114</td>\n",
       "      <td>4.883668</td>\n",
       "      <td>3</td>\n",
       "      <td>1.0</td>\n",
       "      <td>1.0</td>\n",
       "      <td>1.0</td>\n",
       "      <td>2</td>\n",
       "      <td>...</td>\n",
       "      <td>10.0</td>\n",
       "      <td>10.0</td>\n",
       "      <td>10.0</td>\n",
       "      <td>10.0</td>\n",
       "      <td>10.0</td>\n",
       "      <td>10.0</td>\n",
       "      <td>2</td>\n",
       "      <td>0.15</td>\n",
       "      <td>1.0</td>\n",
       "      <td>1.0</td>\n",
       "    </tr>\n",
       "    <tr>\n",
       "      <th>27886</th>\n",
       "      <td>3059.0</td>\n",
       "      <td>1.0</td>\n",
       "      <td>1.0</td>\n",
       "      <td>52.386727</td>\n",
       "      <td>4.892078</td>\n",
       "      <td>2</td>\n",
       "      <td>1.0</td>\n",
       "      <td>1.0</td>\n",
       "      <td>1.0</td>\n",
       "      <td>1</td>\n",
       "      <td>...</td>\n",
       "      <td>10.0</td>\n",
       "      <td>10.0</td>\n",
       "      <td>10.0</td>\n",
       "      <td>10.0</td>\n",
       "      <td>10.0</td>\n",
       "      <td>10.0</td>\n",
       "      <td>1</td>\n",
       "      <td>1.92</td>\n",
       "      <td>1.0</td>\n",
       "      <td>8.0</td>\n",
       "    </tr>\n",
       "  </tbody>\n",
       "</table>\n",
       "<p>5 rows × 31 columns</p>\n",
       "</div>"
      ],
      "text/plain": [
       "       host_since  host_listings_count  host_total_listings_count   latitude  \\\n",
       "id                                                                             \n",
       "2818       3604.0                  1.0                        1.0  52.365755   \n",
       "3209       3574.0                  1.0                        1.0  52.390225   \n",
       "20168      3170.0                  2.0                        2.0  52.365087   \n",
       "25428      3182.0                  2.0                        2.0  52.373114   \n",
       "27886      3059.0                  1.0                        1.0  52.386727   \n",
       "\n",
       "       longitude  accommodates  bathrooms  bedrooms  beds  guests_included  \\\n",
       "id                                                                           \n",
       "2818    4.941419             2        1.5       1.0   2.0                1   \n",
       "3209    4.873924             5        1.0       2.0   2.0                2   \n",
       "20168   4.893541             2        1.0       1.0   1.0                2   \n",
       "25428   4.883668             3        1.0       1.0   1.0                2   \n",
       "27886   4.892078             2        1.0       1.0   1.0                1   \n",
       "\n",
       "             ...          review_scores_accuracy  review_scores_cleanliness  \\\n",
       "id           ...                                                              \n",
       "2818         ...                            10.0                       10.0   \n",
       "3209         ...                            10.0                        9.0   \n",
       "20168        ...                             9.0                       10.0   \n",
       "25428        ...                            10.0                       10.0   \n",
       "27886        ...                            10.0                       10.0   \n",
       "\n",
       "       review_scores_checkin  review_scores_communication  \\\n",
       "id                                                          \n",
       "2818                    10.0                         10.0   \n",
       "3209                    10.0                         10.0   \n",
       "20168                    9.0                          9.0   \n",
       "25428                   10.0                         10.0   \n",
       "27886                   10.0                         10.0   \n",
       "\n",
       "       review_scores_location  review_scores_value  \\\n",
       "id                                                   \n",
       "2818                      9.0                 10.0   \n",
       "3209                      9.0                  9.0   \n",
       "20168                    10.0                  9.0   \n",
       "25428                    10.0                 10.0   \n",
       "27886                    10.0                 10.0   \n",
       "\n",
       "       calculated_host_listings_count  reviews_per_month  first_review_month  \\\n",
       "id                                                                             \n",
       "2818                                1               2.08                 3.0   \n",
       "3209                                1               1.09                 7.0   \n",
       "20168                               2               2.09                 3.0   \n",
       "25428                               2               0.15                 1.0   \n",
       "27886                               1               1.92                 1.0   \n",
       "\n",
       "       last_review_month  \n",
       "id                        \n",
       "2818                 7.0  \n",
       "3209                 7.0  \n",
       "20168                8.0  \n",
       "25428                1.0  \n",
       "27886                8.0  \n",
       "\n",
       "[5 rows x 31 columns]"
      ]
     },
     "execution_count": 39,
     "metadata": {},
     "output_type": "execute_result"
    }
   ],
   "source": [
    "listings[numeric_vars].head()"
   ]
  },
  {
   "cell_type": "code",
   "execution_count": 40,
   "metadata": {
    "collapsed": true
   },
   "outputs": [],
   "source": [
    "listings['security_deposit']=listings['security_deposit'].str.replace(',','')\n",
    "listings['security_deposit']=listings['security_deposit'].str.replace('$','')"
   ]
  },
  {
   "cell_type": "code",
   "execution_count": 41,
   "metadata": {
    "collapsed": true
   },
   "outputs": [],
   "source": [
    "listings['security_deposit']=listings['security_deposit'].astype('float')"
   ]
  },
  {
   "cell_type": "code",
   "execution_count": 42,
   "metadata": {},
   "outputs": [
    {
     "data": {
      "text/plain": [
       "id\n",
       "2818     100.0\n",
       "3209     300.0\n",
       "20168      NaN\n",
       "25428    300.0\n",
       "27886      0.0\n",
       "Name: security_deposit, dtype: float64"
      ]
     },
     "execution_count": 42,
     "metadata": {},
     "output_type": "execute_result"
    }
   ],
   "source": [
    "listings['security_deposit'].head()"
   ]
  },
  {
   "cell_type": "code",
   "execution_count": 43,
   "metadata": {
    "collapsed": true
   },
   "outputs": [],
   "source": [
    "listings['cleaning_fee']=listings['cleaning_fee'].str.replace('$','')"
   ]
  },
  {
   "cell_type": "code",
   "execution_count": 44,
   "metadata": {
    "collapsed": true
   },
   "outputs": [],
   "source": [
    "listings['cleaning_fee']=listings['cleaning_fee'].astype('float')"
   ]
  },
  {
   "cell_type": "code",
   "execution_count": 45,
   "metadata": {
    "collapsed": true
   },
   "outputs": [],
   "source": [
    "listings['extra_people']=listings['extra_people'].str.replace('$','')\n",
    "listings['extra_people']=listings['extra_people'].astype('float')"
   ]
  },
  {
   "cell_type": "code",
   "execution_count": 46,
   "metadata": {
    "collapsed": true
   },
   "outputs": [],
   "source": [
    "listings['host_response_rate']=listings['host_response_rate'].str.replace('%','')\n",
    "listings['host_response_rate']=listings['host_response_rate'].astype('float')\n"
   ]
  },
  {
   "cell_type": "markdown",
   "metadata": {},
   "source": [
    "### Cleaning and transforming price variable"
   ]
  },
  {
   "cell_type": "code",
   "execution_count": 47,
   "metadata": {
    "collapsed": true
   },
   "outputs": [],
   "source": [
    "listings['price']=listings['price'].str.replace('$','')"
   ]
  },
  {
   "cell_type": "code",
   "execution_count": 48,
   "metadata": {
    "collapsed": true
   },
   "outputs": [],
   "source": [
    "listings['price']=listings['price'].str.replace(',','')"
   ]
  },
  {
   "cell_type": "code",
   "execution_count": 49,
   "metadata": {
    "collapsed": true
   },
   "outputs": [],
   "source": [
    "listings['price']=listings['price'].astype('float64')"
   ]
  },
  {
   "cell_type": "code",
   "execution_count": 50,
   "metadata": {},
   "outputs": [
    {
     "data": {
      "text/plain": [
       "<matplotlib.axes._subplots.AxesSubplot at 0x2ec086da320>"
      ]
     },
     "execution_count": 50,
     "metadata": {},
     "output_type": "execute_result"
    },
    {
     "data": {
      "image/png": "[encoded data removed]",
      "text/plain": [
       "<matplotlib.figure.Figure at 0x2ec086d7ac8>"
      ]
     },
     "metadata": {},
     "output_type": "display_data"
    }
   ],
   "source": [
    "listings['price'].hist()"
   ]
  },
  {
   "cell_type": "code",
   "execution_count": 51,
   "metadata": {},
   "outputs": [
    {
     "data": {
      "text/plain": [
       "id\n",
       "258273      8000.0\n",
       "19686192    5000.0\n",
       "5587500     4500.0\n",
       "25349319    3900.0\n",
       "15626614    3142.0\n",
       "11040717    2500.0\n",
       "19559616    2500.0\n",
       "16344025    1600.0\n",
       "17377934    1500.0\n",
       "18350012    1254.0\n",
       "23136800    1250.0\n",
       "15118725    1200.0\n",
       "15304003    1190.0\n",
       "5611174     1119.0\n",
       "14144923    1100.0\n",
       "4394074     1095.0\n",
       "24112912    1050.0\n",
       "24754201    1025.0\n",
       "6423150     1000.0\n",
       "3286293     1000.0\n",
       "Name: price, dtype: float64"
      ]
     },
     "execution_count": 51,
     "metadata": {},
     "output_type": "execute_result"
    }
   ],
   "source": [
    "listings['price'].sort_values(ascending=False).head(20)"
   ]
  },
  {
   "cell_type": "markdown",
   "metadata": {},
   "source": [
    "There are outliers, I decided to delete listings with prices above 1000 dollars (not even 0.1 percent of the complete data)"
   ]
  },
  {
   "cell_type": "code",
   "execution_count": 52,
   "metadata": {
    "collapsed": true
   },
   "outputs": [],
   "source": [
    "listings=listings[listings['price']<=1000]"
   ]
  },
  {
   "cell_type": "code",
   "execution_count": 53,
   "metadata": {},
   "outputs": [
    {
     "data": {
      "text/plain": [
       "<matplotlib.axes._subplots.AxesSubplot at 0x2ec0870cc18>"
      ]
     },
     "execution_count": 53,
     "metadata": {},
     "output_type": "execute_result"
    },
    {
     "data": {
      "image/png": "[encoded data removed]",
      "text/plain": [
       "<matplotlib.figure.Figure at 0x2ec08959e10>"
      ]
     },
     "metadata": {},
     "output_type": "display_data"
    }
   ],
   "source": [
    "listings['price'].hist()"
   ]
  },
  {
   "cell_type": "markdown",
   "metadata": {},
   "source": [
    "Since the distribution of the price variable is not normal and is highly right-skewed, I took its natural logarithm.. To similar distributions this is a common practice to prepare for analysis and it can be interpreted as percentual change. "
   ]
  },
  {
   "cell_type": "code",
   "execution_count": 54,
   "metadata": {},
   "outputs": [
    {
     "data": {
      "text/plain": [
       "count    20096.000000\n",
       "mean       145.830613\n",
       "std         87.046500\n",
       "min          0.000000\n",
       "25%         95.000000\n",
       "50%        125.000000\n",
       "75%        173.000000\n",
       "max       1000.000000\n",
       "Name: price, dtype: float64"
      ]
     },
     "execution_count": 54,
     "metadata": {},
     "output_type": "execute_result"
    }
   ],
   "source": [
    "listings['price'].describe()"
   ]
  },
  {
   "cell_type": "code",
   "execution_count": 55,
   "metadata": {
    "collapsed": true
   },
   "outputs": [],
   "source": [
    "prices=listings['price']"
   ]
  },
  {
   "cell_type": "code",
   "execution_count": 56,
   "metadata": {},
   "outputs": [
    {
     "data": {
      "text/plain": [
       "id\n",
       "21423332    0.0\n",
       "20597844    0.0\n",
       "20644162    8.0\n",
       "18188256    9.0\n",
       "27127838    9.0\n",
       "Name: price, dtype: float64"
      ]
     },
     "execution_count": 56,
     "metadata": {},
     "output_type": "execute_result"
    }
   ],
   "source": [
    "prices.sort_values().head()"
   ]
  },
  {
   "cell_type": "code",
   "execution_count": 57,
   "metadata": {
    "collapsed": true
   },
   "outputs": [],
   "source": [
    "listings = listings[listings.price != 0]"
   ]
  },
  {
   "cell_type": "code",
   "execution_count": 58,
   "metadata": {
    "collapsed": true
   },
   "outputs": [],
   "source": [
    "listings['price_log']=np.log(listings.price)"
   ]
  },
  {
   "cell_type": "code",
   "execution_count": 59,
   "metadata": {},
   "outputs": [
    {
     "data": {
      "text/plain": [
       "<matplotlib.axes._subplots.AxesSubplot at 0x2ec14362ba8>"
      ]
     },
     "execution_count": 59,
     "metadata": {},
     "output_type": "execute_result"
    },
    {
     "data": {
      "image/png": "[encoded data removed]",
      "text/plain": [
       "<matplotlib.figure.Figure at 0x2ec14362320>"
      ]
     },
     "metadata": {},
     "output_type": "display_data"
    }
   ],
   "source": [
    "listings['price_log'].hist()"
   ]
  },
  {
   "cell_type": "markdown",
   "metadata": {},
   "source": [
    "## Creating dummies"
   ]
  },
  {
   "cell_type": "markdown",
   "metadata": {},
   "source": [
    "At this part I only recoded those variables to dummy that had 2 unique values (t and f)"
   ]
  },
  {
   "cell_type": "code",
   "execution_count": 60,
   "metadata": {},
   "outputs": [
    {
     "name": "stdout",
     "output_type": "stream",
     "text": [
      "<class 'pandas.core.frame.DataFrame'>\n",
      "Int64Index: 20094 entries, 2818 to 27565537\n",
      "Data columns (total 80 columns):\n",
      "last_scraped                        20094 non-null object\n",
      "summary                             19571 non-null object\n",
      "space                               14726 non-null object\n",
      "description                         19986 non-null object\n",
      "experiences_offered                 20094 non-null object\n",
      "neighborhood_overview               13363 non-null object\n",
      "transit                             13494 non-null object\n",
      "access                              12460 non-null object\n",
      "interaction                         12126 non-null object\n",
      "house_rules                         12524 non-null object\n",
      "host_name                           20089 non-null object\n",
      "host_since                          20089 non-null float64\n",
      "host_location                       20045 non-null object\n",
      "host_about                          11960 non-null object\n",
      "host_response_time                  13078 non-null object\n",
      "host_response_rate                  13078 non-null float64\n",
      "host_is_superhost                   20089 non-null object\n",
      "host_listings_count                 20089 non-null float64\n",
      "host_total_listings_count           20089 non-null float64\n",
      "host_verifications                  20094 non-null object\n",
      "host_has_profile_pic                20089 non-null object\n",
      "host_identity_verified              20089 non-null object\n",
      "street                              20094 non-null object\n",
      "neighbourhood_cleansed              20094 non-null object\n",
      "city                                20092 non-null object\n",
      "state                               20038 non-null object\n",
      "zipcode                             19270 non-null object\n",
      "market                              20048 non-null object\n",
      "smart_location                      20094 non-null object\n",
      "country_code                        20094 non-null object\n",
      "country                             20094 non-null object\n",
      "latitude                            20094 non-null float64\n",
      "longitude                           20094 non-null float64\n",
      "is_location_exact                   20094 non-null object\n",
      "property_type                       20094 non-null object\n",
      "room_type                           20094 non-null object\n",
      "accommodates                        20094 non-null int64\n",
      "bathrooms                           20085 non-null float64\n",
      "bedrooms                            20087 non-null float64\n",
      "beds                                20088 non-null float64\n",
      "bed_type                            20094 non-null object\n",
      "amenities                           20094 non-null object\n",
      "price                               20094 non-null float64\n",
      "security_deposit                    13791 non-null float64\n",
      "cleaning_fee                        16476 non-null float64\n",
      "guests_included                     20094 non-null int64\n",
      "extra_people                        20094 non-null float64\n",
      "minimum_nights                      20094 non-null int64\n",
      "maximum_nights                      20094 non-null int64\n",
      "calendar_updated                    18349 non-null float64\n",
      "has_availability                    20094 non-null object\n",
      "availability_30                     20094 non-null int64\n",
      "availability_60                     20094 non-null int64\n",
      "availability_90                     20094 non-null int64\n",
      "availability_365                    20094 non-null int64\n",
      "calendar_last_scraped               20094 non-null object\n",
      "number_of_reviews                   20094 non-null int64\n",
      "first_review                        17656 non-null float64\n",
      "last_review                         17658 non-null float64\n",
      "review_scores_rating                17389 non-null float64\n",
      "review_scores_accuracy              17373 non-null float64\n",
      "review_scores_cleanliness           17377 non-null float64\n",
      "review_scores_checkin               17359 non-null float64\n",
      "review_scores_communication         17373 non-null float64\n",
      "review_scores_location              17360 non-null float64\n",
      "review_scores_value                 17359 non-null float64\n",
      "requires_license                    20094 non-null object\n",
      "jurisdiction_names                  19305 non-null object\n",
      "instant_bookable                    20094 non-null object\n",
      "is_business_travel_ready            20094 non-null object\n",
      "cancellation_policy                 20094 non-null object\n",
      "require_guest_profile_picture       20094 non-null object\n",
      "require_guest_phone_verification    20094 non-null object\n",
      "calculated_host_listings_count      20094 non-null int64\n",
      "reviews_per_month                   17656 non-null float64\n",
      "is_weekly_price                     20094 non-null bool\n",
      "is_monthly_price                    20094 non-null bool\n",
      "first_review_month                  17656 non-null float64\n",
      "last_review_month                   17658 non-null float64\n",
      "price_log                           20094 non-null float64\n",
      "dtypes: bool(2), float64(27), int64(10), object(41)\n",
      "memory usage: 12.1+ MB\n"
     ]
    }
   ],
   "source": [
    "listings.info()"
   ]
  },
  {
   "cell_type": "code",
   "execution_count": 61,
   "metadata": {
    "collapsed": true
   },
   "outputs": [],
   "source": [
    "object_vars=listings.select_dtypes(include='object').columns"
   ]
  },
  {
   "cell_type": "code",
   "execution_count": 62,
   "metadata": {},
   "outputs": [
    {
     "data": {
      "text/plain": [
       "Index(['last_scraped', 'summary', 'space', 'description',\n",
       "       'experiences_offered', 'neighborhood_overview', 'transit', 'access',\n",
       "       'interaction', 'house_rules', 'host_name', 'host_location',\n",
       "       'host_about', 'host_response_time', 'host_is_superhost',\n",
       "       'host_verifications', 'host_has_profile_pic', 'host_identity_verified',\n",
       "       'street', 'neighbourhood_cleansed', 'city', 'state', 'zipcode',\n",
       "       'market', 'smart_location', 'country_code', 'country',\n",
       "       'is_location_exact', 'property_type', 'room_type', 'bed_type',\n",
       "       'amenities', 'has_availability', 'calendar_last_scraped',\n",
       "       'requires_license', 'jurisdiction_names', 'instant_bookable',\n",
       "       'is_business_travel_ready', 'cancellation_policy',\n",
       "       'require_guest_profile_picture', 'require_guest_phone_verification'],\n",
       "      dtype='object')"
      ]
     },
     "execution_count": 62,
     "metadata": {},
     "output_type": "execute_result"
    }
   ],
   "source": [
    "object_vars"
   ]
  },
  {
   "cell_type": "code",
   "execution_count": 63,
   "metadata": {},
   "outputs": [
    {
     "data": {
      "text/html": [
       "<div>\n",
       "<style scoped>\n",
       "    .dataframe tbody tr th:only-of-type {\n",
       "        vertical-align: middle;\n",
       "    }\n",
       "\n",
       "    .dataframe tbody tr th {\n",
       "        vertical-align: top;\n",
       "    }\n",
       "\n",
       "    .dataframe thead th {\n",
       "        text-align: right;\n",
       "    }\n",
       "</style>\n",
       "<table border=\"1\" class=\"dataframe\">\n",
       "  <thead>\n",
       "    <tr style=\"text-align: right;\">\n",
       "      <th></th>\n",
       "      <th>last_scraped</th>\n",
       "      <th>summary</th>\n",
       "      <th>space</th>\n",
       "      <th>description</th>\n",
       "      <th>experiences_offered</th>\n",
       "      <th>neighborhood_overview</th>\n",
       "      <th>transit</th>\n",
       "      <th>access</th>\n",
       "      <th>interaction</th>\n",
       "      <th>house_rules</th>\n",
       "      <th>...</th>\n",
       "      <th>amenities</th>\n",
       "      <th>has_availability</th>\n",
       "      <th>calendar_last_scraped</th>\n",
       "      <th>requires_license</th>\n",
       "      <th>jurisdiction_names</th>\n",
       "      <th>instant_bookable</th>\n",
       "      <th>is_business_travel_ready</th>\n",
       "      <th>cancellation_policy</th>\n",
       "      <th>require_guest_profile_picture</th>\n",
       "      <th>require_guest_phone_verification</th>\n",
       "    </tr>\n",
       "    <tr>\n",
       "      <th>id</th>\n",
       "      <th></th>\n",
       "      <th></th>\n",
       "      <th></th>\n",
       "      <th></th>\n",
       "      <th></th>\n",
       "      <th></th>\n",
       "      <th></th>\n",
       "      <th></th>\n",
       "      <th></th>\n",
       "      <th></th>\n",
       "      <th></th>\n",
       "      <th></th>\n",
       "      <th></th>\n",
       "      <th></th>\n",
       "      <th></th>\n",
       "      <th></th>\n",
       "      <th></th>\n",
       "      <th></th>\n",
       "      <th></th>\n",
       "      <th></th>\n",
       "      <th></th>\n",
       "    </tr>\n",
       "  </thead>\n",
       "  <tbody>\n",
       "    <tr>\n",
       "      <th>2818</th>\n",
       "      <td>2018-08-07</td>\n",
       "      <td>Quiet Garden View Room &amp; Super Fast WiFi (up t...</td>\n",
       "      <td>I'm renting a bedroom (room overlooking the ga...</td>\n",
       "      <td>Quiet Garden View Room &amp; Super Fast WiFi (up t...</td>\n",
       "      <td>none</td>\n",
       "      <td>Indische Buurt (\"Indies Neighborhood\") is a ne...</td>\n",
       "      <td>The neighbourhood is well served by 24 hours p...</td>\n",
       "      <td>NaN</td>\n",
       "      <td>NaN</td>\n",
       "      <td>Please: - Leave your shoes in the entrance  - ...</td>\n",
       "      <td>...</td>\n",
       "      <td>{Internet,Wifi,\"Paid parking off premises\",\"Bu...</td>\n",
       "      <td>t</td>\n",
       "      <td>2018-08-07</td>\n",
       "      <td>f</td>\n",
       "      <td>{Amsterdam}</td>\n",
       "      <td>t</td>\n",
       "      <td>f</td>\n",
       "      <td>strict_14_with_grace_period</td>\n",
       "      <td>f</td>\n",
       "      <td>f</td>\n",
       "    </tr>\n",
       "    <tr>\n",
       "      <th>3209</th>\n",
       "      <td>2018-08-07</td>\n",
       "      <td>You will love our spacious (90 m2) bright apar...</td>\n",
       "      <td>Our apartment has lots of light, a balcony and...</td>\n",
       "      <td>You will love our spacious (90 m2) bright apar...</td>\n",
       "      <td>none</td>\n",
       "      <td>Welcome to the Spaarndammerbuurt! From the beg...</td>\n",
       "      <td>From Central Station, walk towards the busstop...</td>\n",
       "      <td>You will have the entire house to yourself.</td>\n",
       "      <td>We will meet you in person for check in whenev...</td>\n",
       "      <td>Our house comes with our very sweet, but old (...</td>\n",
       "      <td>...</td>\n",
       "      <td>{Internet,Wifi,Kitchen,\"Paid parking off premi...</td>\n",
       "      <td>t</td>\n",
       "      <td>2018-08-07</td>\n",
       "      <td>f</td>\n",
       "      <td>{Amsterdam}</td>\n",
       "      <td>f</td>\n",
       "      <td>f</td>\n",
       "      <td>moderate</td>\n",
       "      <td>f</td>\n",
       "      <td>f</td>\n",
       "    </tr>\n",
       "  </tbody>\n",
       "</table>\n",
       "<p>2 rows × 41 columns</p>\n",
       "</div>"
      ],
      "text/plain": [
       "     last_scraped                                            summary  \\\n",
       "id                                                                     \n",
       "2818   2018-08-07  Quiet Garden View Room & Super Fast WiFi (up t...   \n",
       "3209   2018-08-07  You will love our spacious (90 m2) bright apar...   \n",
       "\n",
       "                                                  space  \\\n",
       "id                                                        \n",
       "2818  I'm renting a bedroom (room overlooking the ga...   \n",
       "3209  Our apartment has lots of light, a balcony and...   \n",
       "\n",
       "                                            description experiences_offered  \\\n",
       "id                                                                            \n",
       "2818  Quiet Garden View Room & Super Fast WiFi (up t...                none   \n",
       "3209  You will love our spacious (90 m2) bright apar...                none   \n",
       "\n",
       "                                  neighborhood_overview  \\\n",
       "id                                                        \n",
       "2818  Indische Buurt (\"Indies Neighborhood\") is a ne...   \n",
       "3209  Welcome to the Spaarndammerbuurt! From the beg...   \n",
       "\n",
       "                                                transit  \\\n",
       "id                                                        \n",
       "2818  The neighbourhood is well served by 24 hours p...   \n",
       "3209  From Central Station, walk towards the busstop...   \n",
       "\n",
       "                                           access  \\\n",
       "id                                                  \n",
       "2818                                          NaN   \n",
       "3209  You will have the entire house to yourself.   \n",
       "\n",
       "                                            interaction  \\\n",
       "id                                                        \n",
       "2818                                                NaN   \n",
       "3209  We will meet you in person for check in whenev...   \n",
       "\n",
       "                                            house_rules  \\\n",
       "id                                                        \n",
       "2818  Please: - Leave your shoes in the entrance  - ...   \n",
       "3209  Our house comes with our very sweet, but old (...   \n",
       "\n",
       "                   ...                 \\\n",
       "id                 ...                  \n",
       "2818               ...                  \n",
       "3209               ...                  \n",
       "\n",
       "                                              amenities has_availability  \\\n",
       "id                                                                         \n",
       "2818  {Internet,Wifi,\"Paid parking off premises\",\"Bu...                t   \n",
       "3209  {Internet,Wifi,Kitchen,\"Paid parking off premi...                t   \n",
       "\n",
       "     calendar_last_scraped requires_license jurisdiction_names  \\\n",
       "id                                                               \n",
       "2818            2018-08-07                f        {Amsterdam}   \n",
       "3209            2018-08-07                f        {Amsterdam}   \n",
       "\n",
       "     instant_bookable is_business_travel_ready          cancellation_policy  \\\n",
       "id                                                                            \n",
       "2818                t                        f  strict_14_with_grace_period   \n",
       "3209                f                        f                     moderate   \n",
       "\n",
       "     require_guest_profile_picture require_guest_phone_verification  \n",
       "id                                                                   \n",
       "2818                             f                                f  \n",
       "3209                             f                                f  \n",
       "\n",
       "[2 rows x 41 columns]"
      ]
     },
     "execution_count": 63,
     "metadata": {},
     "output_type": "execute_result"
    }
   ],
   "source": [
    "listings[object_vars].head(2)"
   ]
  },
  {
   "cell_type": "markdown",
   "metadata": {},
   "source": [
    "Checking the number of unique values for each object variable"
   ]
  },
  {
   "cell_type": "code",
   "execution_count": 64,
   "metadata": {
    "scrolled": true
   },
   "outputs": [
    {
     "name": "stdout",
     "output_type": "stream",
     "text": [
      "last_scraped\n",
      "(1,)\n",
      "summary\n",
      "(18865,)\n",
      "space\n",
      "(14265,)\n",
      "description\n",
      "(19636,)\n",
      "experiences_offered\n",
      "(1,)\n",
      "neighborhood_overview\n",
      "(11901,)\n",
      "transit\n",
      "(12896,)\n",
      "access\n",
      "(9649,)\n",
      "interaction\n",
      "(9625,)\n",
      "house_rules\n",
      "(10778,)\n",
      "host_name\n",
      "(5862,)\n",
      "host_location\n",
      "(539,)\n",
      "host_about\n",
      "(9456,)\n",
      "host_response_time\n",
      "(4,)\n",
      "host_is_superhost\n",
      "(2,)\n",
      "host_verifications\n",
      "(329,)\n",
      "host_has_profile_pic\n",
      "(2,)\n",
      "host_identity_verified\n",
      "(2,)\n",
      "street\n",
      "(112,)\n",
      "neighbourhood_cleansed\n",
      "(22,)\n",
      "city\n",
      "(34,)\n",
      "state\n",
      "(61,)\n",
      "zipcode\n",
      "(6768,)\n",
      "market\n",
      "(4,)\n",
      "smart_location\n",
      "(35,)\n",
      "country_code\n",
      "(1,)\n",
      "country\n",
      "(1,)\n",
      "is_location_exact\n",
      "(2,)\n",
      "property_type\n",
      "(32,)\n",
      "room_type\n",
      "(3,)\n",
      "bed_type\n",
      "(5,)\n",
      "amenities\n",
      "(18817,)\n",
      "has_availability\n",
      "(1,)\n",
      "calendar_last_scraped\n",
      "(1,)\n",
      "requires_license\n",
      "(1,)\n",
      "jurisdiction_names\n",
      "(1,)\n",
      "instant_bookable\n",
      "(2,)\n",
      "is_business_travel_ready\n",
      "(1,)\n",
      "cancellation_policy\n",
      "(5,)\n",
      "require_guest_profile_picture\n",
      "(2,)\n",
      "require_guest_phone_verification\n",
      "(2,)\n"
     ]
    }
   ],
   "source": [
    "obj_variable_value_counts = []\n",
    "for i in object_vars:\n",
    "    obj_variable_value_counts.append([i, listings[i].value_counts().shape[0]])\n",
    "    print (i) \n",
    "    print(listings[i].value_counts().shape)\n",
    "    "
   ]
  },
  {
   "cell_type": "markdown",
   "metadata": {},
   "source": [
    "In the next following lines I deleted other location variables as 'state', 'smart_locarion' and 'city' because they had large cardinality and most cases belonged to a single category."
   ]
  },
  {
   "cell_type": "code",
   "execution_count": 65,
   "metadata": {
    "collapsed": true
   },
   "outputs": [],
   "source": [
    "listings['state'].value_counts()\n",
    "listings=listings.drop(['state'], axis=1)"
   ]
  },
  {
   "cell_type": "code",
   "execution_count": 66,
   "metadata": {},
   "outputs": [
    {
     "data": {
      "text/plain": [
       "Amsterdam, Netherlands                       19761\n",
       "Amsterdam-Zuidoost, Netherlands                203\n",
       "Amsterdam Zuid-Oost, Netherlands                39\n",
       "Diemen, Netherlands                             12\n",
       "Amstelveen, Netherlands                         10\n",
       "Amsterdam , Netherlands                         10\n",
       "De Pijp, Netherlands                             7\n",
       "Watergraafsmeer, Netherlands                     6\n",
       "Duivendrecht, Netherlands                        5\n",
       "Jordaan, Netherlands                             5\n",
       "Amsterdam (Zunderdorp), Netherlands              3\n",
       "Amsterdam Zuidoost, Netherlands                  3\n",
       "Zandvoort, Netherlands                           3\n",
       "Zeeburg, Netherlands                             2\n",
       "NL, Netherlands                                  2\n",
       "Ámsterdam, Netherlands                           2\n",
       "Broek in Waterland, Netherlands                  2\n",
       "Amsterdam, Noord-Holland, NL, Netherlands        2\n",
       "Амстердам, Netherlands                           1\n",
       "Jordaan, Amsterdam, Netherlands                  1\n",
       "Badhoevedorp, Netherlands                        1\n",
       "1015 SN Amsterdam, Netherlands                   1\n",
       "Nederland, Netherlands                           1\n",
       "Haarlem, Netherlands                             1\n",
       "Amsterdam West, Netherlands                      1\n",
       "Landsmeer, Netherlands                           1\n",
       "Ouderkerk aan de Amstel, Netherlands             1\n",
       "Geuzenveld/Slotermeer, Netherlands               1\n",
       "Amsterdão, Netherlands                           1\n",
       "Weesp, Netherlands                               1\n",
       "Zwanenburg, Netherlands                          1\n",
       "Halfweg, Netherlands                             1\n",
       "Lijnden, Netherlands                             1\n",
       "Government of Amsterdam, Netherlands             1\n",
       "Centrem, Netherlands                             1\n",
       "Name: smart_location, dtype: int64"
      ]
     },
     "execution_count": 66,
     "metadata": {},
     "output_type": "execute_result"
    }
   ],
   "source": [
    "listings['smart_location'].value_counts()"
   ]
  },
  {
   "cell_type": "code",
   "execution_count": 67,
   "metadata": {},
   "outputs": [
    {
     "data": {
      "text/plain": [
       "Amsterdam                       19761\n",
       "Amsterdam-Zuidoost                203\n",
       "Amsterdam Zuid-Oost                39\n",
       "Diemen                             12\n",
       "Amsterdam                          10\n",
       "Amstelveen                         10\n",
       "De Pijp                             7\n",
       "Watergraafsmeer                     6\n",
       "Jordaan                             5\n",
       "Duivendrecht                        5\n",
       "Zandvoort                           3\n",
       "Amsterdam (Zunderdorp)              3\n",
       "Amsterdam Zuidoost                  3\n",
       "Amsterdam, Noord-Holland, NL        2\n",
       "Broek in Waterland                  2\n",
       "Zeeburg                             2\n",
       "Ámsterdam                           2\n",
       "Centrem                             1\n",
       "Nederland                           1\n",
       "Geuzenveld/Slotermeer               1\n",
       "Badhoevedorp                        1\n",
       "Government of Amsterdam             1\n",
       "Zwanenburg                          1\n",
       "Ouderkerk aan de Amstel             1\n",
       "1015 SN Amsterdam                   1\n",
       "Weesp                               1\n",
       "Haarlem                             1\n",
       "Landsmeer                           1\n",
       "Lijnden                             1\n",
       "Amsterdão                           1\n",
       "Amsterdam West                      1\n",
       "Jordaan, Amsterdam                  1\n",
       "Halfweg                             1\n",
       "Амстердам                           1\n",
       "Name: city, dtype: int64"
      ]
     },
     "execution_count": 67,
     "metadata": {},
     "output_type": "execute_result"
    }
   ],
   "source": [
    "listings['city'].value_counts()\n"
   ]
  },
  {
   "cell_type": "code",
   "execution_count": 68,
   "metadata": {
    "collapsed": true
   },
   "outputs": [],
   "source": [
    "listings=listings.drop(['city'], axis=1)"
   ]
  },
  {
   "cell_type": "code",
   "execution_count": 69,
   "metadata": {
    "collapsed": true
   },
   "outputs": [],
   "source": [
    "listings=listings.drop(['smart_location'], axis=1)"
   ]
  },
  {
   "cell_type": "code",
   "execution_count": 70,
   "metadata": {},
   "outputs": [
    {
     "data": {
      "text/plain": [
       "De Baarsjes - Oud-West                    3524\n",
       "De Pijp - Rivierenbuurt                   2503\n",
       "Centrum-West                              2316\n",
       "Centrum-Oost                              1716\n",
       "Westerpark                                1505\n",
       "Zuid                                      1462\n",
       "Oud-Oost                                  1276\n",
       "Bos en Lommer                             1132\n",
       "Oostelijk Havengebied - Indische Buurt     974\n",
       "Watergraafsmeer                            574\n",
       "Oud-Noord                                  572\n",
       "IJburg - Zeeburgereiland                   481\n",
       "Slotervaart                                391\n",
       "Noord-West                                 320\n",
       "Noord-Oost                                 263\n",
       "Buitenveldert - Zuidas                     252\n",
       "Geuzenveld - Slotermeer                    219\n",
       "Osdorp                                     154\n",
       "De Aker - Nieuw Sloten                     140\n",
       "Gaasperdam - Driemond                      115\n",
       "Bijlmer-Centrum                            108\n",
       "Bijlmer-Oost                                97\n",
       "Name: neighbourhood_cleansed, dtype: int64"
      ]
     },
     "execution_count": 70,
     "metadata": {},
     "output_type": "execute_result"
    }
   ],
   "source": [
    "listings['neighbourhood_cleansed'].value_counts()"
   ]
  },
  {
   "cell_type": "code",
   "execution_count": 71,
   "metadata": {},
   "outputs": [
    {
     "data": {
      "text/plain": [
       "Apartment                 15747\n",
       "House                      1598\n",
       "Townhouse                   654\n",
       "Boat                        406\n",
       "Bed and breakfast           405\n",
       "Loft                        372\n",
       "Condominium                 303\n",
       "Houseboat                   187\n",
       "Guest suite                 145\n",
       "Other                        57\n",
       "Serviced apartment           41\n",
       "Guesthouse                   34\n",
       "Villa                        31\n",
       "Boutique hotel               26\n",
       "Cabin                        16\n",
       "Bungalow                     16\n",
       "Cottage                      14\n",
       "Hostel                        9\n",
       "Tiny house                    5\n",
       "Hotel                         5\n",
       "Chalet                        5\n",
       "Barn                          4\n",
       "Camper/RV                     4\n",
       "Tent                          2\n",
       "Lighthouse                    1\n",
       "Yurt                          1\n",
       "Castle                        1\n",
       "Casa particular (Cuba)        1\n",
       "Campsite                      1\n",
       "Earth house                   1\n",
       "Windmill                      1\n",
       "Aparthotel                    1\n",
       "Name: property_type, dtype: int64"
      ]
     },
     "execution_count": 71,
     "metadata": {},
     "output_type": "execute_result"
    }
   ],
   "source": [
    "listings['property_type'].value_counts()"
   ]
  },
  {
   "cell_type": "markdown",
   "metadata": {},
   "source": [
    "If a variable has only 1 value, it should be discarded from the dataset. If it has two values, it should be converted to boolean."
   ]
  },
  {
   "cell_type": "code",
   "execution_count": 72,
   "metadata": {
    "collapsed": true
   },
   "outputs": [],
   "source": [
    "for i in obj_variable_value_counts:\n",
    "    if i[1]==1: \n",
    "        listings=listings.drop(i[0], axis=1)\n",
    "    if i[1]==2:\n",
    "        listings[i[0]]=(listings[i[0]]=='t').astype(bool)\n",
    " "
   ]
  },
  {
   "cell_type": "code",
   "execution_count": 73,
   "metadata": {},
   "outputs": [
    {
     "name": "stdout",
     "output_type": "stream",
     "text": [
      "<class 'pandas.core.frame.DataFrame'>\n",
      "Int64Index: 20094 entries, 2818 to 27565537\n",
      "Data columns (total 68 columns):\n",
      "summary                             19571 non-null object\n",
      "space                               14726 non-null object\n",
      "description                         19986 non-null object\n",
      "neighborhood_overview               13363 non-null object\n",
      "transit                             13494 non-null object\n",
      "access                              12460 non-null object\n",
      "interaction                         12126 non-null object\n",
      "house_rules                         12524 non-null object\n",
      "host_name                           20089 non-null object\n",
      "host_since                          20089 non-null float64\n",
      "host_location                       20045 non-null object\n",
      "host_about                          11960 non-null object\n",
      "host_response_time                  13078 non-null object\n",
      "host_response_rate                  13078 non-null float64\n",
      "host_is_superhost                   20094 non-null bool\n",
      "host_listings_count                 20089 non-null float64\n",
      "host_total_listings_count           20089 non-null float64\n",
      "host_verifications                  20094 non-null object\n",
      "host_has_profile_pic                20094 non-null bool\n",
      "host_identity_verified              20094 non-null bool\n",
      "street                              20094 non-null object\n",
      "neighbourhood_cleansed              20094 non-null object\n",
      "zipcode                             19270 non-null object\n",
      "market                              20048 non-null object\n",
      "latitude                            20094 non-null float64\n",
      "longitude                           20094 non-null float64\n",
      "is_location_exact                   20094 non-null bool\n",
      "property_type                       20094 non-null object\n",
      "room_type                           20094 non-null object\n",
      "accommodates                        20094 non-null int64\n",
      "bathrooms                           20085 non-null float64\n",
      "bedrooms                            20087 non-null float64\n",
      "beds                                20088 non-null float64\n",
      "bed_type                            20094 non-null object\n",
      "amenities                           20094 non-null object\n",
      "price                               20094 non-null float64\n",
      "security_deposit                    13791 non-null float64\n",
      "cleaning_fee                        16476 non-null float64\n",
      "guests_included                     20094 non-null int64\n",
      "extra_people                        20094 non-null float64\n",
      "minimum_nights                      20094 non-null int64\n",
      "maximum_nights                      20094 non-null int64\n",
      "calendar_updated                    18349 non-null float64\n",
      "availability_30                     20094 non-null int64\n",
      "availability_60                     20094 non-null int64\n",
      "availability_90                     20094 non-null int64\n",
      "availability_365                    20094 non-null int64\n",
      "number_of_reviews                   20094 non-null int64\n",
      "first_review                        17656 non-null float64\n",
      "last_review                         17658 non-null float64\n",
      "review_scores_rating                17389 non-null float64\n",
      "review_scores_accuracy              17373 non-null float64\n",
      "review_scores_cleanliness           17377 non-null float64\n",
      "review_scores_checkin               17359 non-null float64\n",
      "review_scores_communication         17373 non-null float64\n",
      "review_scores_location              17360 non-null float64\n",
      "review_scores_value                 17359 non-null float64\n",
      "instant_bookable                    20094 non-null bool\n",
      "cancellation_policy                 20094 non-null object\n",
      "require_guest_profile_picture       20094 non-null bool\n",
      "require_guest_phone_verification    20094 non-null bool\n",
      "calculated_host_listings_count      20094 non-null int64\n",
      "reviews_per_month                   17656 non-null float64\n",
      "is_weekly_price                     20094 non-null bool\n",
      "is_monthly_price                    20094 non-null bool\n",
      "first_review_month                  17656 non-null float64\n",
      "last_review_month                   17658 non-null float64\n",
      "price_log                           20094 non-null float64\n",
      "dtypes: bool(9), float64(27), int64(10), object(22)\n",
      "memory usage: 9.4+ MB\n"
     ]
    }
   ],
   "source": [
    "listings.info()"
   ]
  },
  {
   "cell_type": "markdown",
   "metadata": {},
   "source": [
    "Each verification type from 'host_verifications' needs to be converted to its own dummy variable."
   ]
  },
  {
   "cell_type": "code",
   "execution_count": 74,
   "metadata": {
    "scrolled": true
   },
   "outputs": [
    {
     "data": {
      "text/plain": [
       "id\n",
       "2818              ['email', 'phone', 'reviews']\n",
       "3209     ['email', 'phone', 'reviews', 'jumio']\n",
       "20168             ['email', 'phone', 'reviews']\n",
       "25428             ['email', 'phone', 'reviews']\n",
       "27886    ['email', 'phone', 'reviews', 'jumio']\n",
       "Name: host_verifications, dtype: object"
      ]
     },
     "execution_count": 74,
     "metadata": {},
     "output_type": "execute_result"
    }
   ],
   "source": [
    "listings['host_verifications'].head()"
   ]
  },
  {
   "cell_type": "code",
   "execution_count": 75,
   "metadata": {
    "collapsed": true
   },
   "outputs": [],
   "source": [
    "listings['host_verifications'] = listings['host_verifications'].apply(eval)"
   ]
  },
  {
   "cell_type": "code",
   "execution_count": 76,
   "metadata": {
    "collapsed": true
   },
   "outputs": [],
   "source": [
    "listings_host_ver=pd.get_dummies(listings['host_verifications'].apply(pd.Series).stack()).sum(level=0)"
   ]
  },
  {
   "cell_type": "markdown",
   "metadata": {},
   "source": [
    "Add prefix to columns to make them easily distinguishable later."
   ]
  },
  {
   "cell_type": "code",
   "execution_count": 77,
   "metadata": {
    "collapsed": true
   },
   "outputs": [],
   "source": [
    "listings_host_ver.columns = [\"host_verifications_\" + c for c in listings_host_ver.columns]"
   ]
  },
  {
   "cell_type": "code",
   "execution_count": 78,
   "metadata": {
    "collapsed": true
   },
   "outputs": [],
   "source": [
    "listings=pd.concat([listings,listings_host_ver], axis=1)"
   ]
  },
  {
   "cell_type": "code",
   "execution_count": 79,
   "metadata": {
    "collapsed": true
   },
   "outputs": [],
   "source": [
    "listings=listings.drop('host_verifications', axis=1)"
   ]
  },
  {
   "cell_type": "code",
   "execution_count": 80,
   "metadata": {},
   "outputs": [
    {
     "data": {
      "text/html": [
       "<div>\n",
       "<style scoped>\n",
       "    .dataframe tbody tr th:only-of-type {\n",
       "        vertical-align: middle;\n",
       "    }\n",
       "\n",
       "    .dataframe tbody tr th {\n",
       "        vertical-align: top;\n",
       "    }\n",
       "\n",
       "    .dataframe thead th {\n",
       "        text-align: right;\n",
       "    }\n",
       "</style>\n",
       "<table border=\"1\" class=\"dataframe\">\n",
       "  <thead>\n",
       "    <tr style=\"text-align: right;\">\n",
       "      <th></th>\n",
       "      <th>summary</th>\n",
       "      <th>space</th>\n",
       "      <th>description</th>\n",
       "      <th>neighborhood_overview</th>\n",
       "      <th>transit</th>\n",
       "      <th>access</th>\n",
       "      <th>interaction</th>\n",
       "      <th>house_rules</th>\n",
       "      <th>host_name</th>\n",
       "      <th>host_since</th>\n",
       "      <th>...</th>\n",
       "      <th>host_verifications_offline_government_id</th>\n",
       "      <th>host_verifications_phone</th>\n",
       "      <th>host_verifications_reviews</th>\n",
       "      <th>host_verifications_selfie</th>\n",
       "      <th>host_verifications_sent_id</th>\n",
       "      <th>host_verifications_sesame</th>\n",
       "      <th>host_verifications_sesame_offline</th>\n",
       "      <th>host_verifications_weibo</th>\n",
       "      <th>host_verifications_work_email</th>\n",
       "      <th>host_verifications_zhima_selfie</th>\n",
       "    </tr>\n",
       "    <tr>\n",
       "      <th>id</th>\n",
       "      <th></th>\n",
       "      <th></th>\n",
       "      <th></th>\n",
       "      <th></th>\n",
       "      <th></th>\n",
       "      <th></th>\n",
       "      <th></th>\n",
       "      <th></th>\n",
       "      <th></th>\n",
       "      <th></th>\n",
       "      <th></th>\n",
       "      <th></th>\n",
       "      <th></th>\n",
       "      <th></th>\n",
       "      <th></th>\n",
       "      <th></th>\n",
       "      <th></th>\n",
       "      <th></th>\n",
       "      <th></th>\n",
       "      <th></th>\n",
       "      <th></th>\n",
       "    </tr>\n",
       "  </thead>\n",
       "  <tbody>\n",
       "    <tr>\n",
       "      <th>2818</th>\n",
       "      <td>Quiet Garden View Room &amp; Super Fast WiFi (up t...</td>\n",
       "      <td>I'm renting a bedroom (room overlooking the ga...</td>\n",
       "      <td>Quiet Garden View Room &amp; Super Fast WiFi (up t...</td>\n",
       "      <td>Indische Buurt (\"Indies Neighborhood\") is a ne...</td>\n",
       "      <td>The neighbourhood is well served by 24 hours p...</td>\n",
       "      <td>NaN</td>\n",
       "      <td>NaN</td>\n",
       "      <td>Please: - Leave your shoes in the entrance  - ...</td>\n",
       "      <td>Daniel</td>\n",
       "      <td>3604.0</td>\n",
       "      <td>...</td>\n",
       "      <td>0.0</td>\n",
       "      <td>1.0</td>\n",
       "      <td>1.0</td>\n",
       "      <td>0.0</td>\n",
       "      <td>0.0</td>\n",
       "      <td>0.0</td>\n",
       "      <td>0.0</td>\n",
       "      <td>0.0</td>\n",
       "      <td>0.0</td>\n",
       "      <td>0.0</td>\n",
       "    </tr>\n",
       "    <tr>\n",
       "      <th>3209</th>\n",
       "      <td>You will love our spacious (90 m2) bright apar...</td>\n",
       "      <td>Our apartment has lots of light, a balcony and...</td>\n",
       "      <td>You will love our spacious (90 m2) bright apar...</td>\n",
       "      <td>Welcome to the Spaarndammerbuurt! From the beg...</td>\n",
       "      <td>From Central Station, walk towards the busstop...</td>\n",
       "      <td>You will have the entire house to yourself.</td>\n",
       "      <td>We will meet you in person for check in whenev...</td>\n",
       "      <td>Our house comes with our very sweet, but old (...</td>\n",
       "      <td>Maartje</td>\n",
       "      <td>3574.0</td>\n",
       "      <td>...</td>\n",
       "      <td>0.0</td>\n",
       "      <td>1.0</td>\n",
       "      <td>1.0</td>\n",
       "      <td>0.0</td>\n",
       "      <td>0.0</td>\n",
       "      <td>0.0</td>\n",
       "      <td>0.0</td>\n",
       "      <td>0.0</td>\n",
       "      <td>0.0</td>\n",
       "      <td>0.0</td>\n",
       "    </tr>\n",
       "  </tbody>\n",
       "</table>\n",
       "<p>2 rows × 86 columns</p>\n",
       "</div>"
      ],
      "text/plain": [
       "                                                summary  \\\n",
       "id                                                        \n",
       "2818  Quiet Garden View Room & Super Fast WiFi (up t...   \n",
       "3209  You will love our spacious (90 m2) bright apar...   \n",
       "\n",
       "                                                  space  \\\n",
       "id                                                        \n",
       "2818  I'm renting a bedroom (room overlooking the ga...   \n",
       "3209  Our apartment has lots of light, a balcony and...   \n",
       "\n",
       "                                            description  \\\n",
       "id                                                        \n",
       "2818  Quiet Garden View Room & Super Fast WiFi (up t...   \n",
       "3209  You will love our spacious (90 m2) bright apar...   \n",
       "\n",
       "                                  neighborhood_overview  \\\n",
       "id                                                        \n",
       "2818  Indische Buurt (\"Indies Neighborhood\") is a ne...   \n",
       "3209  Welcome to the Spaarndammerbuurt! From the beg...   \n",
       "\n",
       "                                                transit  \\\n",
       "id                                                        \n",
       "2818  The neighbourhood is well served by 24 hours p...   \n",
       "3209  From Central Station, walk towards the busstop...   \n",
       "\n",
       "                                           access  \\\n",
       "id                                                  \n",
       "2818                                          NaN   \n",
       "3209  You will have the entire house to yourself.   \n",
       "\n",
       "                                            interaction  \\\n",
       "id                                                        \n",
       "2818                                                NaN   \n",
       "3209  We will meet you in person for check in whenev...   \n",
       "\n",
       "                                            house_rules host_name  host_since  \\\n",
       "id                                                                              \n",
       "2818  Please: - Leave your shoes in the entrance  - ...    Daniel      3604.0   \n",
       "3209  Our house comes with our very sweet, but old (...   Maartje      3574.0   \n",
       "\n",
       "                   ...               host_verifications_offline_government_id  \\\n",
       "id                 ...                                                          \n",
       "2818               ...                                                    0.0   \n",
       "3209               ...                                                    0.0   \n",
       "\n",
       "     host_verifications_phone host_verifications_reviews  \\\n",
       "id                                                         \n",
       "2818                      1.0                        1.0   \n",
       "3209                      1.0                        1.0   \n",
       "\n",
       "      host_verifications_selfie  host_verifications_sent_id  \\\n",
       "id                                                            \n",
       "2818                        0.0                         0.0   \n",
       "3209                        0.0                         0.0   \n",
       "\n",
       "      host_verifications_sesame  host_verifications_sesame_offline  \\\n",
       "id                                                                   \n",
       "2818                        0.0                                0.0   \n",
       "3209                        0.0                                0.0   \n",
       "\n",
       "      host_verifications_weibo  host_verifications_work_email  \\\n",
       "id                                                              \n",
       "2818                       0.0                            0.0   \n",
       "3209                       0.0                            0.0   \n",
       "\n",
       "     host_verifications_zhima_selfie  \n",
       "id                                    \n",
       "2818                             0.0  \n",
       "3209                             0.0  \n",
       "\n",
       "[2 rows x 86 columns]"
      ]
     },
     "execution_count": 80,
     "metadata": {},
     "output_type": "execute_result"
    }
   ],
   "source": [
    "listings.head(2)"
   ]
  },
  {
   "cell_type": "markdown",
   "metadata": {},
   "source": [
    "Checking some variables with only a few values"
   ]
  },
  {
   "cell_type": "code",
   "execution_count": 81,
   "metadata": {},
   "outputs": [
    {
     "data": {
      "text/html": [
       "<div>\n",
       "<style scoped>\n",
       "    .dataframe tbody tr th:only-of-type {\n",
       "        vertical-align: middle;\n",
       "    }\n",
       "\n",
       "    .dataframe tbody tr th {\n",
       "        vertical-align: top;\n",
       "    }\n",
       "\n",
       "    .dataframe thead th {\n",
       "        text-align: right;\n",
       "    }\n",
       "</style>\n",
       "<table border=\"1\" class=\"dataframe\">\n",
       "  <thead>\n",
       "    <tr style=\"text-align: right;\">\n",
       "      <th></th>\n",
       "      <th>price</th>\n",
       "    </tr>\n",
       "    <tr>\n",
       "      <th>cancellation_policy</th>\n",
       "      <th></th>\n",
       "    </tr>\n",
       "  </thead>\n",
       "  <tbody>\n",
       "    <tr>\n",
       "      <th>flexible</th>\n",
       "      <td>134.046160</td>\n",
       "    </tr>\n",
       "    <tr>\n",
       "      <th>moderate</th>\n",
       "      <td>137.162855</td>\n",
       "    </tr>\n",
       "    <tr>\n",
       "      <th>strict_14_with_grace_period</th>\n",
       "      <td>159.897925</td>\n",
       "    </tr>\n",
       "    <tr>\n",
       "      <th>super_strict_30</th>\n",
       "      <td>80.333333</td>\n",
       "    </tr>\n",
       "    <tr>\n",
       "      <th>super_strict_60</th>\n",
       "      <td>453.878788</td>\n",
       "    </tr>\n",
       "  </tbody>\n",
       "</table>\n",
       "</div>"
      ],
      "text/plain": [
       "                                  price\n",
       "cancellation_policy                    \n",
       "flexible                     134.046160\n",
       "moderate                     137.162855\n",
       "strict_14_with_grace_period  159.897925\n",
       "super_strict_30               80.333333\n",
       "super_strict_60              453.878788"
      ]
     },
     "execution_count": 81,
     "metadata": {},
     "output_type": "execute_result"
    }
   ],
   "source": [
    "price_policy = listings[['price','cancellation_policy']].groupby('cancellation_policy').mean()\n",
    "price_policy.head()"
   ]
  },
  {
   "cell_type": "code",
   "execution_count": 82,
   "metadata": {},
   "outputs": [
    {
     "data": {
      "text/html": [
       "<div>\n",
       "<style scoped>\n",
       "    .dataframe tbody tr th:only-of-type {\n",
       "        vertical-align: middle;\n",
       "    }\n",
       "\n",
       "    .dataframe tbody tr th {\n",
       "        vertical-align: top;\n",
       "    }\n",
       "\n",
       "    .dataframe thead th {\n",
       "        text-align: right;\n",
       "    }\n",
       "</style>\n",
       "<table border=\"1\" class=\"dataframe\">\n",
       "  <thead>\n",
       "    <tr style=\"text-align: right;\">\n",
       "      <th></th>\n",
       "      <th>price</th>\n",
       "    </tr>\n",
       "    <tr>\n",
       "      <th>room_type</th>\n",
       "      <th></th>\n",
       "    </tr>\n",
       "  </thead>\n",
       "  <tbody>\n",
       "    <tr>\n",
       "      <th>Entire home/apt</th>\n",
       "      <td>158.224831</td>\n",
       "    </tr>\n",
       "    <tr>\n",
       "      <th>Private room</th>\n",
       "      <td>97.392733</td>\n",
       "    </tr>\n",
       "    <tr>\n",
       "      <th>Shared room</th>\n",
       "      <td>90.500000</td>\n",
       "    </tr>\n",
       "  </tbody>\n",
       "</table>\n",
       "</div>"
      ],
      "text/plain": [
       "                      price\n",
       "room_type                  \n",
       "Entire home/apt  158.224831\n",
       "Private room      97.392733\n",
       "Shared room       90.500000"
      ]
     },
     "execution_count": 82,
     "metadata": {},
     "output_type": "execute_result"
    }
   ],
   "source": [
    "room_type= listings[['price','room_type']].groupby('room_type').mean()\n",
    "room_type.head()\n"
   ]
  },
  {
   "cell_type": "code",
   "execution_count": 83,
   "metadata": {},
   "outputs": [
    {
     "data": {
      "text/html": [
       "<div>\n",
       "<style scoped>\n",
       "    .dataframe tbody tr th:only-of-type {\n",
       "        vertical-align: middle;\n",
       "    }\n",
       "\n",
       "    .dataframe tbody tr th {\n",
       "        vertical-align: top;\n",
       "    }\n",
       "\n",
       "    .dataframe thead th {\n",
       "        text-align: right;\n",
       "    }\n",
       "</style>\n",
       "<table border=\"1\" class=\"dataframe\">\n",
       "  <thead>\n",
       "    <tr style=\"text-align: right;\">\n",
       "      <th></th>\n",
       "      <th>price</th>\n",
       "    </tr>\n",
       "    <tr>\n",
       "      <th>bed_type</th>\n",
       "      <th></th>\n",
       "    </tr>\n",
       "  </thead>\n",
       "  <tbody>\n",
       "    <tr>\n",
       "      <th>Airbed</th>\n",
       "      <td>116.312500</td>\n",
       "    </tr>\n",
       "    <tr>\n",
       "      <th>Couch</th>\n",
       "      <td>87.000000</td>\n",
       "    </tr>\n",
       "    <tr>\n",
       "      <th>Futon</th>\n",
       "      <td>94.116279</td>\n",
       "    </tr>\n",
       "    <tr>\n",
       "      <th>Pull-out Sofa</th>\n",
       "      <td>92.972603</td>\n",
       "    </tr>\n",
       "    <tr>\n",
       "      <th>Real Bed</th>\n",
       "      <td>146.386763</td>\n",
       "    </tr>\n",
       "  </tbody>\n",
       "</table>\n",
       "</div>"
      ],
      "text/plain": [
       "                    price\n",
       "bed_type                 \n",
       "Airbed         116.312500\n",
       "Couch           87.000000\n",
       "Futon           94.116279\n",
       "Pull-out Sofa   92.972603\n",
       "Real Bed       146.386763"
      ]
     },
     "execution_count": 83,
     "metadata": {},
     "output_type": "execute_result"
    }
   ],
   "source": [
    "bed_type= listings[['price','bed_type']].groupby('bed_type').mean()\n",
    "bed_type.head()\n"
   ]
  },
  {
   "cell_type": "code",
   "execution_count": 84,
   "metadata": {},
   "outputs": [
    {
     "data": {
      "text/html": [
       "<div>\n",
       "<style scoped>\n",
       "    .dataframe tbody tr th:only-of-type {\n",
       "        vertical-align: middle;\n",
       "    }\n",
       "\n",
       "    .dataframe tbody tr th {\n",
       "        vertical-align: top;\n",
       "    }\n",
       "\n",
       "    .dataframe thead th {\n",
       "        text-align: right;\n",
       "    }\n",
       "</style>\n",
       "<table border=\"1\" class=\"dataframe\">\n",
       "  <thead>\n",
       "    <tr style=\"text-align: right;\">\n",
       "      <th></th>\n",
       "      <th>price</th>\n",
       "    </tr>\n",
       "    <tr>\n",
       "      <th>host_response_time</th>\n",
       "      <th></th>\n",
       "    </tr>\n",
       "  </thead>\n",
       "  <tbody>\n",
       "    <tr>\n",
       "      <th>a few days or more</th>\n",
       "      <td>159.350820</td>\n",
       "    </tr>\n",
       "    <tr>\n",
       "      <th>within a day</th>\n",
       "      <td>158.243086</td>\n",
       "    </tr>\n",
       "    <tr>\n",
       "      <th>within a few hours</th>\n",
       "      <td>157.035827</td>\n",
       "    </tr>\n",
       "    <tr>\n",
       "      <th>within an hour</th>\n",
       "      <td>144.249598</td>\n",
       "    </tr>\n",
       "  </tbody>\n",
       "</table>\n",
       "</div>"
      ],
      "text/plain": [
       "                         price\n",
       "host_response_time            \n",
       "a few days or more  159.350820\n",
       "within a day        158.243086\n",
       "within a few hours  157.035827\n",
       "within an hour      144.249598"
      ]
     },
     "execution_count": 84,
     "metadata": {},
     "output_type": "execute_result"
    }
   ],
   "source": [
    "host_response_time= listings[['price','host_response_time']].groupby('host_response_time').mean()\n",
    "host_response_time.head()"
   ]
  },
  {
   "cell_type": "code",
   "execution_count": 85,
   "metadata": {},
   "outputs": [
    {
     "data": {
      "text/html": [
       "<div>\n",
       "<style scoped>\n",
       "    .dataframe tbody tr th:only-of-type {\n",
       "        vertical-align: middle;\n",
       "    }\n",
       "\n",
       "    .dataframe tbody tr th {\n",
       "        vertical-align: top;\n",
       "    }\n",
       "\n",
       "    .dataframe thead th {\n",
       "        text-align: right;\n",
       "    }\n",
       "</style>\n",
       "<table border=\"1\" class=\"dataframe\">\n",
       "  <thead>\n",
       "    <tr style=\"text-align: right;\">\n",
       "      <th></th>\n",
       "      <th>price</th>\n",
       "    </tr>\n",
       "    <tr>\n",
       "      <th>market</th>\n",
       "      <th></th>\n",
       "    </tr>\n",
       "  </thead>\n",
       "  <tbody>\n",
       "    <tr>\n",
       "      <th>Amsterdam</th>\n",
       "      <td>145.88626</td>\n",
       "    </tr>\n",
       "    <tr>\n",
       "      <th>Barcelona</th>\n",
       "      <td>98.00000</td>\n",
       "    </tr>\n",
       "    <tr>\n",
       "      <th>Other (International)</th>\n",
       "      <td>116.00000</td>\n",
       "    </tr>\n",
       "    <tr>\n",
       "      <th>Vilnius</th>\n",
       "      <td>96.00000</td>\n",
       "    </tr>\n",
       "  </tbody>\n",
       "</table>\n",
       "</div>"
      ],
      "text/plain": [
       "                           price\n",
       "market                          \n",
       "Amsterdam              145.88626\n",
       "Barcelona               98.00000\n",
       "Other (International)  116.00000\n",
       "Vilnius                 96.00000"
      ]
     },
     "execution_count": 85,
     "metadata": {},
     "output_type": "execute_result"
    }
   ],
   "source": [
    "market= listings[['price','market']].groupby('market').mean()\n",
    "market.head()\n"
   ]
  },
  {
   "cell_type": "markdown",
   "metadata": {},
   "source": [
    "### Getting 'rid' of the variables with too many unique values"
   ]
  },
  {
   "cell_type": "code",
   "execution_count": 86,
   "metadata": {},
   "outputs": [
    {
     "name": "stdout",
     "output_type": "stream",
     "text": [
      "summary\n",
      "(18865,)\n",
      "space\n",
      "(14265,)\n",
      "description\n",
      "(19636,)\n",
      "neighborhood_overview\n",
      "(11901,)\n",
      "transit\n",
      "(12896,)\n",
      "access\n",
      "(9649,)\n",
      "interaction\n",
      "(9625,)\n",
      "house_rules\n",
      "(10778,)\n",
      "host_name\n",
      "(5862,)\n",
      "host_location\n",
      "(539,)\n",
      "host_about\n",
      "(9456,)\n",
      "host_response_time\n",
      "(4,)\n",
      "street\n",
      "(112,)\n",
      "neighbourhood_cleansed\n",
      "(22,)\n",
      "zipcode\n",
      "(6768,)\n",
      "market\n",
      "(4,)\n",
      "property_type\n",
      "(32,)\n",
      "room_type\n",
      "(3,)\n",
      "bed_type\n",
      "(5,)\n",
      "amenities\n",
      "(18817,)\n",
      "cancellation_policy\n",
      "(5,)\n"
     ]
    }
   ],
   "source": [
    "object_vars=listings.select_dtypes(include='object').columns\n",
    "obj_variable_value_counts = []\n",
    "for i in object_vars:\n",
    "    print (i) \n",
    "    obj_variable_value_counts.append([i, listings[i].value_counts().shape[0]])\n",
    "\n",
    "    print(listings[i].value_counts().shape)"
   ]
  },
  {
   "cell_type": "markdown",
   "metadata": {},
   "source": [
    "### Building up another df for regression and corr matrix without the texts"
   ]
  },
  {
   "cell_type": "code",
   "execution_count": 87,
   "metadata": {
    "collapsed": true
   },
   "outputs": [],
   "source": [
    "listings_clean=listings.copy()\n",
    "for i in obj_variable_value_counts:\n",
    "    if i[1]>100: \n",
    "        listings_clean=listings_clean.drop(i[0], axis=1)"
   ]
  },
  {
   "cell_type": "code",
   "execution_count": 88,
   "metadata": {},
   "outputs": [
    {
     "name": "stdout",
     "output_type": "stream",
     "text": [
      "<class 'pandas.core.frame.DataFrame'>\n",
      "Int64Index: 20094 entries, 2818 to 27565537\n",
      "Data columns (total 72 columns):\n",
      "host_since                                  20089 non-null float64\n",
      "host_response_time                          13078 non-null object\n",
      "host_response_rate                          13078 non-null float64\n",
      "host_is_superhost                           20094 non-null bool\n",
      "host_listings_count                         20089 non-null float64\n",
      "host_total_listings_count                   20089 non-null float64\n",
      "host_has_profile_pic                        20094 non-null bool\n",
      "host_identity_verified                      20094 non-null bool\n",
      "neighbourhood_cleansed                      20094 non-null object\n",
      "market                                      20048 non-null object\n",
      "latitude                                    20094 non-null float64\n",
      "longitude                                   20094 non-null float64\n",
      "is_location_exact                           20094 non-null bool\n",
      "property_type                               20094 non-null object\n",
      "room_type                                   20094 non-null object\n",
      "accommodates                                20094 non-null int64\n",
      "bathrooms                                   20085 non-null float64\n",
      "bedrooms                                    20087 non-null float64\n",
      "beds                                        20088 non-null float64\n",
      "bed_type                                    20094 non-null object\n",
      "price                                       20094 non-null float64\n",
      "security_deposit                            13791 non-null float64\n",
      "cleaning_fee                                16476 non-null float64\n",
      "guests_included                             20094 non-null int64\n",
      "extra_people                                20094 non-null float64\n",
      "minimum_nights                              20094 non-null int64\n",
      "maximum_nights                              20094 non-null int64\n",
      "calendar_updated                            18349 non-null float64\n",
      "availability_30                             20094 non-null int64\n",
      "availability_60                             20094 non-null int64\n",
      "availability_90                             20094 non-null int64\n",
      "availability_365                            20094 non-null int64\n",
      "number_of_reviews                           20094 non-null int64\n",
      "first_review                                17656 non-null float64\n",
      "last_review                                 17658 non-null float64\n",
      "review_scores_rating                        17389 non-null float64\n",
      "review_scores_accuracy                      17373 non-null float64\n",
      "review_scores_cleanliness                   17377 non-null float64\n",
      "review_scores_checkin                       17359 non-null float64\n",
      "review_scores_communication                 17373 non-null float64\n",
      "review_scores_location                      17360 non-null float64\n",
      "review_scores_value                         17359 non-null float64\n",
      "instant_bookable                            20094 non-null bool\n",
      "cancellation_policy                         20094 non-null object\n",
      "require_guest_profile_picture               20094 non-null bool\n",
      "require_guest_phone_verification            20094 non-null bool\n",
      "calculated_host_listings_count              20094 non-null int64\n",
      "reviews_per_month                           17656 non-null float64\n",
      "is_weekly_price                             20094 non-null bool\n",
      "is_monthly_price                            20094 non-null bool\n",
      "first_review_month                          17656 non-null float64\n",
      "last_review_month                           17658 non-null float64\n",
      "price_log                                   20094 non-null float64\n",
      "host_verifications_email                    20020 non-null float64\n",
      "host_verifications_facebook                 20020 non-null float64\n",
      "host_verifications_google                   20020 non-null float64\n",
      "host_verifications_government_id            20020 non-null float64\n",
      "host_verifications_identity_manual          20020 non-null float64\n",
      "host_verifications_jumio                    20020 non-null float64\n",
      "host_verifications_kba                      20020 non-null float64\n",
      "host_verifications_manual_offline           20020 non-null float64\n",
      "host_verifications_manual_online            20020 non-null float64\n",
      "host_verifications_offline_government_id    20020 non-null float64\n",
      "host_verifications_phone                    20020 non-null float64\n",
      "host_verifications_reviews                  20020 non-null float64\n",
      "host_verifications_selfie                   20020 non-null float64\n",
      "host_verifications_sent_id                  20020 non-null float64\n",
      "host_verifications_sesame                   20020 non-null float64\n",
      "host_verifications_sesame_offline           20020 non-null float64\n",
      "host_verifications_weibo                    20020 non-null float64\n",
      "host_verifications_work_email               20020 non-null float64\n",
      "host_verifications_zhima_selfie             20020 non-null float64\n",
      "dtypes: bool(9), float64(46), int64(10), object(7)\n",
      "memory usage: 10.0+ MB\n"
     ]
    }
   ],
   "source": [
    "listings_clean.info()"
   ]
  },
  {
   "cell_type": "markdown",
   "metadata": {},
   "source": [
    "Discarding the geographic variables since it is out of scope for this analysis. It could be however an important future direction."
   ]
  },
  {
   "cell_type": "code",
   "execution_count": 89,
   "metadata": {
    "collapsed": true
   },
   "outputs": [],
   "source": [
    "listings_clean=listings_clean.drop(['longitude','latitude'], axis=1)"
   ]
  },
  {
   "cell_type": "markdown",
   "metadata": {},
   "source": [
    "# Correlation Matrix"
   ]
  },
  {
   "cell_type": "markdown",
   "metadata": {},
   "source": [
    "Using spearmanr correlation because that doesn't assume linear relationship"
   ]
  },
  {
   "cell_type": "code",
   "execution_count": 90,
   "metadata": {
    "collapsed": true
   },
   "outputs": [],
   "source": [
    "from scipy.stats import spearmanr"
   ]
  },
  {
   "cell_type": "markdown",
   "metadata": {},
   "source": [
    "Getting dummies from objects for correlation. \n",
    "\n",
    "Since we cannot include all dummies in the regression (would cause perfect multicollinearity), a category will be removed to be considered as a reference category, pd.get_dummies usually gets the first in the alphabetic order. I want to remove the most common category instead, therefore I rename the most common category to be first in the alphabetic order."
   ]
  },
  {
   "cell_type": "code",
   "execution_count": 91,
   "metadata": {
    "collapsed": true
   },
   "outputs": [],
   "source": [
    "object_vars=listings_clean.select_dtypes(include=['object']).columns"
   ]
  },
  {
   "cell_type": "code",
   "execution_count": 92,
   "metadata": {},
   "outputs": [
    {
     "name": "stdout",
     "output_type": "stream",
     "text": [
      "within an hour        6843\n",
      "within a few hours    3182\n",
      "within a day          2748\n",
      "a few days or more     305\n",
      "Name: host_response_time, dtype: int64\n",
      "De Baarsjes - Oud-West                    3524\n",
      "De Pijp - Rivierenbuurt                   2503\n",
      "Centrum-West                              2316\n",
      "Centrum-Oost                              1716\n",
      "Westerpark                                1505\n",
      "Zuid                                      1462\n",
      "Oud-Oost                                  1276\n",
      "Bos en Lommer                             1132\n",
      "Oostelijk Havengebied - Indische Buurt     974\n",
      "Watergraafsmeer                            574\n",
      "Oud-Noord                                  572\n",
      "IJburg - Zeeburgereiland                   481\n",
      "Slotervaart                                391\n",
      "Noord-West                                 320\n",
      "Noord-Oost                                 263\n",
      "Buitenveldert - Zuidas                     252\n",
      "Geuzenveld - Slotermeer                    219\n",
      "Osdorp                                     154\n",
      "De Aker - Nieuw Sloten                     140\n",
      "Gaasperdam - Driemond                      115\n",
      "Bijlmer-Centrum                            108\n",
      "Bijlmer-Oost                                97\n",
      "Name: neighbourhood_cleansed, dtype: int64\n"
     ]
    },
    {
     "name": "stderr",
     "output_type": "stream",
     "text": [
      "C:\\Anaconda3\\lib\\site-packages\\ipykernel_launcher.py:4: SettingWithCopyWarning: \n",
      "A value is trying to be set on a copy of a slice from a DataFrame\n",
      "\n",
      "See the caveats in the documentation: http://pandas.pydata.org/pandas-docs/stable/indexing.html#indexing-view-versus-copy\n",
      "  after removing the cwd from sys.path.\n"
     ]
    },
    {
     "name": "stdout",
     "output_type": "stream",
     "text": [
      "Amsterdam                20037\n",
      "Other (International)        9\n",
      "Barcelona                    1\n",
      "Vilnius                      1\n",
      "Name: market, dtype: int64\n",
      "Apartment                 15747\n",
      "House                      1598\n",
      "Townhouse                   654\n",
      "Boat                        406\n",
      "Bed and breakfast           405\n",
      "Loft                        372\n",
      "Condominium                 303\n",
      "Houseboat                   187\n",
      "Guest suite                 145\n",
      "Other                        57\n",
      "Serviced apartment           41\n",
      "Guesthouse                   34\n",
      "Villa                        31\n",
      "Boutique hotel               26\n",
      "Cabin                        16\n",
      "Bungalow                     16\n",
      "Cottage                      14\n",
      "Hostel                        9\n",
      "Tiny house                    5\n",
      "Hotel                         5\n",
      "Chalet                        5\n",
      "Barn                          4\n",
      "Camper/RV                     4\n",
      "Tent                          2\n",
      "Lighthouse                    1\n",
      "Yurt                          1\n",
      "Castle                        1\n",
      "Casa particular (Cuba)        1\n",
      "Campsite                      1\n",
      "Earth house                   1\n",
      "Windmill                      1\n",
      "Aparthotel                    1\n",
      "Name: property_type, dtype: int64\n",
      "Entire home/apt    16012\n",
      "Private room        4018\n",
      "Shared room           64\n",
      "Name: room_type, dtype: int64\n",
      "Real Bed         19883\n",
      "Pull-out Sofa      146\n",
      "Futon               43\n",
      "Airbed              16\n",
      "Couch                6\n",
      "Name: bed_type, dtype: int64\n",
      "strict_14_with_grace_period    7857\n",
      "moderate                       7565\n",
      "flexible                       4636\n",
      "super_strict_60                  33\n",
      "super_strict_30                   3\n",
      "Name: cancellation_policy, dtype: int64\n"
     ]
    }
   ],
   "source": [
    "for i in object_vars:\n",
    "    v_counts_df= listings_clean[i].value_counts()\n",
    "    print(v_counts_df)\n",
    "    listings_clean[i][listings_clean[i]==v_counts_df.index[0]]='00'+v_counts_df.index[0]"
   ]
  },
  {
   "cell_type": "code",
   "execution_count": 93,
   "metadata": {},
   "outputs": [
    {
     "data": {
      "text/html": [
       "<div>\n",
       "<style scoped>\n",
       "    .dataframe tbody tr th:only-of-type {\n",
       "        vertical-align: middle;\n",
       "    }\n",
       "\n",
       "    .dataframe tbody tr th {\n",
       "        vertical-align: top;\n",
       "    }\n",
       "\n",
       "    .dataframe thead th {\n",
       "        text-align: right;\n",
       "    }\n",
       "</style>\n",
       "<table border=\"1\" class=\"dataframe\">\n",
       "  <thead>\n",
       "    <tr style=\"text-align: right;\">\n",
       "      <th></th>\n",
       "      <th>host_response_time</th>\n",
       "      <th>neighbourhood_cleansed</th>\n",
       "      <th>market</th>\n",
       "      <th>property_type</th>\n",
       "      <th>room_type</th>\n",
       "      <th>bed_type</th>\n",
       "      <th>cancellation_policy</th>\n",
       "    </tr>\n",
       "    <tr>\n",
       "      <th>id</th>\n",
       "      <th></th>\n",
       "      <th></th>\n",
       "      <th></th>\n",
       "      <th></th>\n",
       "      <th></th>\n",
       "      <th></th>\n",
       "      <th></th>\n",
       "    </tr>\n",
       "  </thead>\n",
       "  <tbody>\n",
       "    <tr>\n",
       "      <th>2818</th>\n",
       "      <td>00within an hour</td>\n",
       "      <td>Oostelijk Havengebied - Indische Buurt</td>\n",
       "      <td>00Amsterdam</td>\n",
       "      <td>00Apartment</td>\n",
       "      <td>Private room</td>\n",
       "      <td>00Real Bed</td>\n",
       "      <td>00strict_14_with_grace_period</td>\n",
       "    </tr>\n",
       "    <tr>\n",
       "      <th>3209</th>\n",
       "      <td>00within an hour</td>\n",
       "      <td>Westerpark</td>\n",
       "      <td>00Amsterdam</td>\n",
       "      <td>00Apartment</td>\n",
       "      <td>00Entire home/apt</td>\n",
       "      <td>00Real Bed</td>\n",
       "      <td>moderate</td>\n",
       "    </tr>\n",
       "    <tr>\n",
       "      <th>20168</th>\n",
       "      <td>within a few hours</td>\n",
       "      <td>Centrum-Oost</td>\n",
       "      <td>00Amsterdam</td>\n",
       "      <td>Townhouse</td>\n",
       "      <td>Private room</td>\n",
       "      <td>00Real Bed</td>\n",
       "      <td>00strict_14_with_grace_period</td>\n",
       "    </tr>\n",
       "    <tr>\n",
       "      <th>25428</th>\n",
       "      <td>within a few hours</td>\n",
       "      <td>Centrum-West</td>\n",
       "      <td>00Amsterdam</td>\n",
       "      <td>00Apartment</td>\n",
       "      <td>00Entire home/apt</td>\n",
       "      <td>00Real Bed</td>\n",
       "      <td>00strict_14_with_grace_period</td>\n",
       "    </tr>\n",
       "    <tr>\n",
       "      <th>27886</th>\n",
       "      <td>00within an hour</td>\n",
       "      <td>Centrum-West</td>\n",
       "      <td>00Amsterdam</td>\n",
       "      <td>00Apartment</td>\n",
       "      <td>Private room</td>\n",
       "      <td>00Real Bed</td>\n",
       "      <td>00strict_14_with_grace_period</td>\n",
       "    </tr>\n",
       "  </tbody>\n",
       "</table>\n",
       "</div>"
      ],
      "text/plain": [
       "       host_response_time                  neighbourhood_cleansed  \\\n",
       "id                                                                  \n",
       "2818     00within an hour  Oostelijk Havengebied - Indische Buurt   \n",
       "3209     00within an hour                              Westerpark   \n",
       "20168  within a few hours                            Centrum-Oost   \n",
       "25428  within a few hours                            Centrum-West   \n",
       "27886    00within an hour                            Centrum-West   \n",
       "\n",
       "            market property_type          room_type    bed_type  \\\n",
       "id                                                                \n",
       "2818   00Amsterdam   00Apartment       Private room  00Real Bed   \n",
       "3209   00Amsterdam   00Apartment  00Entire home/apt  00Real Bed   \n",
       "20168  00Amsterdam     Townhouse       Private room  00Real Bed   \n",
       "25428  00Amsterdam   00Apartment  00Entire home/apt  00Real Bed   \n",
       "27886  00Amsterdam   00Apartment       Private room  00Real Bed   \n",
       "\n",
       "                 cancellation_policy  \n",
       "id                                    \n",
       "2818   00strict_14_with_grace_period  \n",
       "3209                        moderate  \n",
       "20168  00strict_14_with_grace_period  \n",
       "25428  00strict_14_with_grace_period  \n",
       "27886  00strict_14_with_grace_period  "
      ]
     },
     "execution_count": 93,
     "metadata": {},
     "output_type": "execute_result"
    }
   ],
   "source": [
    "listings_clean[object_vars].head()"
   ]
  },
  {
   "cell_type": "code",
   "execution_count": 94,
   "metadata": {
    "collapsed": true
   },
   "outputs": [],
   "source": [
    "listings_clean = pd.get_dummies(listings_clean, drop_first=True)"
   ]
  },
  {
   "cell_type": "code",
   "execution_count": 95,
   "metadata": {},
   "outputs": [
    {
     "name": "stdout",
     "output_type": "stream",
     "text": [
      "<class 'pandas.core.frame.DataFrame'>\n",
      "Int64Index: 20094 entries, 2818 to 27565537\n",
      "Columns: 131 entries, host_since to cancellation_policy_super_strict_60\n",
      "dtypes: bool(9), float64(44), int64(10), uint8(68)\n",
      "memory usage: 9.9 MB\n"
     ]
    }
   ],
   "source": [
    "listings_clean.info()"
   ]
  },
  {
   "cell_type": "code",
   "execution_count": 96,
   "metadata": {
    "collapsed": true
   },
   "outputs": [],
   "source": [
    "uint_vars_clean=listings_clean.select_dtypes(include='uint8').columns"
   ]
  },
  {
   "cell_type": "code",
   "execution_count": 97,
   "metadata": {
    "collapsed": true
   },
   "outputs": [],
   "source": [
    "for col in uint_vars_clean:\n",
    "    listings_clean[col]= listings_clean[col].astype('bool')"
   ]
  },
  {
   "cell_type": "markdown",
   "metadata": {},
   "source": [
    "Some more data checking and cleaning steps to prepare for the correlation matrix"
   ]
  },
  {
   "cell_type": "code",
   "execution_count": 98,
   "metadata": {
    "collapsed": true
   },
   "outputs": [],
   "source": [
    "max_values=listings_clean.max(axis=0)"
   ]
  },
  {
   "cell_type": "code",
   "execution_count": 99,
   "metadata": {},
   "outputs": [
    {
     "data": {
      "text/plain": [
       "maximum_nights      99999.0\n",
       "security_deposit     4736.0\n",
       "host_since           3604.0\n",
       "dtype: float64"
      ]
     },
     "execution_count": 99,
     "metadata": {},
     "output_type": "execute_result"
    }
   ],
   "source": [
    "max_values.sort_values(ascending=False).head(3)"
   ]
  },
  {
   "cell_type": "code",
   "execution_count": 100,
   "metadata": {},
   "outputs": [
    {
     "data": {
      "text/plain": [
       "count    20094.000000\n",
       "mean         4.856236\n",
       "std          0.485124\n",
       "min          2.079442\n",
       "25%          4.553877\n",
       "50%          4.828314\n",
       "75%          5.153292\n",
       "max          6.907755\n",
       "Name: price_log, dtype: float64"
      ]
     },
     "execution_count": 100,
     "metadata": {},
     "output_type": "execute_result"
    }
   ],
   "source": [
    "listings_clean['price_log'].describe()"
   ]
  },
  {
   "cell_type": "code",
   "execution_count": 101,
   "metadata": {
    "collapsed": true
   },
   "outputs": [],
   "source": [
    "corr, p_value = spearmanr(listings_clean.astype('float').as_matrix())"
   ]
  },
  {
   "cell_type": "code",
   "execution_count": 102,
   "metadata": {},
   "outputs": [
    {
     "data": {
      "text/plain": [
       "array([[ 1.00000000e+00, -2.97733368e-02,  6.14063988e-02, ...,\n",
       "        -2.23138608e-02, -1.01117358e-03, -1.36366408e-02],\n",
       "       [-2.97733368e-02,  1.00000000e+00, -1.29967640e-01, ...,\n",
       "         2.77580935e-02, -2.12057818e-02, -4.38794066e-02],\n",
       "       [ 6.14063988e-02, -1.29967640e-01,  1.00000000e+00, ...,\n",
       "         3.80960285e-02, -5.22901701e-03, -1.73556501e-02],\n",
       "       ...,\n",
       "       [-2.23138608e-02,  2.77580935e-02,  3.80960285e-02, ...,\n",
       "         1.00000000e+00, -9.49524362e-03, -3.15156989e-02],\n",
       "       [-1.01117358e-03, -2.12057818e-02, -5.22901701e-03, ...,\n",
       "        -9.49524362e-03,  1.00000000e+00, -4.95610537e-04],\n",
       "       [-1.36366408e-02, -4.38794066e-02, -1.73556501e-02, ...,\n",
       "        -3.15156989e-02, -4.95610537e-04,  1.00000000e+00]])"
      ]
     },
     "execution_count": 102,
     "metadata": {},
     "output_type": "execute_result"
    }
   ],
   "source": [
    "corr"
   ]
  },
  {
   "cell_type": "code",
   "execution_count": 103,
   "metadata": {},
   "outputs": [
    {
     "data": {
      "text/plain": [
       "array([[0.00000000e+00, 2.43067637e-05, 2.97926530e-18, ...,\n",
       "        1.56012607e-03, 8.86030892e-01, 5.32351450e-02],\n",
       "       [2.43067637e-05, 0.00000000e+00, 2.03764104e-76, ...,\n",
       "        8.30876506e-05, 2.64586541e-03, 4.88792701e-10],\n",
       "       [2.97926530e-18, 2.03764104e-76, 0.00000000e+00, ...,\n",
       "        6.59523701e-08, 4.58578605e-01, 1.38839094e-02],\n",
       "       ...,\n",
       "       [1.56012607e-03, 8.30876506e-05, 6.59523701e-08, ...,\n",
       "        0.00000000e+00, 1.78325484e-01, 7.88486689e-06],\n",
       "       [8.86030892e-01, 2.64586541e-03, 4.58578605e-01, ...,\n",
       "        1.78325484e-01, 0.00000000e+00, 9.43994625e-01],\n",
       "       [5.32351450e-02, 4.88792701e-10, 1.38839094e-02, ...,\n",
       "        7.88486689e-06, 9.43994625e-01, 0.00000000e+00]])"
      ]
     },
     "execution_count": 103,
     "metadata": {},
     "output_type": "execute_result"
    }
   ],
   "source": [
    "p_value"
   ]
  },
  {
   "cell_type": "markdown",
   "metadata": {},
   "source": [
    "Creating df's in order to check for the values"
   ]
  },
  {
   "cell_type": "code",
   "execution_count": 104,
   "metadata": {},
   "outputs": [
    {
     "data": {
      "text/html": [
       "<div>\n",
       "<style scoped>\n",
       "    .dataframe tbody tr th:only-of-type {\n",
       "        vertical-align: middle;\n",
       "    }\n",
       "\n",
       "    .dataframe tbody tr th {\n",
       "        vertical-align: top;\n",
       "    }\n",
       "\n",
       "    .dataframe thead th {\n",
       "        text-align: right;\n",
       "    }\n",
       "</style>\n",
       "<table border=\"1\" class=\"dataframe\">\n",
       "  <thead>\n",
       "    <tr style=\"text-align: right;\">\n",
       "      <th></th>\n",
       "      <th>host_since</th>\n",
       "      <th>host_response_rate</th>\n",
       "      <th>host_is_superhost</th>\n",
       "      <th>host_listings_count</th>\n",
       "      <th>host_total_listings_count</th>\n",
       "      <th>host_has_profile_pic</th>\n",
       "      <th>host_identity_verified</th>\n",
       "      <th>is_location_exact</th>\n",
       "      <th>accommodates</th>\n",
       "      <th>bathrooms</th>\n",
       "      <th>...</th>\n",
       "      <th>room_type_Private room</th>\n",
       "      <th>room_type_Shared room</th>\n",
       "      <th>bed_type_Airbed</th>\n",
       "      <th>bed_type_Couch</th>\n",
       "      <th>bed_type_Futon</th>\n",
       "      <th>bed_type_Pull-out Sofa</th>\n",
       "      <th>cancellation_policy_flexible</th>\n",
       "      <th>cancellation_policy_moderate</th>\n",
       "      <th>cancellation_policy_super_strict_30</th>\n",
       "      <th>cancellation_policy_super_strict_60</th>\n",
       "    </tr>\n",
       "  </thead>\n",
       "  <tbody>\n",
       "    <tr>\n",
       "      <th>host_since</th>\n",
       "      <td>1.000000</td>\n",
       "      <td>-0.029773</td>\n",
       "      <td>0.061406</td>\n",
       "      <td>-0.015902</td>\n",
       "      <td>-0.015902</td>\n",
       "      <td>0.015384</td>\n",
       "      <td>0.388331</td>\n",
       "      <td>0.002975</td>\n",
       "      <td>-0.000201</td>\n",
       "      <td>0.015504</td>\n",
       "      <td>...</td>\n",
       "      <td>-0.057184</td>\n",
       "      <td>-0.000456</td>\n",
       "      <td>0.009342</td>\n",
       "      <td>0.008155</td>\n",
       "      <td>0.013314</td>\n",
       "      <td>0.015415</td>\n",
       "      <td>-0.081919</td>\n",
       "      <td>-0.022314</td>\n",
       "      <td>-0.001011</td>\n",
       "      <td>-0.013637</td>\n",
       "    </tr>\n",
       "    <tr>\n",
       "      <th>host_response_rate</th>\n",
       "      <td>-0.029773</td>\n",
       "      <td>1.000000</td>\n",
       "      <td>-0.129968</td>\n",
       "      <td>-0.276182</td>\n",
       "      <td>-0.276182</td>\n",
       "      <td>-0.007679</td>\n",
       "      <td>-0.004558</td>\n",
       "      <td>-0.024542</td>\n",
       "      <td>-0.052197</td>\n",
       "      <td>-0.018416</td>\n",
       "      <td>...</td>\n",
       "      <td>-0.082354</td>\n",
       "      <td>0.003676</td>\n",
       "      <td>0.008169</td>\n",
       "      <td>-0.009613</td>\n",
       "      <td>0.000900</td>\n",
       "      <td>0.006790</td>\n",
       "      <td>0.116521</td>\n",
       "      <td>0.027758</td>\n",
       "      <td>-0.021206</td>\n",
       "      <td>-0.043879</td>\n",
       "    </tr>\n",
       "    <tr>\n",
       "      <th>host_is_superhost</th>\n",
       "      <td>0.061406</td>\n",
       "      <td>-0.129968</td>\n",
       "      <td>1.000000</td>\n",
       "      <td>0.055251</td>\n",
       "      <td>0.055251</td>\n",
       "      <td>0.013640</td>\n",
       "      <td>0.070611</td>\n",
       "      <td>-0.002546</td>\n",
       "      <td>-0.034575</td>\n",
       "      <td>0.003047</td>\n",
       "      <td>...</td>\n",
       "      <td>0.151751</td>\n",
       "      <td>-0.002211</td>\n",
       "      <td>-0.012080</td>\n",
       "      <td>0.000568</td>\n",
       "      <td>0.009959</td>\n",
       "      <td>0.023335</td>\n",
       "      <td>-0.089660</td>\n",
       "      <td>0.038096</td>\n",
       "      <td>-0.005229</td>\n",
       "      <td>-0.017356</td>\n",
       "    </tr>\n",
       "    <tr>\n",
       "      <th>host_listings_count</th>\n",
       "      <td>-0.015902</td>\n",
       "      <td>-0.276182</td>\n",
       "      <td>0.055251</td>\n",
       "      <td>1.000000</td>\n",
       "      <td>1.000000</td>\n",
       "      <td>-0.004991</td>\n",
       "      <td>0.007528</td>\n",
       "      <td>0.013931</td>\n",
       "      <td>0.008589</td>\n",
       "      <td>0.039756</td>\n",
       "      <td>...</td>\n",
       "      <td>0.210289</td>\n",
       "      <td>0.022330</td>\n",
       "      <td>0.003957</td>\n",
       "      <td>0.003020</td>\n",
       "      <td>-0.002156</td>\n",
       "      <td>-0.002376</td>\n",
       "      <td>-0.065135</td>\n",
       "      <td>-0.044347</td>\n",
       "      <td>0.026488</td>\n",
       "      <td>0.089806</td>\n",
       "    </tr>\n",
       "    <tr>\n",
       "      <th>host_total_listings_count</th>\n",
       "      <td>-0.015902</td>\n",
       "      <td>-0.276182</td>\n",
       "      <td>0.055251</td>\n",
       "      <td>1.000000</td>\n",
       "      <td>1.000000</td>\n",
       "      <td>-0.004991</td>\n",
       "      <td>0.007528</td>\n",
       "      <td>0.013931</td>\n",
       "      <td>0.008589</td>\n",
       "      <td>0.039756</td>\n",
       "      <td>...</td>\n",
       "      <td>0.210289</td>\n",
       "      <td>0.022330</td>\n",
       "      <td>0.003957</td>\n",
       "      <td>0.003020</td>\n",
       "      <td>-0.002156</td>\n",
       "      <td>-0.002376</td>\n",
       "      <td>-0.065135</td>\n",
       "      <td>-0.044347</td>\n",
       "      <td>0.026488</td>\n",
       "      <td>0.089806</td>\n",
       "    </tr>\n",
       "  </tbody>\n",
       "</table>\n",
       "<p>5 rows × 131 columns</p>\n",
       "</div>"
      ],
      "text/plain": [
       "                           host_since  host_response_rate  host_is_superhost  \\\n",
       "host_since                   1.000000           -0.029773           0.061406   \n",
       "host_response_rate          -0.029773            1.000000          -0.129968   \n",
       "host_is_superhost            0.061406           -0.129968           1.000000   \n",
       "host_listings_count         -0.015902           -0.276182           0.055251   \n",
       "host_total_listings_count   -0.015902           -0.276182           0.055251   \n",
       "\n",
       "                           host_listings_count  host_total_listings_count  \\\n",
       "host_since                           -0.015902                  -0.015902   \n",
       "host_response_rate                   -0.276182                  -0.276182   \n",
       "host_is_superhost                     0.055251                   0.055251   \n",
       "host_listings_count                   1.000000                   1.000000   \n",
       "host_total_listings_count             1.000000                   1.000000   \n",
       "\n",
       "                           host_has_profile_pic  host_identity_verified  \\\n",
       "host_since                             0.015384                0.388331   \n",
       "host_response_rate                    -0.007679               -0.004558   \n",
       "host_is_superhost                      0.013640                0.070611   \n",
       "host_listings_count                   -0.004991                0.007528   \n",
       "host_total_listings_count             -0.004991                0.007528   \n",
       "\n",
       "                           is_location_exact  accommodates  bathrooms  \\\n",
       "host_since                          0.002975     -0.000201   0.015504   \n",
       "host_response_rate                 -0.024542     -0.052197  -0.018416   \n",
       "host_is_superhost                  -0.002546     -0.034575   0.003047   \n",
       "host_listings_count                 0.013931      0.008589   0.039756   \n",
       "host_total_listings_count           0.013931      0.008589   0.039756   \n",
       "\n",
       "                                          ...                   \\\n",
       "host_since                                ...                    \n",
       "host_response_rate                        ...                    \n",
       "host_is_superhost                         ...                    \n",
       "host_listings_count                       ...                    \n",
       "host_total_listings_count                 ...                    \n",
       "\n",
       "                           room_type_Private room  room_type_Shared room  \\\n",
       "host_since                              -0.057184              -0.000456   \n",
       "host_response_rate                      -0.082354               0.003676   \n",
       "host_is_superhost                        0.151751              -0.002211   \n",
       "host_listings_count                      0.210289               0.022330   \n",
       "host_total_listings_count                0.210289               0.022330   \n",
       "\n",
       "                           bed_type_Airbed  bed_type_Couch  bed_type_Futon  \\\n",
       "host_since                        0.009342        0.008155        0.013314   \n",
       "host_response_rate                0.008169       -0.009613        0.000900   \n",
       "host_is_superhost                -0.012080        0.000568        0.009959   \n",
       "host_listings_count               0.003957        0.003020       -0.002156   \n",
       "host_total_listings_count         0.003957        0.003020       -0.002156   \n",
       "\n",
       "                           bed_type_Pull-out Sofa  \\\n",
       "host_since                               0.015415   \n",
       "host_response_rate                       0.006790   \n",
       "host_is_superhost                        0.023335   \n",
       "host_listings_count                     -0.002376   \n",
       "host_total_listings_count               -0.002376   \n",
       "\n",
       "                           cancellation_policy_flexible  \\\n",
       "host_since                                    -0.081919   \n",
       "host_response_rate                             0.116521   \n",
       "host_is_superhost                             -0.089660   \n",
       "host_listings_count                           -0.065135   \n",
       "host_total_listings_count                     -0.065135   \n",
       "\n",
       "                           cancellation_policy_moderate  \\\n",
       "host_since                                    -0.022314   \n",
       "host_response_rate                             0.027758   \n",
       "host_is_superhost                              0.038096   \n",
       "host_listings_count                           -0.044347   \n",
       "host_total_listings_count                     -0.044347   \n",
       "\n",
       "                           cancellation_policy_super_strict_30  \\\n",
       "host_since                                           -0.001011   \n",
       "host_response_rate                                   -0.021206   \n",
       "host_is_superhost                                    -0.005229   \n",
       "host_listings_count                                   0.026488   \n",
       "host_total_listings_count                             0.026488   \n",
       "\n",
       "                           cancellation_policy_super_strict_60  \n",
       "host_since                                           -0.013637  \n",
       "host_response_rate                                   -0.043879  \n",
       "host_is_superhost                                    -0.017356  \n",
       "host_listings_count                                   0.089806  \n",
       "host_total_listings_count                             0.089806  \n",
       "\n",
       "[5 rows x 131 columns]"
      ]
     },
     "execution_count": 104,
     "metadata": {},
     "output_type": "execute_result"
    }
   ],
   "source": [
    "corr_df = pd.DataFrame(corr, columns=listings_clean.columns, index=listings_clean.columns)\n",
    "corr_df.head()"
   ]
  },
  {
   "cell_type": "code",
   "execution_count": 105,
   "metadata": {},
   "outputs": [
    {
     "data": {
      "text/html": [
       "<div>\n",
       "<style scoped>\n",
       "    .dataframe tbody tr th:only-of-type {\n",
       "        vertical-align: middle;\n",
       "    }\n",
       "\n",
       "    .dataframe tbody tr th {\n",
       "        vertical-align: top;\n",
       "    }\n",
       "\n",
       "    .dataframe thead th {\n",
       "        text-align: right;\n",
       "    }\n",
       "</style>\n",
       "<table border=\"1\" class=\"dataframe\">\n",
       "  <thead>\n",
       "    <tr style=\"text-align: right;\">\n",
       "      <th></th>\n",
       "      <th>host_since</th>\n",
       "      <th>host_response_rate</th>\n",
       "      <th>host_is_superhost</th>\n",
       "      <th>host_listings_count</th>\n",
       "      <th>host_total_listings_count</th>\n",
       "      <th>host_has_profile_pic</th>\n",
       "      <th>host_identity_verified</th>\n",
       "      <th>is_location_exact</th>\n",
       "      <th>accommodates</th>\n",
       "      <th>bathrooms</th>\n",
       "      <th>...</th>\n",
       "      <th>room_type_Private room</th>\n",
       "      <th>room_type_Shared room</th>\n",
       "      <th>bed_type_Airbed</th>\n",
       "      <th>bed_type_Couch</th>\n",
       "      <th>bed_type_Futon</th>\n",
       "      <th>bed_type_Pull-out Sofa</th>\n",
       "      <th>cancellation_policy_flexible</th>\n",
       "      <th>cancellation_policy_moderate</th>\n",
       "      <th>cancellation_policy_super_strict_30</th>\n",
       "      <th>cancellation_policy_super_strict_60</th>\n",
       "    </tr>\n",
       "  </thead>\n",
       "  <tbody>\n",
       "    <tr>\n",
       "      <th>host_since</th>\n",
       "      <td>0.000000e+00</td>\n",
       "      <td>2.430676e-05</td>\n",
       "      <td>2.979265e-18</td>\n",
       "      <td>2.418561e-02</td>\n",
       "      <td>2.418561e-02</td>\n",
       "      <td>0.029201</td>\n",
       "      <td>0.000000e+00</td>\n",
       "      <td>0.673263</td>\n",
       "      <td>9.772417e-01</td>\n",
       "      <td>2.796624e-02</td>\n",
       "      <td>...</td>\n",
       "      <td>4.973871e-16</td>\n",
       "      <td>0.948487</td>\n",
       "      <td>0.185455</td>\n",
       "      <td>0.247693</td>\n",
       "      <td>0.059133</td>\n",
       "      <td>0.028877</td>\n",
       "      <td>2.861918e-31</td>\n",
       "      <td>1.560126e-03</td>\n",
       "      <td>0.886031</td>\n",
       "      <td>5.323515e-02</td>\n",
       "    </tr>\n",
       "    <tr>\n",
       "      <th>host_response_rate</th>\n",
       "      <td>2.430676e-05</td>\n",
       "      <td>0.000000e+00</td>\n",
       "      <td>2.037641e-76</td>\n",
       "      <td>0.000000e+00</td>\n",
       "      <td>0.000000e+00</td>\n",
       "      <td>0.276384</td>\n",
       "      <td>5.182258e-01</td>\n",
       "      <td>0.000503</td>\n",
       "      <td>1.325232e-13</td>\n",
       "      <td>9.037483e-03</td>\n",
       "      <td>...</td>\n",
       "      <td>1.382565e-31</td>\n",
       "      <td>0.602298</td>\n",
       "      <td>0.246873</td>\n",
       "      <td>0.172999</td>\n",
       "      <td>0.898514</td>\n",
       "      <td>0.335791</td>\n",
       "      <td>1.098789e-61</td>\n",
       "      <td>8.308765e-05</td>\n",
       "      <td>0.002646</td>\n",
       "      <td>4.887927e-10</td>\n",
       "    </tr>\n",
       "    <tr>\n",
       "      <th>host_is_superhost</th>\n",
       "      <td>2.979265e-18</td>\n",
       "      <td>2.037641e-76</td>\n",
       "      <td>0.000000e+00</td>\n",
       "      <td>4.596128e-15</td>\n",
       "      <td>4.596128e-15</td>\n",
       "      <td>0.053184</td>\n",
       "      <td>1.228779e-23</td>\n",
       "      <td>0.718193</td>\n",
       "      <td>9.475988e-07</td>\n",
       "      <td>6.657812e-01</td>\n",
       "      <td>...</td>\n",
       "      <td>8.354605e-104</td>\n",
       "      <td>0.753974</td>\n",
       "      <td>0.086840</td>\n",
       "      <td>0.935793</td>\n",
       "      <td>0.158033</td>\n",
       "      <td>0.000940</td>\n",
       "      <td>3.801615e-37</td>\n",
       "      <td>6.595237e-08</td>\n",
       "      <td>0.458579</td>\n",
       "      <td>1.388391e-02</td>\n",
       "    </tr>\n",
       "    <tr>\n",
       "      <th>host_listings_count</th>\n",
       "      <td>2.418561e-02</td>\n",
       "      <td>0.000000e+00</td>\n",
       "      <td>4.596128e-15</td>\n",
       "      <td>0.000000e+00</td>\n",
       "      <td>0.000000e+00</td>\n",
       "      <td>0.479329</td>\n",
       "      <td>2.859408e-01</td>\n",
       "      <td>0.048299</td>\n",
       "      <td>2.234372e-01</td>\n",
       "      <td>1.725865e-08</td>\n",
       "      <td>...</td>\n",
       "      <td>1.250984e-199</td>\n",
       "      <td>0.001548</td>\n",
       "      <td>0.574841</td>\n",
       "      <td>0.668576</td>\n",
       "      <td>0.759863</td>\n",
       "      <td>0.736303</td>\n",
       "      <td>2.412018e-20</td>\n",
       "      <td>3.194848e-10</td>\n",
       "      <td>0.000173</td>\n",
       "      <td>2.913488e-37</td>\n",
       "    </tr>\n",
       "    <tr>\n",
       "      <th>host_total_listings_count</th>\n",
       "      <td>2.418561e-02</td>\n",
       "      <td>0.000000e+00</td>\n",
       "      <td>4.596128e-15</td>\n",
       "      <td>0.000000e+00</td>\n",
       "      <td>0.000000e+00</td>\n",
       "      <td>0.479329</td>\n",
       "      <td>2.859408e-01</td>\n",
       "      <td>0.048299</td>\n",
       "      <td>2.234372e-01</td>\n",
       "      <td>1.725865e-08</td>\n",
       "      <td>...</td>\n",
       "      <td>1.250984e-199</td>\n",
       "      <td>0.001548</td>\n",
       "      <td>0.574841</td>\n",
       "      <td>0.668576</td>\n",
       "      <td>0.759863</td>\n",
       "      <td>0.736303</td>\n",
       "      <td>2.412018e-20</td>\n",
       "      <td>3.194848e-10</td>\n",
       "      <td>0.000173</td>\n",
       "      <td>2.913488e-37</td>\n",
       "    </tr>\n",
       "  </tbody>\n",
       "</table>\n",
       "<p>5 rows × 131 columns</p>\n",
       "</div>"
      ],
      "text/plain": [
       "                             host_since  host_response_rate  \\\n",
       "host_since                 0.000000e+00        2.430676e-05   \n",
       "host_response_rate         2.430676e-05        0.000000e+00   \n",
       "host_is_superhost          2.979265e-18        2.037641e-76   \n",
       "host_listings_count        2.418561e-02        0.000000e+00   \n",
       "host_total_listings_count  2.418561e-02        0.000000e+00   \n",
       "\n",
       "                           host_is_superhost  host_listings_count  \\\n",
       "host_since                      2.979265e-18         2.418561e-02   \n",
       "host_response_rate              2.037641e-76         0.000000e+00   \n",
       "host_is_superhost               0.000000e+00         4.596128e-15   \n",
       "host_listings_count             4.596128e-15         0.000000e+00   \n",
       "host_total_listings_count       4.596128e-15         0.000000e+00   \n",
       "\n",
       "                           host_total_listings_count  host_has_profile_pic  \\\n",
       "host_since                              2.418561e-02              0.029201   \n",
       "host_response_rate                      0.000000e+00              0.276384   \n",
       "host_is_superhost                       4.596128e-15              0.053184   \n",
       "host_listings_count                     0.000000e+00              0.479329   \n",
       "host_total_listings_count               0.000000e+00              0.479329   \n",
       "\n",
       "                           host_identity_verified  is_location_exact  \\\n",
       "host_since                           0.000000e+00           0.673263   \n",
       "host_response_rate                   5.182258e-01           0.000503   \n",
       "host_is_superhost                    1.228779e-23           0.718193   \n",
       "host_listings_count                  2.859408e-01           0.048299   \n",
       "host_total_listings_count            2.859408e-01           0.048299   \n",
       "\n",
       "                           accommodates     bathrooms  \\\n",
       "host_since                 9.772417e-01  2.796624e-02   \n",
       "host_response_rate         1.325232e-13  9.037483e-03   \n",
       "host_is_superhost          9.475988e-07  6.657812e-01   \n",
       "host_listings_count        2.234372e-01  1.725865e-08   \n",
       "host_total_listings_count  2.234372e-01  1.725865e-08   \n",
       "\n",
       "                                          ...                   \\\n",
       "host_since                                ...                    \n",
       "host_response_rate                        ...                    \n",
       "host_is_superhost                         ...                    \n",
       "host_listings_count                       ...                    \n",
       "host_total_listings_count                 ...                    \n",
       "\n",
       "                           room_type_Private room  room_type_Shared room  \\\n",
       "host_since                           4.973871e-16               0.948487   \n",
       "host_response_rate                   1.382565e-31               0.602298   \n",
       "host_is_superhost                   8.354605e-104               0.753974   \n",
       "host_listings_count                 1.250984e-199               0.001548   \n",
       "host_total_listings_count           1.250984e-199               0.001548   \n",
       "\n",
       "                           bed_type_Airbed  bed_type_Couch  bed_type_Futon  \\\n",
       "host_since                        0.185455        0.247693        0.059133   \n",
       "host_response_rate                0.246873        0.172999        0.898514   \n",
       "host_is_superhost                 0.086840        0.935793        0.158033   \n",
       "host_listings_count               0.574841        0.668576        0.759863   \n",
       "host_total_listings_count         0.574841        0.668576        0.759863   \n",
       "\n",
       "                           bed_type_Pull-out Sofa  \\\n",
       "host_since                               0.028877   \n",
       "host_response_rate                       0.335791   \n",
       "host_is_superhost                        0.000940   \n",
       "host_listings_count                      0.736303   \n",
       "host_total_listings_count                0.736303   \n",
       "\n",
       "                           cancellation_policy_flexible  \\\n",
       "host_since                                 2.861918e-31   \n",
       "host_response_rate                         1.098789e-61   \n",
       "host_is_superhost                          3.801615e-37   \n",
       "host_listings_count                        2.412018e-20   \n",
       "host_total_listings_count                  2.412018e-20   \n",
       "\n",
       "                           cancellation_policy_moderate  \\\n",
       "host_since                                 1.560126e-03   \n",
       "host_response_rate                         8.308765e-05   \n",
       "host_is_superhost                          6.595237e-08   \n",
       "host_listings_count                        3.194848e-10   \n",
       "host_total_listings_count                  3.194848e-10   \n",
       "\n",
       "                           cancellation_policy_super_strict_30  \\\n",
       "host_since                                            0.886031   \n",
       "host_response_rate                                    0.002646   \n",
       "host_is_superhost                                     0.458579   \n",
       "host_listings_count                                   0.000173   \n",
       "host_total_listings_count                             0.000173   \n",
       "\n",
       "                           cancellation_policy_super_strict_60  \n",
       "host_since                                        5.323515e-02  \n",
       "host_response_rate                                4.887927e-10  \n",
       "host_is_superhost                                 1.388391e-02  \n",
       "host_listings_count                               2.913488e-37  \n",
       "host_total_listings_count                         2.913488e-37  \n",
       "\n",
       "[5 rows x 131 columns]"
      ]
     },
     "execution_count": 105,
     "metadata": {},
     "output_type": "execute_result"
    }
   ],
   "source": [
    "p_df = pd.DataFrame(p_value, columns=listings_clean.columns, index=listings_clean.columns)\n",
    "p_df.head()"
   ]
  },
  {
   "cell_type": "markdown",
   "metadata": {},
   "source": [
    "Long format makes it easier to filter for values"
   ]
  },
  {
   "cell_type": "code",
   "execution_count": 106,
   "metadata": {
    "collapsed": true
   },
   "outputs": [],
   "source": [
    "pd_corr_long = corr_df.stack().reset_index()"
   ]
  },
  {
   "cell_type": "code",
   "execution_count": 107,
   "metadata": {},
   "outputs": [
    {
     "data": {
      "text/html": [
       "<div>\n",
       "<style scoped>\n",
       "    .dataframe tbody tr th:only-of-type {\n",
       "        vertical-align: middle;\n",
       "    }\n",
       "\n",
       "    .dataframe tbody tr th {\n",
       "        vertical-align: top;\n",
       "    }\n",
       "\n",
       "    .dataframe thead th {\n",
       "        text-align: right;\n",
       "    }\n",
       "</style>\n",
       "<table border=\"1\" class=\"dataframe\">\n",
       "  <thead>\n",
       "    <tr style=\"text-align: right;\">\n",
       "      <th></th>\n",
       "      <th>level_0</th>\n",
       "      <th>level_1</th>\n",
       "      <th>0</th>\n",
       "    </tr>\n",
       "  </thead>\n",
       "  <tbody>\n",
       "    <tr>\n",
       "      <th>0</th>\n",
       "      <td>host_since</td>\n",
       "      <td>host_since</td>\n",
       "      <td>1.000000</td>\n",
       "    </tr>\n",
       "    <tr>\n",
       "      <th>1</th>\n",
       "      <td>host_since</td>\n",
       "      <td>host_response_rate</td>\n",
       "      <td>-0.029773</td>\n",
       "    </tr>\n",
       "    <tr>\n",
       "      <th>2</th>\n",
       "      <td>host_since</td>\n",
       "      <td>host_is_superhost</td>\n",
       "      <td>0.061406</td>\n",
       "    </tr>\n",
       "    <tr>\n",
       "      <th>3</th>\n",
       "      <td>host_since</td>\n",
       "      <td>host_listings_count</td>\n",
       "      <td>-0.015902</td>\n",
       "    </tr>\n",
       "    <tr>\n",
       "      <th>4</th>\n",
       "      <td>host_since</td>\n",
       "      <td>host_total_listings_count</td>\n",
       "      <td>-0.015902</td>\n",
       "    </tr>\n",
       "  </tbody>\n",
       "</table>\n",
       "</div>"
      ],
      "text/plain": [
       "      level_0                    level_1         0\n",
       "0  host_since                 host_since  1.000000\n",
       "1  host_since         host_response_rate -0.029773\n",
       "2  host_since          host_is_superhost  0.061406\n",
       "3  host_since        host_listings_count -0.015902\n",
       "4  host_since  host_total_listings_count -0.015902"
      ]
     },
     "execution_count": 107,
     "metadata": {},
     "output_type": "execute_result"
    }
   ],
   "source": [
    "pd_corr_long.head()"
   ]
  },
  {
   "cell_type": "code",
   "execution_count": 108,
   "metadata": {},
   "outputs": [
    {
     "data": {
      "text/html": [
       "<div>\n",
       "<style scoped>\n",
       "    .dataframe tbody tr th:only-of-type {\n",
       "        vertical-align: middle;\n",
       "    }\n",
       "\n",
       "    .dataframe tbody tr th {\n",
       "        vertical-align: top;\n",
       "    }\n",
       "\n",
       "    .dataframe thead th {\n",
       "        text-align: right;\n",
       "    }\n",
       "</style>\n",
       "<table border=\"1\" class=\"dataframe\">\n",
       "  <thead>\n",
       "    <tr style=\"text-align: right;\">\n",
       "      <th></th>\n",
       "      <th>level_0</th>\n",
       "      <th>level_1</th>\n",
       "      <th>0</th>\n",
       "    </tr>\n",
       "  </thead>\n",
       "  <tbody>\n",
       "    <tr>\n",
       "      <th>0</th>\n",
       "      <td>host_since</td>\n",
       "      <td>host_since</td>\n",
       "      <td>1.0</td>\n",
       "    </tr>\n",
       "    <tr>\n",
       "      <th>3564</th>\n",
       "      <td>review_scores_rating</td>\n",
       "      <td>review_scores_rating</td>\n",
       "      <td>1.0</td>\n",
       "    </tr>\n",
       "    <tr>\n",
       "      <th>3828</th>\n",
       "      <td>review_scores_cleanliness</td>\n",
       "      <td>review_scores_cleanliness</td>\n",
       "      <td>1.0</td>\n",
       "    </tr>\n",
       "    <tr>\n",
       "      <th>3960</th>\n",
       "      <td>review_scores_checkin</td>\n",
       "      <td>review_scores_checkin</td>\n",
       "      <td>1.0</td>\n",
       "    </tr>\n",
       "    <tr>\n",
       "      <th>4092</th>\n",
       "      <td>review_scores_communication</td>\n",
       "      <td>review_scores_communication</td>\n",
       "      <td>1.0</td>\n",
       "    </tr>\n",
       "  </tbody>\n",
       "</table>\n",
       "</div>"
      ],
      "text/plain": [
       "                          level_0                      level_1    0\n",
       "0                      host_since                   host_since  1.0\n",
       "3564         review_scores_rating         review_scores_rating  1.0\n",
       "3828    review_scores_cleanliness    review_scores_cleanliness  1.0\n",
       "3960        review_scores_checkin        review_scores_checkin  1.0\n",
       "4092  review_scores_communication  review_scores_communication  1.0"
      ]
     },
     "execution_count": 108,
     "metadata": {},
     "output_type": "execute_result"
    }
   ],
   "source": [
    "pd_corr_long.sort_values(by=0, ascending=False).head()"
   ]
  },
  {
   "cell_type": "markdown",
   "metadata": {},
   "source": [
    "Checking only the high values."
   ]
  },
  {
   "cell_type": "code",
   "execution_count": 109,
   "metadata": {
    "collapsed": true
   },
   "outputs": [],
   "source": [
    "pd_corr_long = pd_corr_long[abs(pd_corr_long[0])>0.7]"
   ]
  },
  {
   "cell_type": "markdown",
   "metadata": {},
   "source": [
    "Removing self correlation."
   ]
  },
  {
   "cell_type": "code",
   "execution_count": 110,
   "metadata": {
    "collapsed": true
   },
   "outputs": [],
   "source": [
    "pd_corr_long = pd_corr_long[pd_corr_long[\"level_0\"]!=pd_corr_long[\"level_1\"]]"
   ]
  },
  {
   "cell_type": "code",
   "execution_count": 111,
   "metadata": {},
   "outputs": [
    {
     "data": {
      "text/html": [
       "<div>\n",
       "<style scoped>\n",
       "    .dataframe tbody tr th:only-of-type {\n",
       "        vertical-align: middle;\n",
       "    }\n",
       "\n",
       "    .dataframe tbody tr th {\n",
       "        vertical-align: top;\n",
       "    }\n",
       "\n",
       "    .dataframe thead th {\n",
       "        text-align: right;\n",
       "    }\n",
       "</style>\n",
       "<table border=\"1\" class=\"dataframe\">\n",
       "  <thead>\n",
       "    <tr style=\"text-align: right;\">\n",
       "      <th></th>\n",
       "      <th>level_0</th>\n",
       "      <th>level_1</th>\n",
       "      <th>0</th>\n",
       "    </tr>\n",
       "  </thead>\n",
       "  <tbody>\n",
       "    <tr>\n",
       "      <th>397</th>\n",
       "      <td>host_listings_count</td>\n",
       "      <td>host_total_listings_count</td>\n",
       "      <td>1.000000</td>\n",
       "    </tr>\n",
       "    <tr>\n",
       "      <th>430</th>\n",
       "      <td>host_listings_count</td>\n",
       "      <td>calculated_host_listings_count</td>\n",
       "      <td>0.927687</td>\n",
       "    </tr>\n",
       "    <tr>\n",
       "      <th>527</th>\n",
       "      <td>host_total_listings_count</td>\n",
       "      <td>host_listings_count</td>\n",
       "      <td>1.000000</td>\n",
       "    </tr>\n",
       "    <tr>\n",
       "      <th>561</th>\n",
       "      <td>host_total_listings_count</td>\n",
       "      <td>calculated_host_listings_count</td>\n",
       "      <td>0.927687</td>\n",
       "    </tr>\n",
       "    <tr>\n",
       "      <th>1058</th>\n",
       "      <td>accommodates</td>\n",
       "      <td>bedrooms</td>\n",
       "      <td>0.734320</td>\n",
       "    </tr>\n",
       "  </tbody>\n",
       "</table>\n",
       "</div>"
      ],
      "text/plain": [
       "                        level_0                         level_1         0\n",
       "397         host_listings_count       host_total_listings_count  1.000000\n",
       "430         host_listings_count  calculated_host_listings_count  0.927687\n",
       "527   host_total_listings_count             host_listings_count  1.000000\n",
       "561   host_total_listings_count  calculated_host_listings_count  0.927687\n",
       "1058               accommodates                        bedrooms  0.734320"
      ]
     },
     "execution_count": 111,
     "metadata": {},
     "output_type": "execute_result"
    }
   ],
   "source": [
    "pd_corr_long.head()"
   ]
  },
  {
   "cell_type": "code",
   "execution_count": 112,
   "metadata": {
    "collapsed": true
   },
   "outputs": [],
   "source": [
    "pd_p_long = p_df.stack().reset_index()"
   ]
  },
  {
   "cell_type": "markdown",
   "metadata": {},
   "source": [
    "### Correlation matrix allows us to get rid of the intercorrelated variables that are still in the dataset"
   ]
  },
  {
   "cell_type": "markdown",
   "metadata": {},
   "source": [
    "Checking for p value in case of highly correlated pairs "
   ]
  },
  {
   "cell_type": "markdown",
   "metadata": {},
   "source": [
    "Merge the p values to our highly correlated variable pairs because we are only interested in those variable pairs that are significantly correlated."
   ]
  },
  {
   "cell_type": "code",
   "execution_count": 113,
   "metadata": {
    "collapsed": true
   },
   "outputs": [],
   "source": [
    "pd_corr_p_long=pd_corr_long.merge(pd_p_long, how='left', on=['level_0','level_1'], left_index=False, right_index=False, sort=False, suffixes=('', '_p'))"
   ]
  },
  {
   "cell_type": "code",
   "execution_count": 114,
   "metadata": {},
   "outputs": [
    {
     "data": {
      "text/html": [
       "<div>\n",
       "<style scoped>\n",
       "    .dataframe tbody tr th:only-of-type {\n",
       "        vertical-align: middle;\n",
       "    }\n",
       "\n",
       "    .dataframe tbody tr th {\n",
       "        vertical-align: top;\n",
       "    }\n",
       "\n",
       "    .dataframe thead th {\n",
       "        text-align: right;\n",
       "    }\n",
       "</style>\n",
       "<table border=\"1\" class=\"dataframe\">\n",
       "  <thead>\n",
       "    <tr style=\"text-align: right;\">\n",
       "      <th></th>\n",
       "      <th>level_0</th>\n",
       "      <th>level_1</th>\n",
       "      <th>0</th>\n",
       "      <th>0_p</th>\n",
       "    </tr>\n",
       "  </thead>\n",
       "  <tbody>\n",
       "    <tr>\n",
       "      <th>0</th>\n",
       "      <td>host_listings_count</td>\n",
       "      <td>host_total_listings_count</td>\n",
       "      <td>1.000000</td>\n",
       "      <td>0.0</td>\n",
       "    </tr>\n",
       "    <tr>\n",
       "      <th>1</th>\n",
       "      <td>host_listings_count</td>\n",
       "      <td>calculated_host_listings_count</td>\n",
       "      <td>0.927687</td>\n",
       "      <td>0.0</td>\n",
       "    </tr>\n",
       "    <tr>\n",
       "      <th>2</th>\n",
       "      <td>host_total_listings_count</td>\n",
       "      <td>host_listings_count</td>\n",
       "      <td>1.000000</td>\n",
       "      <td>0.0</td>\n",
       "    </tr>\n",
       "    <tr>\n",
       "      <th>3</th>\n",
       "      <td>host_total_listings_count</td>\n",
       "      <td>calculated_host_listings_count</td>\n",
       "      <td>0.927687</td>\n",
       "      <td>0.0</td>\n",
       "    </tr>\n",
       "    <tr>\n",
       "      <th>4</th>\n",
       "      <td>accommodates</td>\n",
       "      <td>bedrooms</td>\n",
       "      <td>0.734320</td>\n",
       "      <td>0.0</td>\n",
       "    </tr>\n",
       "    <tr>\n",
       "      <th>5</th>\n",
       "      <td>accommodates</td>\n",
       "      <td>beds</td>\n",
       "      <td>0.840714</td>\n",
       "      <td>0.0</td>\n",
       "    </tr>\n",
       "    <tr>\n",
       "      <th>6</th>\n",
       "      <td>bedrooms</td>\n",
       "      <td>accommodates</td>\n",
       "      <td>0.734320</td>\n",
       "      <td>0.0</td>\n",
       "    </tr>\n",
       "    <tr>\n",
       "      <th>7</th>\n",
       "      <td>bedrooms</td>\n",
       "      <td>beds</td>\n",
       "      <td>0.748251</td>\n",
       "      <td>0.0</td>\n",
       "    </tr>\n",
       "    <tr>\n",
       "      <th>8</th>\n",
       "      <td>beds</td>\n",
       "      <td>accommodates</td>\n",
       "      <td>0.840714</td>\n",
       "      <td>0.0</td>\n",
       "    </tr>\n",
       "    <tr>\n",
       "      <th>9</th>\n",
       "      <td>beds</td>\n",
       "      <td>bedrooms</td>\n",
       "      <td>0.748251</td>\n",
       "      <td>0.0</td>\n",
       "    </tr>\n",
       "  </tbody>\n",
       "</table>\n",
       "</div>"
      ],
      "text/plain": [
       "                     level_0                         level_1         0  0_p\n",
       "0        host_listings_count       host_total_listings_count  1.000000  0.0\n",
       "1        host_listings_count  calculated_host_listings_count  0.927687  0.0\n",
       "2  host_total_listings_count             host_listings_count  1.000000  0.0\n",
       "3  host_total_listings_count  calculated_host_listings_count  0.927687  0.0\n",
       "4               accommodates                        bedrooms  0.734320  0.0\n",
       "5               accommodates                            beds  0.840714  0.0\n",
       "6                   bedrooms                    accommodates  0.734320  0.0\n",
       "7                   bedrooms                            beds  0.748251  0.0\n",
       "8                       beds                    accommodates  0.840714  0.0\n",
       "9                       beds                        bedrooms  0.748251  0.0"
      ]
     },
     "execution_count": 114,
     "metadata": {},
     "output_type": "execute_result"
    }
   ],
   "source": [
    "pd_corr_p_long[0:10]"
   ]
  },
  {
   "cell_type": "markdown",
   "metadata": {},
   "source": [
    "Deleting the highly and significantly intercorrelated variables. Let's try to leave in those variables that are easier to interpret."
   ]
  },
  {
   "cell_type": "code",
   "execution_count": 115,
   "metadata": {
    "collapsed": true
   },
   "outputs": [],
   "source": [
    "correlated_vars = pd_corr_p_long['level_0'].unique()"
   ]
  },
  {
   "cell_type": "code",
   "execution_count": 116,
   "metadata": {
    "collapsed": true
   },
   "outputs": [],
   "source": [
    "correlated_to_drop=set(correlated_vars)-set(['host_listings_count','beds','price_log','availability_30','reviews_per_month','require_guest_phone_verification','host_verifications_sent_id'])"
   ]
  },
  {
   "cell_type": "code",
   "execution_count": 117,
   "metadata": {
    "collapsed": true
   },
   "outputs": [],
   "source": [
    "listings_clean=listings_clean.drop(correlated_to_drop, axis=1)"
   ]
  },
  {
   "cell_type": "code",
   "execution_count": 118,
   "metadata": {},
   "outputs": [
    {
     "data": {
      "text/html": [
       "<div>\n",
       "<style scoped>\n",
       "    .dataframe tbody tr th:only-of-type {\n",
       "        vertical-align: middle;\n",
       "    }\n",
       "\n",
       "    .dataframe tbody tr th {\n",
       "        vertical-align: top;\n",
       "    }\n",
       "\n",
       "    .dataframe thead th {\n",
       "        text-align: right;\n",
       "    }\n",
       "</style>\n",
       "<table border=\"1\" class=\"dataframe\">\n",
       "  <thead>\n",
       "    <tr style=\"text-align: right;\">\n",
       "      <th></th>\n",
       "      <th>host_since</th>\n",
       "      <th>host_response_rate</th>\n",
       "      <th>host_listings_count</th>\n",
       "      <th>bathrooms</th>\n",
       "      <th>beds</th>\n",
       "      <th>security_deposit</th>\n",
       "      <th>cleaning_fee</th>\n",
       "      <th>guests_included</th>\n",
       "      <th>extra_people</th>\n",
       "      <th>minimum_nights</th>\n",
       "      <th>...</th>\n",
       "      <th>host_verifications_email</th>\n",
       "      <th>host_verifications_facebook</th>\n",
       "      <th>host_verifications_google</th>\n",
       "      <th>host_verifications_jumio</th>\n",
       "      <th>host_verifications_manual_offline</th>\n",
       "      <th>host_verifications_manual_online</th>\n",
       "      <th>host_verifications_phone</th>\n",
       "      <th>host_verifications_reviews</th>\n",
       "      <th>host_verifications_sent_id</th>\n",
       "      <th>host_verifications_work_email</th>\n",
       "    </tr>\n",
       "  </thead>\n",
       "  <tbody>\n",
       "    <tr>\n",
       "      <th>count</th>\n",
       "      <td>20089.000000</td>\n",
       "      <td>13078.000000</td>\n",
       "      <td>20089.000000</td>\n",
       "      <td>20085.000000</td>\n",
       "      <td>20088.000000</td>\n",
       "      <td>13791.000000</td>\n",
       "      <td>16476.000000</td>\n",
       "      <td>20094.000000</td>\n",
       "      <td>20094.000000</td>\n",
       "      <td>20094.000000</td>\n",
       "      <td>...</td>\n",
       "      <td>20020.000000</td>\n",
       "      <td>20020.000000</td>\n",
       "      <td>20020.000000</td>\n",
       "      <td>20020.000000</td>\n",
       "      <td>20020.000000</td>\n",
       "      <td>20020.000000</td>\n",
       "      <td>20020.000000</td>\n",
       "      <td>20020.000000</td>\n",
       "      <td>20020.000000</td>\n",
       "      <td>20020.000000</td>\n",
       "    </tr>\n",
       "    <tr>\n",
       "      <th>mean</th>\n",
       "      <td>1333.185972</td>\n",
       "      <td>94.886986</td>\n",
       "      <td>6.185375</td>\n",
       "      <td>1.128877</td>\n",
       "      <td>1.855486</td>\n",
       "      <td>218.808208</td>\n",
       "      <td>38.869750</td>\n",
       "      <td>1.464865</td>\n",
       "      <td>11.221210</td>\n",
       "      <td>3.248134</td>\n",
       "      <td>...</td>\n",
       "      <td>0.933017</td>\n",
       "      <td>0.246154</td>\n",
       "      <td>0.056693</td>\n",
       "      <td>0.594306</td>\n",
       "      <td>0.022028</td>\n",
       "      <td>0.005794</td>\n",
       "      <td>0.974126</td>\n",
       "      <td>0.882617</td>\n",
       "      <td>0.000749</td>\n",
       "      <td>0.124326</td>\n",
       "    </tr>\n",
       "    <tr>\n",
       "      <th>std</th>\n",
       "      <td>648.567251</td>\n",
       "      <td>15.195126</td>\n",
       "      <td>25.139764</td>\n",
       "      <td>0.363802</td>\n",
       "      <td>1.378805</td>\n",
       "      <td>307.346024</td>\n",
       "      <td>22.876275</td>\n",
       "      <td>0.915390</td>\n",
       "      <td>22.034568</td>\n",
       "      <td>12.164794</td>\n",
       "      <td>...</td>\n",
       "      <td>0.249999</td>\n",
       "      <td>0.430780</td>\n",
       "      <td>0.231261</td>\n",
       "      <td>0.491038</td>\n",
       "      <td>0.146778</td>\n",
       "      <td>0.075901</td>\n",
       "      <td>0.158764</td>\n",
       "      <td>0.321884</td>\n",
       "      <td>0.027363</td>\n",
       "      <td>0.329961</td>\n",
       "    </tr>\n",
       "    <tr>\n",
       "      <th>min</th>\n",
       "      <td>0.000000</td>\n",
       "      <td>0.000000</td>\n",
       "      <td>0.000000</td>\n",
       "      <td>0.000000</td>\n",
       "      <td>0.000000</td>\n",
       "      <td>0.000000</td>\n",
       "      <td>0.000000</td>\n",
       "      <td>1.000000</td>\n",
       "      <td>0.000000</td>\n",
       "      <td>1.000000</td>\n",
       "      <td>...</td>\n",
       "      <td>0.000000</td>\n",
       "      <td>0.000000</td>\n",
       "      <td>0.000000</td>\n",
       "      <td>0.000000</td>\n",
       "      <td>0.000000</td>\n",
       "      <td>0.000000</td>\n",
       "      <td>0.000000</td>\n",
       "      <td>0.000000</td>\n",
       "      <td>0.000000</td>\n",
       "      <td>0.000000</td>\n",
       "    </tr>\n",
       "    <tr>\n",
       "      <th>25%</th>\n",
       "      <td>841.000000</td>\n",
       "      <td>100.000000</td>\n",
       "      <td>1.000000</td>\n",
       "      <td>1.000000</td>\n",
       "      <td>1.000000</td>\n",
       "      <td>95.000000</td>\n",
       "      <td>25.000000</td>\n",
       "      <td>1.000000</td>\n",
       "      <td>0.000000</td>\n",
       "      <td>2.000000</td>\n",
       "      <td>...</td>\n",
       "      <td>1.000000</td>\n",
       "      <td>0.000000</td>\n",
       "      <td>0.000000</td>\n",
       "      <td>0.000000</td>\n",
       "      <td>0.000000</td>\n",
       "      <td>0.000000</td>\n",
       "      <td>1.000000</td>\n",
       "      <td>1.000000</td>\n",
       "      <td>0.000000</td>\n",
       "      <td>0.000000</td>\n",
       "    </tr>\n",
       "    <tr>\n",
       "      <th>50%</th>\n",
       "      <td>1362.000000</td>\n",
       "      <td>100.000000</td>\n",
       "      <td>1.000000</td>\n",
       "      <td>1.000000</td>\n",
       "      <td>1.000000</td>\n",
       "      <td>150.000000</td>\n",
       "      <td>36.000000</td>\n",
       "      <td>1.000000</td>\n",
       "      <td>0.000000</td>\n",
       "      <td>2.000000</td>\n",
       "      <td>...</td>\n",
       "      <td>1.000000</td>\n",
       "      <td>0.000000</td>\n",
       "      <td>0.000000</td>\n",
       "      <td>1.000000</td>\n",
       "      <td>0.000000</td>\n",
       "      <td>0.000000</td>\n",
       "      <td>1.000000</td>\n",
       "      <td>1.000000</td>\n",
       "      <td>0.000000</td>\n",
       "      <td>0.000000</td>\n",
       "    </tr>\n",
       "    <tr>\n",
       "      <th>75%</th>\n",
       "      <td>1826.000000</td>\n",
       "      <td>100.000000</td>\n",
       "      <td>1.000000</td>\n",
       "      <td>1.000000</td>\n",
       "      <td>2.000000</td>\n",
       "      <td>250.000000</td>\n",
       "      <td>50.000000</td>\n",
       "      <td>2.000000</td>\n",
       "      <td>20.000000</td>\n",
       "      <td>3.000000</td>\n",
       "      <td>...</td>\n",
       "      <td>1.000000</td>\n",
       "      <td>0.000000</td>\n",
       "      <td>0.000000</td>\n",
       "      <td>1.000000</td>\n",
       "      <td>0.000000</td>\n",
       "      <td>0.000000</td>\n",
       "      <td>1.000000</td>\n",
       "      <td>1.000000</td>\n",
       "      <td>0.000000</td>\n",
       "      <td>0.000000</td>\n",
       "    </tr>\n",
       "    <tr>\n",
       "      <th>max</th>\n",
       "      <td>3604.000000</td>\n",
       "      <td>100.000000</td>\n",
       "      <td>629.000000</td>\n",
       "      <td>15.000000</td>\n",
       "      <td>32.000000</td>\n",
       "      <td>4736.000000</td>\n",
       "      <td>531.000000</td>\n",
       "      <td>16.000000</td>\n",
       "      <td>280.000000</td>\n",
       "      <td>1001.000000</td>\n",
       "      <td>...</td>\n",
       "      <td>1.000000</td>\n",
       "      <td>1.000000</td>\n",
       "      <td>1.000000</td>\n",
       "      <td>1.000000</td>\n",
       "      <td>1.000000</td>\n",
       "      <td>1.000000</td>\n",
       "      <td>1.000000</td>\n",
       "      <td>1.000000</td>\n",
       "      <td>1.000000</td>\n",
       "      <td>1.000000</td>\n",
       "    </tr>\n",
       "  </tbody>\n",
       "</table>\n",
       "<p>8 rows × 30 columns</p>\n",
       "</div>"
      ],
      "text/plain": [
       "         host_since  host_response_rate  host_listings_count     bathrooms  \\\n",
       "count  20089.000000        13078.000000         20089.000000  20085.000000   \n",
       "mean    1333.185972           94.886986             6.185375      1.128877   \n",
       "std      648.567251           15.195126            25.139764      0.363802   \n",
       "min        0.000000            0.000000             0.000000      0.000000   \n",
       "25%      841.000000          100.000000             1.000000      1.000000   \n",
       "50%     1362.000000          100.000000             1.000000      1.000000   \n",
       "75%     1826.000000          100.000000             1.000000      1.000000   \n",
       "max     3604.000000          100.000000           629.000000     15.000000   \n",
       "\n",
       "               beds  security_deposit  cleaning_fee  guests_included  \\\n",
       "count  20088.000000      13791.000000  16476.000000     20094.000000   \n",
       "mean       1.855486        218.808208     38.869750         1.464865   \n",
       "std        1.378805        307.346024     22.876275         0.915390   \n",
       "min        0.000000          0.000000      0.000000         1.000000   \n",
       "25%        1.000000         95.000000     25.000000         1.000000   \n",
       "50%        1.000000        150.000000     36.000000         1.000000   \n",
       "75%        2.000000        250.000000     50.000000         2.000000   \n",
       "max       32.000000       4736.000000    531.000000        16.000000   \n",
       "\n",
       "       extra_people  minimum_nights              ...                \\\n",
       "count  20094.000000    20094.000000              ...                 \n",
       "mean      11.221210        3.248134              ...                 \n",
       "std       22.034568       12.164794              ...                 \n",
       "min        0.000000        1.000000              ...                 \n",
       "25%        0.000000        2.000000              ...                 \n",
       "50%        0.000000        2.000000              ...                 \n",
       "75%       20.000000        3.000000              ...                 \n",
       "max      280.000000     1001.000000              ...                 \n",
       "\n",
       "       host_verifications_email  host_verifications_facebook  \\\n",
       "count              20020.000000                 20020.000000   \n",
       "mean                   0.933017                     0.246154   \n",
       "std                    0.249999                     0.430780   \n",
       "min                    0.000000                     0.000000   \n",
       "25%                    1.000000                     0.000000   \n",
       "50%                    1.000000                     0.000000   \n",
       "75%                    1.000000                     0.000000   \n",
       "max                    1.000000                     1.000000   \n",
       "\n",
       "       host_verifications_google  host_verifications_jumio  \\\n",
       "count               20020.000000              20020.000000   \n",
       "mean                    0.056693                  0.594306   \n",
       "std                     0.231261                  0.491038   \n",
       "min                     0.000000                  0.000000   \n",
       "25%                     0.000000                  0.000000   \n",
       "50%                     0.000000                  1.000000   \n",
       "75%                     0.000000                  1.000000   \n",
       "max                     1.000000                  1.000000   \n",
       "\n",
       "       host_verifications_manual_offline  host_verifications_manual_online  \\\n",
       "count                       20020.000000                      20020.000000   \n",
       "mean                            0.022028                          0.005794   \n",
       "std                             0.146778                          0.075901   \n",
       "min                             0.000000                          0.000000   \n",
       "25%                             0.000000                          0.000000   \n",
       "50%                             0.000000                          0.000000   \n",
       "75%                             0.000000                          0.000000   \n",
       "max                             1.000000                          1.000000   \n",
       "\n",
       "       host_verifications_phone  host_verifications_reviews  \\\n",
       "count              20020.000000                20020.000000   \n",
       "mean                   0.974126                    0.882617   \n",
       "std                    0.158764                    0.321884   \n",
       "min                    0.000000                    0.000000   \n",
       "25%                    1.000000                    1.000000   \n",
       "50%                    1.000000                    1.000000   \n",
       "75%                    1.000000                    1.000000   \n",
       "max                    1.000000                    1.000000   \n",
       "\n",
       "       host_verifications_sent_id  host_verifications_work_email  \n",
       "count                20020.000000                   20020.000000  \n",
       "mean                     0.000749                       0.124326  \n",
       "std                      0.027363                       0.329961  \n",
       "min                      0.000000                       0.000000  \n",
       "25%                      0.000000                       0.000000  \n",
       "50%                      0.000000                       0.000000  \n",
       "75%                      0.000000                       0.000000  \n",
       "max                      1.000000                       1.000000  \n",
       "\n",
       "[8 rows x 30 columns]"
      ]
     },
     "execution_count": 118,
     "metadata": {},
     "output_type": "execute_result"
    }
   ],
   "source": [
    "listings_clean.describe()"
   ]
  },
  {
   "cell_type": "markdown",
   "metadata": {},
   "source": [
    "# Regression"
   ]
  },
  {
   "cell_type": "markdown",
   "metadata": {},
   "source": [
    "In order to be able to build up a price model (on non time series data) I turn to linear regression analysis. This is not only the most widely used method for similar use cases, but also easy to interpret and present. I also tested the used OLS Regression against a Decision Tree model. The Regression model performed a bit worse but comparable to the Decision Tree. For interpretability, I went with visualizing the Regression's results."
   ]
  },
  {
   "cell_type": "code",
   "execution_count": 119,
   "metadata": {
    "collapsed": true
   },
   "outputs": [],
   "source": [
    "from sklearn.model_selection import train_test_split\n",
    "from sklearn.metrics import mean_squared_error\n",
    "from math import sqrt"
   ]
  },
  {
   "cell_type": "markdown",
   "metadata": {},
   "source": [
    "Statsmodel is a python library that supports a large number of models, similarly to STATA. The output of Statsmodel is easy to interpret."
   ]
  },
  {
   "cell_type": "code",
   "execution_count": 120,
   "metadata": {},
   "outputs": [
    {
     "name": "stderr",
     "output_type": "stream",
     "text": [
      "C:\\Anaconda3\\lib\\site-packages\\statsmodels\\compat\\pandas.py:56: FutureWarning: The pandas.core.datetools module is deprecated and will be removed in a future version. Please use the pandas.tseries module instead.\n",
      "  from pandas.core import datetools\n"
     ]
    }
   ],
   "source": [
    "import statsmodels.api as sm"
   ]
  },
  {
   "cell_type": "code",
   "execution_count": 121,
   "metadata": {},
   "outputs": [
    {
     "data": {
      "text/plain": [
       "host_response_rate                                               13078\n",
       "security_deposit                                                 13791\n",
       "cleaning_fee                                                     16476\n",
       "review_scores_location                                           17360\n",
       "first_review                                                     17656\n",
       "first_review_month                                               17656\n",
       "reviews_per_month                                                17656\n",
       "last_review_month                                                17658\n",
       "calendar_updated                                                 18349\n",
       "host_verifications_phone                                         20020\n",
       "host_verifications_reviews                                       20020\n",
       "host_verifications_manual_offline                                20020\n",
       "host_verifications_google                                        20020\n",
       "host_verifications_facebook                                      20020\n",
       "host_verifications_email                                         20020\n",
       "host_verifications_sent_id                                       20020\n",
       "host_verifications_work_email                                    20020\n",
       "host_verifications_manual_online                                 20020\n",
       "host_verifications_jumio                                         20020\n",
       "bathrooms                                                        20085\n",
       "beds                                                             20088\n",
       "host_since                                                       20089\n",
       "host_listings_count                                              20089\n",
       "property_type_Villa                                              20094\n",
       "property_type_Guesthouse                                         20094\n",
       "property_type_Guest suite                                        20094\n",
       "property_type_Earth house                                        20094\n",
       "property_type_Cottage                                            20094\n",
       "property_type_Condominium                                        20094\n",
       "property_type_Chalet                                             20094\n",
       "                                                                 ...  \n",
       "extra_people                                                     20094\n",
       "guests_included                                                  20094\n",
       "is_location_exact                                                20094\n",
       "host_identity_verified                                           20094\n",
       "host_has_profile_pic                                             20094\n",
       "host_is_superhost                                                20094\n",
       "host_response_time_within a few hours                            20094\n",
       "neighbourhood_cleansed_Bijlmer-Centrum                           20094\n",
       "neighbourhood_cleansed_Bijlmer-Oost                              20094\n",
       "neighbourhood_cleansed_Bos en Lommer                             20094\n",
       "neighbourhood_cleansed_Zuid                                      20094\n",
       "neighbourhood_cleansed_Westerpark                                20094\n",
       "neighbourhood_cleansed_Watergraafsmeer                           20094\n",
       "neighbourhood_cleansed_Slotervaart                               20094\n",
       "neighbourhood_cleansed_Oud-Oost                                  20094\n",
       "neighbourhood_cleansed_Oud-Noord                                 20094\n",
       "neighbourhood_cleansed_Osdorp                                    20094\n",
       "neighbourhood_cleansed_Oostelijk Havengebied - Indische Buurt    20094\n",
       "market_Other (International)                                     20094\n",
       "neighbourhood_cleansed_Noord-West                                20094\n",
       "neighbourhood_cleansed_IJburg - Zeeburgereiland                  20094\n",
       "neighbourhood_cleansed_Geuzenveld - Slotermeer                   20094\n",
       "neighbourhood_cleansed_Gaasperdam - Driemond                     20094\n",
       "neighbourhood_cleansed_De Pijp - Rivierenbuurt                   20094\n",
       "neighbourhood_cleansed_De Aker - Nieuw Sloten                    20094\n",
       "neighbourhood_cleansed_Centrum-West                              20094\n",
       "neighbourhood_cleansed_Centrum-Oost                              20094\n",
       "neighbourhood_cleansed_Buitenveldert - Zuidas                    20094\n",
       "cancellation_policy_super_strict_30                              20094\n",
       "cancellation_policy_super_strict_60                              20094\n",
       "Length: 106, dtype: int64"
      ]
     },
     "execution_count": 121,
     "metadata": {},
     "output_type": "execute_result"
    }
   ],
   "source": [
    "listings_clean.count().sort_values()"
   ]
  },
  {
   "cell_type": "markdown",
   "metadata": {},
   "source": [
    "'host_since' and other vars will not be significant or have a real effect in the regression later on. Since these variables have a lot of missing values too and are narrowing the dataset I drop them here"
   ]
  },
  {
   "cell_type": "code",
   "execution_count": 122,
   "metadata": {
    "collapsed": true
   },
   "outputs": [],
   "source": [
    "listings_clean=listings_clean.drop(['host_since','host_response_rate','security_deposit','calendar_updated','cleaning_fee'], axis=1)"
   ]
  },
  {
   "cell_type": "code",
   "execution_count": 123,
   "metadata": {
    "collapsed": true
   },
   "outputs": [],
   "source": [
    "listings_clean=listings_clean.dropna()"
   ]
  },
  {
   "cell_type": "code",
   "execution_count": 124,
   "metadata": {},
   "outputs": [
    {
     "data": {
      "text/plain": [
       "(17311, 101)"
      ]
     },
     "execution_count": 124,
     "metadata": {},
     "output_type": "execute_result"
    }
   ],
   "source": [
    "listings_clean.shape"
   ]
  },
  {
   "cell_type": "code",
   "execution_count": 125,
   "metadata": {
    "collapsed": true
   },
   "outputs": [],
   "source": [
    "target = ['price_log']"
   ]
  },
  {
   "cell_type": "code",
   "execution_count": 126,
   "metadata": {
    "collapsed": true
   },
   "outputs": [],
   "source": [
    "y=listings_clean[target]"
   ]
  },
  {
   "cell_type": "code",
   "execution_count": 127,
   "metadata": {
    "collapsed": true
   },
   "outputs": [],
   "source": [
    "X= listings_clean.drop(target,  axis=1)"
   ]
  },
  {
   "cell_type": "markdown",
   "metadata": {},
   "source": [
    "Making sure that the intercept or constant is included."
   ]
  },
  {
   "cell_type": "code",
   "execution_count": 128,
   "metadata": {
    "collapsed": true
   },
   "outputs": [],
   "source": [
    "X = sm.add_constant(X)"
   ]
  },
  {
   "cell_type": "markdown",
   "metadata": {},
   "source": [
    "## To test the model, we create training and testing set"
   ]
  },
  {
   "cell_type": "code",
   "execution_count": 129,
   "metadata": {
    "collapsed": true
   },
   "outputs": [],
   "source": [
    "X_train, X_test, y_train, y_test = train_test_split(X, y, test_size=0.33, random_state=324)"
   ]
  },
  {
   "cell_type": "code",
   "execution_count": 130,
   "metadata": {},
   "outputs": [
    {
     "name": "stdout",
     "output_type": "stream",
     "text": [
      "                            OLS Regression Results                            \n",
      "==============================================================================\n",
      "Dep. Variable:              price_log   R-squared:                       0.517\n",
      "Model:                            OLS   Adj. R-squared:                  0.513\n",
      "Method:                 Least Squares   F-statistic:                     128.5\n",
      "Date:                Wed, 09 Jan 2019   Prob (F-statistic):               0.00\n",
      "Time:                        22:26:20   Log-Likelihood:                -3467.9\n",
      "No. Observations:               11598   AIC:                             7130.\n",
      "Df Residuals:                   11501   BIC:                             7844.\n",
      "Df Model:                          96                                         \n",
      "Covariance Type:            nonrobust                                         \n",
      "=================================================================================================================================\n",
      "                                                                    coef    std err          t      P>|t|      [0.025      0.975]\n",
      "---------------------------------------------------------------------------------------------------------------------------------\n",
      "const                                                             4.0610      0.105     38.835      0.000       3.856       4.266\n",
      "host_is_superhost                                                 0.0676      0.009      7.773      0.000       0.051       0.085\n",
      "host_listings_count                                              -0.0014      0.000     -9.335      0.000      -0.002      -0.001\n",
      "host_has_profile_pic                                              0.1984      0.091      2.176      0.030       0.020       0.377\n",
      "host_identity_verified                                            0.0069      0.008      0.851      0.395      -0.009       0.023\n",
      "is_location_exact                                                 0.0217      0.007      3.231      0.001       0.009       0.035\n",
      "bathrooms                                                         0.1141      0.009     12.510      0.000       0.096       0.132\n",
      "beds                                                              0.1158      0.003     41.303      0.000       0.110       0.121\n",
      "guests_included                                                   0.0386      0.004      9.376      0.000       0.031       0.047\n",
      "extra_people                                                     -0.0004      0.000     -2.463      0.014      -0.001   -7.67e-05\n",
      "minimum_nights                                                   -0.0005      0.000     -2.220      0.026      -0.001   -5.59e-05\n",
      "maximum_nights                                                -4.874e-06   2.86e-06     -1.703      0.089   -1.05e-05    7.36e-07\n",
      "availability_30                                                   0.0122      0.000     27.482      0.000       0.011       0.013\n",
      "number_of_reviews                                             -2.921e-05      0.000     -0.243      0.808      -0.000       0.000\n",
      "first_review                                                   6.571e-10   1.07e-10      6.115      0.000    4.46e-10    8.68e-10\n",
      "review_scores_location                                            0.0387      0.005      8.487      0.000       0.030       0.048\n",
      "instant_bookable                                                  0.0245      0.008      3.034      0.002       0.009       0.040\n",
      "require_guest_phone_verification                                  0.0133      0.023      0.569      0.570      -0.033       0.059\n",
      "reviews_per_month                                                -0.0228      0.004     -6.031      0.000      -0.030      -0.015\n",
      "is_weekly_price                                                   0.0291      0.011      2.559      0.010       0.007       0.051\n",
      "is_monthly_price                                                 -0.0301      0.014     -2.210      0.027      -0.057      -0.003\n",
      "first_review_month                                               -0.0038      0.001     -3.662      0.000      -0.006      -0.002\n",
      "last_review_month                                                 0.0016      0.001      1.177      0.239      -0.001       0.004\n",
      "host_verifications_email                                         -0.0049      0.013     -0.366      0.714      -0.031       0.021\n",
      "host_verifications_facebook                                       0.0194      0.007      2.715      0.007       0.005       0.033\n",
      "host_verifications_google                                         0.0125      0.014      0.872      0.383      -0.016       0.040\n",
      "host_verifications_jumio                                          0.0058      0.008      0.740      0.459      -0.010       0.021\n",
      "host_verifications_manual_offline                                -0.0054      0.023     -0.234      0.815      -0.051       0.040\n",
      "host_verifications_manual_online                                  0.0108      0.044      0.243      0.808      -0.076       0.098\n",
      "host_verifications_phone                                         -0.0464      0.021     -2.241      0.025      -0.087      -0.006\n",
      "host_verifications_reviews                                       -0.0323      0.014     -2.334      0.020      -0.059      -0.005\n",
      "host_verifications_sent_id                                       -0.1432      0.118     -1.215      0.224      -0.374       0.088\n",
      "host_verifications_work_email                                     0.0199      0.009      2.175      0.030       0.002       0.038\n",
      "host_response_time_a few days or more                            -0.0428      0.026     -1.659      0.097      -0.093       0.008\n",
      "host_response_time_within a day                                   0.0002      0.009      0.018      0.986      -0.018       0.018\n",
      "host_response_time_within a few hours                             0.0004      0.009      0.042      0.966      -0.017       0.018\n",
      "neighbourhood_cleansed_Bijlmer-Centrum                           -0.3384      0.043     -7.853      0.000      -0.423      -0.254\n",
      "neighbourhood_cleansed_Bijlmer-Oost                              -0.3427      0.044     -7.743      0.000      -0.429      -0.256\n",
      "neighbourhood_cleansed_Bos en Lommer                             -0.1391      0.015     -9.382      0.000      -0.168      -0.110\n",
      "neighbourhood_cleansed_Buitenveldert - Zuidas                    -0.1110      0.031     -3.574      0.000      -0.172      -0.050\n",
      "neighbourhood_cleansed_Centrum-Oost                               0.1638      0.013     12.715      0.000       0.139       0.189\n",
      "neighbourhood_cleansed_Centrum-West                               0.1921      0.012     16.341      0.000       0.169       0.215\n",
      "neighbourhood_cleansed_De Aker - Nieuw Sloten                    -0.2548      0.041     -6.284      0.000      -0.334      -0.175\n",
      "neighbourhood_cleansed_De Pijp - Rivierenbuurt                    0.0428      0.011      3.818      0.000       0.021       0.065\n",
      "neighbourhood_cleansed_Gaasperdam - Driemond                     -0.4034      0.039    -10.423      0.000      -0.479      -0.328\n",
      "neighbourhood_cleansed_Geuzenveld - Slotermeer                   -0.2489      0.033     -7.448      0.000      -0.314      -0.183\n",
      "neighbourhood_cleansed_IJburg - Zeeburgereiland                  -0.1827      0.023     -7.922      0.000      -0.228      -0.138\n",
      "neighbourhood_cleansed_Noord-Oost                                -0.2927      0.029     -9.933      0.000      -0.351      -0.235\n",
      "neighbourhood_cleansed_Noord-West                                -0.3140      0.027    -11.457      0.000      -0.368      -0.260\n",
      "neighbourhood_cleansed_Oostelijk Havengebied - Indische Buurt    -0.1123      0.016     -7.223      0.000      -0.143      -0.082\n",
      "neighbourhood_cleansed_Osdorp                                    -0.2322      0.037     -6.209      0.000      -0.305      -0.159\n",
      "neighbourhood_cleansed_Oud-Noord                                 -0.1975      0.020     -9.749      0.000      -0.237      -0.158\n",
      "neighbourhood_cleansed_Oud-Oost                                  -0.0321      0.014     -2.291      0.022      -0.060      -0.005\n",
      "neighbourhood_cleansed_Slotervaart                               -0.1633      0.024     -6.853      0.000      -0.210      -0.117\n",
      "neighbourhood_cleansed_Watergraafsmeer                           -0.1044      0.021     -5.040      0.000      -0.145      -0.064\n",
      "neighbourhood_cleansed_Westerpark                                -0.0067      0.013     -0.513      0.608      -0.032       0.019\n",
      "neighbourhood_cleansed_Zuid                                       0.0312      0.014      2.290      0.022       0.004       0.058\n",
      "market_Barcelona                                                 -0.1196      0.328     -0.365      0.715      -0.763       0.523\n",
      "market_Other (International)                                     -0.0382      0.124     -0.307      0.759      -0.282       0.206\n",
      "market_Vilnius                                                 9.987e-17    1.2e-15      0.083      0.934   -2.25e-15    2.45e-15\n",
      "property_type_Aparthotel                                          0.2869      0.331      0.868      0.385      -0.361       0.935\n",
      "property_type_Barn                                                0.3897      0.331      1.179      0.239      -0.258       1.038\n",
      "property_type_Bed and breakfast                                   0.1399      0.023      6.184      0.000       0.096       0.184\n",
      "property_type_Boat                                                0.0890      0.022      4.018      0.000       0.046       0.132\n",
      "property_type_Boutique hotel                                      0.2855      0.080      3.560      0.000       0.128       0.443\n",
      "property_type_Bungalow                                            0.1402      0.118      1.190      0.234      -0.091       0.371\n",
      "property_type_Cabin                                               0.0575      0.104      0.551      0.582      -0.147       0.262\n",
      "property_type_Camper/RV                                           0.1858      0.336      0.554      0.580      -0.472       0.844\n",
      "property_type_Campsite                                           -0.2343      0.329     -0.713      0.476      -0.879       0.410\n",
      "property_type_Casa particular (Cuba)                           7.837e-17   7.17e-16      0.109      0.913   -1.33e-15    1.48e-15\n",
      "property_type_Castle                                             -0.1526      0.328     -0.465      0.642      -0.796       0.491\n",
      "property_type_Chalet                                              0.0694      0.166      0.419      0.675      -0.255       0.394\n",
      "property_type_Condominium                                         0.0339      0.025      1.381      0.167      -0.014       0.082\n",
      "property_type_Cottage                                             0.1399      0.135      1.036      0.300      -0.125       0.405\n",
      "property_type_Earth house                                        -0.3399      0.328     -1.036      0.300      -0.983       0.303\n",
      "property_type_Guest suite                                         0.1557      0.035      4.441      0.000       0.087       0.224\n",
      "property_type_Guesthouse                                          0.1319      0.078      1.689      0.091      -0.021       0.285\n",
      "property_type_Hostel                                             -0.1838      0.135     -1.357      0.175      -0.449       0.082\n",
      "property_type_Hotel                                               0.8069      0.190      4.248      0.000       0.435       1.179\n",
      "property_type_House                                               0.0893      0.013      6.707      0.000       0.063       0.115\n",
      "property_type_Houseboat                                           0.2856      0.031      9.333      0.000       0.226       0.346\n",
      "property_type_Lighthouse                                          1.8427      0.329      5.605      0.000       1.198       2.487\n",
      "property_type_Loft                                                0.1095      0.022      4.958      0.000       0.066       0.153\n",
      "property_type_Other                                               0.0329      0.060      0.545      0.586      -0.085       0.151\n",
      "property_type_Serviced apartment                                  0.1066      0.074      1.440      0.150      -0.038       0.252\n",
      "property_type_Tent                                            -3.085e-16   1.48e-16     -2.084      0.037   -5.99e-16   -1.84e-17\n",
      "property_type_Tiny house                                         -0.1822      0.147     -1.237      0.216      -0.471       0.106\n",
      "property_type_Townhouse                                           0.1121      0.018      6.237      0.000       0.077       0.147\n",
      "property_type_Villa                                               0.2031      0.083      2.434      0.015       0.040       0.367\n",
      "property_type_Windmill                                            0.2846      0.329      0.865      0.387      -0.360       0.929\n",
      "property_type_Yurt                                             1.614e-17   1.61e-16      0.100      0.920      -3e-16    3.33e-16\n",
      "room_type_Private room                                           -0.4102      0.009    -44.092      0.000      -0.428      -0.392\n",
      "room_type_Shared room                                            -0.6518      0.056    -11.662      0.000      -0.761      -0.542\n",
      "bed_type_Airbed                                                   0.1023      0.147      0.696      0.486      -0.186       0.390\n",
      "bed_type_Couch                                                   -0.3151      0.166     -1.893      0.058      -0.641       0.011\n",
      "bed_type_Futon                                                   -0.1521      0.063     -2.397      0.017      -0.277      -0.028\n",
      "bed_type_Pull-out Sofa                                           -0.1244      0.036     -3.481      0.001      -0.195      -0.054\n",
      "cancellation_policy_flexible                                     -0.0557      0.009     -6.270      0.000      -0.073      -0.038\n",
      "cancellation_policy_moderate                                     -0.0317      0.007     -4.587      0.000      -0.045      -0.018\n",
      "cancellation_policy_super_strict_30                              -0.1232      0.236     -0.523      0.601      -0.585       0.339\n",
      "cancellation_policy_super_strict_60                               0.2210      0.134      1.643      0.100      -0.043       0.485\n",
      "==============================================================================\n",
      "Omnibus:                     1269.986   Durbin-Watson:                   1.989\n",
      "Prob(Omnibus):                  0.000   Jarque-Bera (JB):            11042.730\n",
      "Skew:                          -0.142   Prob(JB):                         0.00\n",
      "Kurtosis:                       7.772   Cond. No.                     8.39e+22\n",
      "==============================================================================\n",
      "\n",
      "Warnings:\n",
      "[1] Standard Errors assume that the covariance matrix of the errors is correctly specified.\n",
      "[2] The smallest eigenvalue is 9.87e-27. This might indicate that there are\n",
      "strong multicollinearity problems or that the design matrix is singular.\n"
     ]
    }
   ],
   "source": [
    "model = sm.OLS(y_train, X_train.astype(float), missing=\"drop\").fit()\n",
    "print(model.summary())"
   ]
  },
  {
   "cell_type": "code",
   "execution_count": 131,
   "metadata": {},
   "outputs": [
    {
     "data": {
      "text/plain": [
       "id\n",
       "2485539     5.32469\n",
       "21738474    4.62681\n",
       "19400778    4.86677\n",
       "20689222    4.60093\n",
       "2727573     4.80158\n",
       "dtype: object"
      ]
     },
     "execution_count": 131,
     "metadata": {},
     "output_type": "execute_result"
    }
   ],
   "source": [
    "y_prediction = model.predict(X_test)\n",
    "y_prediction.head()"
   ]
  },
  {
   "cell_type": "markdown",
   "metadata": {},
   "source": [
    "### Testing the model's accuracy\n",
    "Transforming the log pricing variable back to normal"
   ]
  },
  {
   "cell_type": "code",
   "execution_count": 132,
   "metadata": {
    "collapsed": true
   },
   "outputs": [],
   "source": [
    "RMSE = sqrt(mean_squared_error(y_true = np.exp(y_test[\"price_log\"]), y_pred = np.exp(y_prediction.astype(float))))"
   ]
  },
  {
   "cell_type": "code",
   "execution_count": 133,
   "metadata": {},
   "outputs": [
    {
     "data": {
      "text/plain": [
       "88.74690652098397"
      ]
     },
     "execution_count": 133,
     "metadata": {},
     "output_type": "execute_result"
    }
   ],
   "source": [
    "RMSE"
   ]
  },
  {
   "cell_type": "markdown",
   "metadata": {},
   "source": [
    "# Decision tree"
   ]
  },
  {
   "cell_type": "code",
   "execution_count": 134,
   "metadata": {
    "collapsed": true
   },
   "outputs": [],
   "source": [
    "from sklearn.tree import DecisionTreeRegressor"
   ]
  },
  {
   "cell_type": "code",
   "execution_count": 135,
   "metadata": {},
   "outputs": [
    {
     "data": {
      "text/plain": [
       "DecisionTreeRegressor(criterion='mse', max_depth=None, max_features=None,\n",
       "           max_leaf_nodes=20, min_impurity_decrease=0.0,\n",
       "           min_impurity_split=None, min_samples_leaf=1,\n",
       "           min_samples_split=2, min_weight_fraction_leaf=0.0,\n",
       "           presort=False, random_state=0, splitter='best')"
      ]
     },
     "execution_count": 135,
     "metadata": {},
     "output_type": "execute_result"
    }
   ],
   "source": [
    "tree_model = DecisionTreeRegressor(max_leaf_nodes=20, random_state=0)\n",
    "tree_model.fit(X_train, y_train)"
   ]
  },
  {
   "cell_type": "code",
   "execution_count": 136,
   "metadata": {},
   "outputs": [
    {
     "data": {
      "text/plain": [
       "array([5.04771132, 4.66305897, 5.04771132, ..., 5.30958728, 5.04576154,\n",
       "       4.66305897])"
      ]
     },
     "execution_count": 136,
     "metadata": {},
     "output_type": "execute_result"
    }
   ],
   "source": [
    "y_prediction = tree_model.predict(X_test)\n",
    "y_prediction"
   ]
  },
  {
   "cell_type": "code",
   "execution_count": 137,
   "metadata": {},
   "outputs": [
    {
     "data": {
      "text/plain": [
       "68.17215701905937"
      ]
     },
     "execution_count": 137,
     "metadata": {},
     "output_type": "execute_result"
    }
   ],
   "source": [
    "RMSE = sqrt(mean_squared_error(y_true = np.exp(y_test[\"price_log\"]), y_pred = np.exp(y_prediction.astype(float))))\n",
    "RMSE"
   ]
  },
  {
   "cell_type": "markdown",
   "metadata": {},
   "source": [
    "OLS Regression seems to perform a worse than the Decision Tree, although I chose to go with the Regression for interpretability."
   ]
  },
  {
   "cell_type": "markdown",
   "metadata": {},
   "source": [
    "### Visualization of the OLS results"
   ]
  },
  {
   "cell_type": "code",
   "execution_count": 138,
   "metadata": {},
   "outputs": [
    {
     "data": {
      "text/plain": [
       "const                     4.061039\n",
       "host_is_superhost         0.067568\n",
       "host_listings_count      -0.001389\n",
       "host_has_profile_pic      0.198363\n",
       "host_identity_verified    0.006924\n",
       "dtype: float64"
      ]
     },
     "execution_count": 138,
     "metadata": {},
     "output_type": "execute_result"
    }
   ],
   "source": [
    "model.params.head()"
   ]
  },
  {
   "cell_type": "code",
   "execution_count": 139,
   "metadata": {},
   "outputs": [
    {
     "data": {
      "text/plain": [
       "const                     0.000000e+00\n",
       "host_is_superhost         8.341848e-15\n",
       "host_listings_count       1.189281e-20\n",
       "host_has_profile_pic      2.957517e-02\n",
       "host_identity_verified    3.949766e-01\n",
       "dtype: float64"
      ]
     },
     "execution_count": 139,
     "metadata": {},
     "output_type": "execute_result"
    }
   ],
   "source": [
    "model.pvalues.head()"
   ]
  },
  {
   "cell_type": "code",
   "execution_count": 140,
   "metadata": {},
   "outputs": [
    {
     "data": {
      "text/html": [
       "<div>\n",
       "<style scoped>\n",
       "    .dataframe tbody tr th:only-of-type {\n",
       "        vertical-align: middle;\n",
       "    }\n",
       "\n",
       "    .dataframe tbody tr th {\n",
       "        vertical-align: top;\n",
       "    }\n",
       "\n",
       "    .dataframe thead th {\n",
       "        text-align: right;\n",
       "    }\n",
       "</style>\n",
       "<table border=\"1\" class=\"dataframe\">\n",
       "  <thead>\n",
       "    <tr style=\"text-align: right;\">\n",
       "      <th></th>\n",
       "      <th>0</th>\n",
       "      <th>1</th>\n",
       "    </tr>\n",
       "  </thead>\n",
       "  <tbody>\n",
       "    <tr>\n",
       "      <th>const</th>\n",
       "      <td>3.856063</td>\n",
       "      <td>4.266015</td>\n",
       "    </tr>\n",
       "    <tr>\n",
       "      <th>host_is_superhost</th>\n",
       "      <td>0.050528</td>\n",
       "      <td>0.084608</td>\n",
       "    </tr>\n",
       "    <tr>\n",
       "      <th>host_listings_count</th>\n",
       "      <td>-0.001681</td>\n",
       "      <td>-0.001098</td>\n",
       "    </tr>\n",
       "    <tr>\n",
       "      <th>host_has_profile_pic</th>\n",
       "      <td>0.019675</td>\n",
       "      <td>0.377050</td>\n",
       "    </tr>\n",
       "    <tr>\n",
       "      <th>host_identity_verified</th>\n",
       "      <td>-0.009031</td>\n",
       "      <td>0.022879</td>\n",
       "    </tr>\n",
       "  </tbody>\n",
       "</table>\n",
       "</div>"
      ],
      "text/plain": [
       "                               0         1\n",
       "const                   3.856063  4.266015\n",
       "host_is_superhost       0.050528  0.084608\n",
       "host_listings_count    -0.001681 -0.001098\n",
       "host_has_profile_pic    0.019675  0.377050\n",
       "host_identity_verified -0.009031  0.022879"
      ]
     },
     "execution_count": 140,
     "metadata": {},
     "output_type": "execute_result"
    }
   ],
   "source": [
    "model.conf_int(0.05).head()"
   ]
  },
  {
   "cell_type": "code",
   "execution_count": 141,
   "metadata": {
    "collapsed": true
   },
   "outputs": [],
   "source": [
    "model_data= pd.concat([model.params,model.conf_int(0.05),model.pvalues], axis=1)"
   ]
  },
  {
   "cell_type": "code",
   "execution_count": 142,
   "metadata": {
    "collapsed": true
   },
   "outputs": [],
   "source": [
    "model_data.columns=['parameter','conf_int0','conf_int1','p_value']"
   ]
  },
  {
   "cell_type": "code",
   "execution_count": 143,
   "metadata": {
    "collapsed": true
   },
   "outputs": [],
   "source": [
    "model_data[\"parameter\"] = model_data[\"parameter\"] * 100\n",
    "model_data[\"conf_int0\"] = model_data[\"conf_int0\"] * 100\n",
    "model_data[\"conf_int1\"] = model_data[\"conf_int1\"] * 100"
   ]
  },
  {
   "cell_type": "markdown",
   "metadata": {},
   "source": [
    "Filter for the significant variables"
   ]
  },
  {
   "cell_type": "code",
   "execution_count": 144,
   "metadata": {
    "collapsed": true
   },
   "outputs": [],
   "source": [
    "model_data= model_data[model_data['p_value']<0.05]"
   ]
  },
  {
   "cell_type": "markdown",
   "metadata": {},
   "source": [
    "For visualization purposes, I took only the parameters that had an effect higher than 0.03"
   ]
  },
  {
   "cell_type": "code",
   "execution_count": 145,
   "metadata": {
    "collapsed": true
   },
   "outputs": [],
   "source": [
    "model_data= model_data[abs(model_data['parameter'])>0.03]"
   ]
  },
  {
   "cell_type": "markdown",
   "metadata": {},
   "source": [
    "Delete the constant from the visualization"
   ]
  },
  {
   "cell_type": "code",
   "execution_count": 146,
   "metadata": {
    "collapsed": true
   },
   "outputs": [],
   "source": [
    "model_data=model_data.drop('const')"
   ]
  },
  {
   "cell_type": "code",
   "execution_count": 147,
   "metadata": {},
   "outputs": [
    {
     "name": "stderr",
     "output_type": "stream",
     "text": [
      "C:\\Anaconda3\\lib\\site-packages\\ipykernel_launcher.py:2: SettingWithCopyWarning: \n",
      "A value is trying to be set on a copy of a slice from a DataFrame\n",
      "\n",
      "See the caveats in the documentation: http://pandas.pydata.org/pandas-docs/stable/indexing.html#indexing-view-versus-copy\n",
      "  \n",
      "C:\\Anaconda3\\lib\\site-packages\\ipykernel_launcher.py:3: SettingWithCopyWarning: \n",
      "A value is trying to be set on a copy of a slice from a DataFrame\n",
      "\n",
      "See the caveats in the documentation: http://pandas.pydata.org/pandas-docs/stable/indexing.html#indexing-view-versus-copy\n",
      "  This is separate from the ipykernel package so we can avoid doing imports until\n",
      "C:\\Anaconda3\\lib\\site-packages\\ipykernel_launcher.py:4: SettingWithCopyWarning: \n",
      "A value is trying to be set on a copy of a slice from a DataFrame\n",
      "\n",
      "See the caveats in the documentation: http://pandas.pydata.org/pandas-docs/stable/indexing.html#indexing-view-versus-copy\n",
      "  after removing the cwd from sys.path.\n"
     ]
    },
    {
     "data": {
      "text/plain": [
       "darkmagenta      24\n",
       "chartreuse       20\n",
       "seagreen         11\n",
       "lightseagreen     2\n",
       "Name: colors, dtype: int64"
      ]
     },
     "execution_count": 147,
     "metadata": {},
     "output_type": "execute_result"
    }
   ],
   "source": [
    "model_data['colors']=\"darkmagenta\"\n",
    "model_data['colors'][model_data.index.str.contains('neighbourhood')] = \"chartreuse\"\n",
    "model_data['colors'][model_data.index.str.contains('property')] = \"seagreen\"\n",
    "model_data['colors'][model_data.index.str.contains('cancellation')] = \"lightseagreen\"\n",
    "\n",
    "model_data.colors.value_counts()"
   ]
  },
  {
   "cell_type": "code",
   "execution_count": 148,
   "metadata": {
    "collapsed": true
   },
   "outputs": [],
   "source": [
    "model_data.index=model_data.index.str.replace('cleansed_','')"
   ]
  },
  {
   "cell_type": "markdown",
   "metadata": {},
   "source": [
    "The following figure demonstrates not only the effect of different independent variables but also the confidence interval"
   ]
  },
  {
   "cell_type": "code",
   "execution_count": 149,
   "metadata": {},
   "outputs": [
    {
     "data": {
      "text/plain": [
       "Text(0.5,1,'Factors affecting the Price')"
      ]
     },
     "execution_count": 149,
     "metadata": {},
     "output_type": "execute_result"
    },
    {
     "data": {
      "image/png": "[encoded data removed]",
      "text/plain": [
       "<matplotlib.figure.Figure at 0x2ec0fabf208>"
      ]
     },
     "metadata": {},
     "output_type": "display_data"
    }
   ],
   "source": [
    "plt.figure(figsize=(10,10))\n",
    "plt.grid(True, which='major', axis='both', linestyle='--', linewidth=0.2)\n",
    "plt.errorbar(model_data['parameter'], model_data.index,  xerr=model_data['conf_int1']-model_data['parameter'], fmt='o', color='seagreen',\n",
    "                    ecolor='lightseagreen', elinewidth=3, capsize=1)\n",
    "plt.ylabel(\"Variables\")\n",
    "plt.xlabel(\"Percentage Change in the Price\")\n",
    "plt.title('Factors affecting the Price')"
   ]
  },
  {
   "cell_type": "code",
   "execution_count": 150,
   "metadata": {},
   "outputs": [
    {
     "data": {
      "text/plain": [
       "Text(0.5,1,'Factors affecting the Price')"
      ]
     },
     "execution_count": 150,
     "metadata": {},
     "output_type": "execute_result"
    },
    {
     "data": {
      "image/png": "[encoded data removed]",
      "text/plain": [
       "<matplotlib.figure.Figure at 0x2ec08976ac8>"
      ]
     },
     "metadata": {},
     "output_type": "display_data"
    }
   ],
   "source": [
    "model_data[\"parameter\"].plot(kind='barh', figsize=(10,10), color=model_data.colors.tolist())\n",
    "plt.ylabel(\"Variables\")\n",
    "plt.xlabel(\"Percentage Change in the Price\")\n",
    "plt.title('Factors affecting the Price')"
   ]
  },
  {
   "cell_type": "markdown",
   "metadata": {},
   "source": [
    "## How to interpret the results?\n",
    "Coefficients mean that price will be raised by this many percentage when the Factor changes with one unit. \n",
    "\n",
    "For example: \n",
    "- In the case of numeric factors, if the number of beds increases with 1, the price increases with 10 percent.\n",
    "- In the case of non-numeric or categorical variables, if the property type is lighthouse, the price increases with 180 percent compared to the reference category, which is always the most common type. The most common property type was Apartment."
   ]
  },
  {
   "cell_type": "markdown",
   "metadata": {},
   "source": [
    "## What do the results tell us?\n",
    "\n",
    "I would highlight the following points to focus on:\n",
    "- Neighbourhood is an important determining factor for the price. The more central a location is, the more it costs.\n",
    "- Specialty property types (such as Lighthouse, Boat, Villa) tend to cost much more than normal Apartments.\n",
    "- The price increases with the number of beds and bathrooms\n",
    "- Beds that are not real beds, but couches or futons tend to drag down the prices\n",
    "- If the host is verified and a superhost, that slightly increases the price"
   ]
  },
  {
   "cell_type": "markdown",
   "metadata": {},
   "source": [
    "# Word cloud"
   ]
  },
  {
   "cell_type": "code",
   "execution_count": 157,
   "metadata": {
    "collapsed": true
   },
   "outputs": [],
   "source": [
    "from wordcloud import WordCloud, STOPWORDS, ImageColorGenerator"
   ]
  },
  {
   "cell_type": "code",
   "execution_count": 158,
   "metadata": {
    "collapsed": true
   },
   "outputs": [],
   "source": [
    "from scipy.misc import imread"
   ]
  },
  {
   "cell_type": "markdown",
   "metadata": {},
   "source": [
    "Reading the image that will serve as a mask for the word cloud."
   ]
  },
  {
   "cell_type": "code",
   "execution_count": 160,
   "metadata": {},
   "outputs": [
    {
     "name": "stderr",
     "output_type": "stream",
     "text": [
      "C:\\Anaconda3\\lib\\site-packages\\ipykernel_launcher.py:1: DeprecationWarning: `imread` is deprecated!\n",
      "`imread` is deprecated in SciPy 1.0.0, and will be removed in 1.2.0.\n",
      "Use ``imageio.imread`` instead.\n",
      "  \"\"\"Entry point for launching an IPython kernel.\n"
     ]
    }
   ],
   "source": [
    "travel_mask = imread('hotel-icon.jpg', flatten=True)"
   ]
  },
  {
   "cell_type": "markdown",
   "metadata": {},
   "source": [
    "Creating one word cloud for the whole dataset"
   ]
  },
  {
   "cell_type": "code",
   "execution_count": 162,
   "metadata": {
    "collapsed": true
   },
   "outputs": [],
   "source": [
    "text=listings['description'].dropna().tolist()"
   ]
  },
  {
   "cell_type": "code",
   "execution_count": 163,
   "metadata": {
    "collapsed": true
   },
   "outputs": [],
   "source": [
    "text=' '.join(text)"
   ]
  },
  {
   "cell_type": "code",
   "execution_count": 164,
   "metadata": {},
   "outputs": [
    {
     "name": "stderr",
     "output_type": "stream",
     "text": [
      "C:\\Anaconda3\\lib\\site-packages\\wordcloud\\wordcloud.py:721: UserWarning: mask image should be unsigned byte between 0 and 255. Got a float array\n",
      "  warnings.warn(\"mask image should be unsigned byte between 0\"\n"
     ]
    },
    {
     "data": {
      "image/png": "[encoded data removed]",
      "text/plain": [
       "<matplotlib.figure.Figure at 0x2ec0e325080>"
      ]
     },
     "metadata": {},
     "output_type": "display_data"
    },
    {
     "data": {
      "text/plain": [
       "<wordcloud.wordcloud.WordCloud at 0x2ec0e3bd400>"
      ]
     },
     "execution_count": 164,
     "metadata": {},
     "output_type": "execute_result"
    }
   ],
   "source": [
    "wordcloud = WordCloud(background_color=\"white\", mask=travel_mask, max_font_size=50, max_words=80)\n",
    "wordcloud.generate(text)\n",
    "plt.figure()\n",
    "plt.imshow(wordcloud, interpolation=\"bilinear\")\n",
    "plt.axis(\"off\")\n",
    "plt.show()\n",
    "wordcloud.to_file('wordcloud_overall.png')"
   ]
  },
  {
   "cell_type": "markdown",
   "metadata": {},
   "source": [
    "# Future Directions"
   ]
  },
  {
   "cell_type": "markdown",
   "metadata": {},
   "source": [
    "From the whole analysis (regression and wordcloud), we can conclude that location is probably a very important driving factor for prices. \n",
    "- based on longitude and latitude we could measure the distance from thee center (for example by attaching travel time calculated using google maps API)\n",
    "\n",
    "Due to the large amount of textual information additional features could be added to the model as a more sophisticated tool to to see customer's taste.\n",
    "- build a document term matrix and use the most characteristic words in the regression (as center, equipped, beautiful, garden etc.)\n",
    "- create a topic model to capture dominant topics\n",
    "\n",
    "The specification of the regression could be improved\n",
    "- include quadratic forms to account for non-linearity\n",
    "- clean each independent variable through outlier detection\n",
    "- more sophisticated machine learning models could be used as the Decision Tree above"
   ]
  }
 ],
 "metadata": {
  "kernelspec": {
   "display_name": "Python 3",
   "language": "python",
   "name": "python3"
  },
  "language_info": {
   "codemirror_mode": {
    "name": "ipython",
    "version": 3
   },
   "file_extension": ".py",
   "mimetype": "text/x-python",
   "name": "python",
   "nbconvert_exporter": "python",
   "pygments_lexer": "ipython3",
   "version": "3.6.2"
  }
 },
 "nbformat": 4,
 "nbformat_minor": 2
}
